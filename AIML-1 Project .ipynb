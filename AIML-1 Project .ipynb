{
 "cells": [
  {
   "cell_type": "markdown",
   "metadata": {},
   "source": [
    "# \n",
    "I will apply various classification algorithms to predict the payment for credit card for next month is defaulted or not\n",
    "\n",
    "\n",
    "The bank is facing issues in tracking the regular payment of credit card thereby leading to increase in the involvement of their assets. I, as a Data Scientist have to create a model to predict the customers who will default for the next month."
   ]
  },
  {
   "cell_type": "code",
   "execution_count": 1,
   "metadata": {},
   "outputs": [],
   "source": [
    "import pandas as pd\n",
    "import numpy as np\n",
    "import matplotlib.pyplot as plt\n",
    "import seaborn as sns\n",
    "import warnings # to ignore warning\n",
    "warnings.filterwarnings(\"ignore\", category=DeprecationWarning)\n",
    "warnings.filterwarnings(\"ignore\", category=FutureWarning)\n",
    "%matplotlib inline"
   ]
  },
  {
   "cell_type": "code",
   "execution_count": 2,
   "metadata": {},
   "outputs": [],
   "source": [
    "credit = pd.read_csv(\"UCI_Credit_Card.csv\")"
   ]
  },
  {
   "cell_type": "code",
   "execution_count": 3,
   "metadata": {},
   "outputs": [
    {
     "data": {
      "text/plain": [
       "(30000, 25)"
      ]
     },
     "execution_count": 3,
     "metadata": {},
     "output_type": "execute_result"
    }
   ],
   "source": [
    "credit.shape"
   ]
  },
  {
   "cell_type": "code",
   "execution_count": 4,
   "metadata": {},
   "outputs": [
    {
     "data": {
      "text/html": [
       "<div>\n",
       "<style scoped>\n",
       "    .dataframe tbody tr th:only-of-type {\n",
       "        vertical-align: middle;\n",
       "    }\n",
       "\n",
       "    .dataframe tbody tr th {\n",
       "        vertical-align: top;\n",
       "    }\n",
       "\n",
       "    .dataframe thead th {\n",
       "        text-align: right;\n",
       "    }\n",
       "</style>\n",
       "<table border=\"1\" class=\"dataframe\">\n",
       "  <thead>\n",
       "    <tr style=\"text-align: right;\">\n",
       "      <th></th>\n",
       "      <th>ID</th>\n",
       "      <th>LIMIT_BAL</th>\n",
       "      <th>SEX</th>\n",
       "      <th>EDUCATION</th>\n",
       "      <th>MARRIAGE</th>\n",
       "      <th>AGE</th>\n",
       "      <th>PAY_0</th>\n",
       "      <th>PAY_2</th>\n",
       "      <th>PAY_3</th>\n",
       "      <th>PAY_4</th>\n",
       "      <th>...</th>\n",
       "      <th>BILL_AMT4</th>\n",
       "      <th>BILL_AMT5</th>\n",
       "      <th>BILL_AMT6</th>\n",
       "      <th>PAY_AMT1</th>\n",
       "      <th>PAY_AMT2</th>\n",
       "      <th>PAY_AMT3</th>\n",
       "      <th>PAY_AMT4</th>\n",
       "      <th>PAY_AMT5</th>\n",
       "      <th>PAY_AMT6</th>\n",
       "      <th>default.payment.next.month</th>\n",
       "    </tr>\n",
       "  </thead>\n",
       "  <tbody>\n",
       "    <tr>\n",
       "      <th>0</th>\n",
       "      <td>1</td>\n",
       "      <td>20000.0</td>\n",
       "      <td>2</td>\n",
       "      <td>2</td>\n",
       "      <td>1</td>\n",
       "      <td>24</td>\n",
       "      <td>2</td>\n",
       "      <td>2</td>\n",
       "      <td>-1</td>\n",
       "      <td>-1</td>\n",
       "      <td>...</td>\n",
       "      <td>0.0</td>\n",
       "      <td>0.0</td>\n",
       "      <td>0.0</td>\n",
       "      <td>0.0</td>\n",
       "      <td>689.0</td>\n",
       "      <td>0.0</td>\n",
       "      <td>0.0</td>\n",
       "      <td>0.0</td>\n",
       "      <td>0.0</td>\n",
       "      <td>1</td>\n",
       "    </tr>\n",
       "    <tr>\n",
       "      <th>1</th>\n",
       "      <td>2</td>\n",
       "      <td>120000.0</td>\n",
       "      <td>2</td>\n",
       "      <td>2</td>\n",
       "      <td>2</td>\n",
       "      <td>26</td>\n",
       "      <td>-1</td>\n",
       "      <td>2</td>\n",
       "      <td>0</td>\n",
       "      <td>0</td>\n",
       "      <td>...</td>\n",
       "      <td>3272.0</td>\n",
       "      <td>3455.0</td>\n",
       "      <td>3261.0</td>\n",
       "      <td>0.0</td>\n",
       "      <td>1000.0</td>\n",
       "      <td>1000.0</td>\n",
       "      <td>1000.0</td>\n",
       "      <td>0.0</td>\n",
       "      <td>2000.0</td>\n",
       "      <td>1</td>\n",
       "    </tr>\n",
       "    <tr>\n",
       "      <th>2</th>\n",
       "      <td>3</td>\n",
       "      <td>90000.0</td>\n",
       "      <td>2</td>\n",
       "      <td>2</td>\n",
       "      <td>2</td>\n",
       "      <td>34</td>\n",
       "      <td>0</td>\n",
       "      <td>0</td>\n",
       "      <td>0</td>\n",
       "      <td>0</td>\n",
       "      <td>...</td>\n",
       "      <td>14331.0</td>\n",
       "      <td>14948.0</td>\n",
       "      <td>15549.0</td>\n",
       "      <td>1518.0</td>\n",
       "      <td>1500.0</td>\n",
       "      <td>1000.0</td>\n",
       "      <td>1000.0</td>\n",
       "      <td>1000.0</td>\n",
       "      <td>5000.0</td>\n",
       "      <td>0</td>\n",
       "    </tr>\n",
       "    <tr>\n",
       "      <th>3</th>\n",
       "      <td>4</td>\n",
       "      <td>50000.0</td>\n",
       "      <td>2</td>\n",
       "      <td>2</td>\n",
       "      <td>1</td>\n",
       "      <td>37</td>\n",
       "      <td>0</td>\n",
       "      <td>0</td>\n",
       "      <td>0</td>\n",
       "      <td>0</td>\n",
       "      <td>...</td>\n",
       "      <td>28314.0</td>\n",
       "      <td>28959.0</td>\n",
       "      <td>29547.0</td>\n",
       "      <td>2000.0</td>\n",
       "      <td>2019.0</td>\n",
       "      <td>1200.0</td>\n",
       "      <td>1100.0</td>\n",
       "      <td>1069.0</td>\n",
       "      <td>1000.0</td>\n",
       "      <td>0</td>\n",
       "    </tr>\n",
       "    <tr>\n",
       "      <th>4</th>\n",
       "      <td>5</td>\n",
       "      <td>50000.0</td>\n",
       "      <td>1</td>\n",
       "      <td>2</td>\n",
       "      <td>1</td>\n",
       "      <td>57</td>\n",
       "      <td>-1</td>\n",
       "      <td>0</td>\n",
       "      <td>-1</td>\n",
       "      <td>0</td>\n",
       "      <td>...</td>\n",
       "      <td>20940.0</td>\n",
       "      <td>19146.0</td>\n",
       "      <td>19131.0</td>\n",
       "      <td>2000.0</td>\n",
       "      <td>36681.0</td>\n",
       "      <td>10000.0</td>\n",
       "      <td>9000.0</td>\n",
       "      <td>689.0</td>\n",
       "      <td>679.0</td>\n",
       "      <td>0</td>\n",
       "    </tr>\n",
       "  </tbody>\n",
       "</table>\n",
       "<p>5 rows × 25 columns</p>\n",
       "</div>"
      ],
      "text/plain": [
       "   ID  LIMIT_BAL  SEX  EDUCATION  MARRIAGE  AGE  PAY_0  PAY_2  PAY_3  PAY_4  \\\n",
       "0   1    20000.0    2          2         1   24      2      2     -1     -1   \n",
       "1   2   120000.0    2          2         2   26     -1      2      0      0   \n",
       "2   3    90000.0    2          2         2   34      0      0      0      0   \n",
       "3   4    50000.0    2          2         1   37      0      0      0      0   \n",
       "4   5    50000.0    1          2         1   57     -1      0     -1      0   \n",
       "\n",
       "   ...  BILL_AMT4  BILL_AMT5  BILL_AMT6  PAY_AMT1  PAY_AMT2  PAY_AMT3  \\\n",
       "0  ...        0.0        0.0        0.0       0.0     689.0       0.0   \n",
       "1  ...     3272.0     3455.0     3261.0       0.0    1000.0    1000.0   \n",
       "2  ...    14331.0    14948.0    15549.0    1518.0    1500.0    1000.0   \n",
       "3  ...    28314.0    28959.0    29547.0    2000.0    2019.0    1200.0   \n",
       "4  ...    20940.0    19146.0    19131.0    2000.0   36681.0   10000.0   \n",
       "\n",
       "   PAY_AMT4  PAY_AMT5  PAY_AMT6  default.payment.next.month  \n",
       "0       0.0       0.0       0.0                           1  \n",
       "1    1000.0       0.0    2000.0                           1  \n",
       "2    1000.0    1000.0    5000.0                           0  \n",
       "3    1100.0    1069.0    1000.0                           0  \n",
       "4    9000.0     689.0     679.0                           0  \n",
       "\n",
       "[5 rows x 25 columns]"
      ]
     },
     "execution_count": 4,
     "metadata": {},
     "output_type": "execute_result"
    }
   ],
   "source": [
    "credit.head() ### Glimpse of the data"
   ]
  },
  {
   "cell_type": "code",
   "execution_count": 5,
   "metadata": {},
   "outputs": [
    {
     "data": {
      "text/html": [
       "<div>\n",
       "<style scoped>\n",
       "    .dataframe tbody tr th:only-of-type {\n",
       "        vertical-align: middle;\n",
       "    }\n",
       "\n",
       "    .dataframe tbody tr th {\n",
       "        vertical-align: top;\n",
       "    }\n",
       "\n",
       "    .dataframe thead th {\n",
       "        text-align: right;\n",
       "    }\n",
       "</style>\n",
       "<table border=\"1\" class=\"dataframe\">\n",
       "  <thead>\n",
       "    <tr style=\"text-align: right;\">\n",
       "      <th></th>\n",
       "      <th>SEX</th>\n",
       "      <th>EDUCATION</th>\n",
       "      <th>MARRIAGE</th>\n",
       "    </tr>\n",
       "  </thead>\n",
       "  <tbody>\n",
       "    <tr>\n",
       "      <th>count</th>\n",
       "      <td>30000.000000</td>\n",
       "      <td>30000.000000</td>\n",
       "      <td>30000.000000</td>\n",
       "    </tr>\n",
       "    <tr>\n",
       "      <th>mean</th>\n",
       "      <td>1.603733</td>\n",
       "      <td>1.853133</td>\n",
       "      <td>1.551867</td>\n",
       "    </tr>\n",
       "    <tr>\n",
       "      <th>std</th>\n",
       "      <td>0.489129</td>\n",
       "      <td>0.790349</td>\n",
       "      <td>0.521970</td>\n",
       "    </tr>\n",
       "    <tr>\n",
       "      <th>min</th>\n",
       "      <td>1.000000</td>\n",
       "      <td>0.000000</td>\n",
       "      <td>0.000000</td>\n",
       "    </tr>\n",
       "    <tr>\n",
       "      <th>25%</th>\n",
       "      <td>1.000000</td>\n",
       "      <td>1.000000</td>\n",
       "      <td>1.000000</td>\n",
       "    </tr>\n",
       "    <tr>\n",
       "      <th>50%</th>\n",
       "      <td>2.000000</td>\n",
       "      <td>2.000000</td>\n",
       "      <td>2.000000</td>\n",
       "    </tr>\n",
       "    <tr>\n",
       "      <th>75%</th>\n",
       "      <td>2.000000</td>\n",
       "      <td>2.000000</td>\n",
       "      <td>2.000000</td>\n",
       "    </tr>\n",
       "    <tr>\n",
       "      <th>max</th>\n",
       "      <td>2.000000</td>\n",
       "      <td>6.000000</td>\n",
       "      <td>3.000000</td>\n",
       "    </tr>\n",
       "  </tbody>\n",
       "</table>\n",
       "</div>"
      ],
      "text/plain": [
       "                SEX     EDUCATION      MARRIAGE\n",
       "count  30000.000000  30000.000000  30000.000000\n",
       "mean       1.603733      1.853133      1.551867\n",
       "std        0.489129      0.790349      0.521970\n",
       "min        1.000000      0.000000      0.000000\n",
       "25%        1.000000      1.000000      1.000000\n",
       "50%        2.000000      2.000000      2.000000\n",
       "75%        2.000000      2.000000      2.000000\n",
       "max        2.000000      6.000000      3.000000"
      ]
     },
     "execution_count": 5,
     "metadata": {},
     "output_type": "execute_result"
    }
   ],
   "source": [
    "# Categorical variables description\n",
    "credit[['SEX', 'EDUCATION', 'MARRIAGE']].describe()"
   ]
  },
  {
   "cell_type": "code",
   "execution_count": 6,
   "metadata": {},
   "outputs": [
    {
     "data": {
      "text/html": [
       "<div>\n",
       "<style scoped>\n",
       "    .dataframe tbody tr th:only-of-type {\n",
       "        vertical-align: middle;\n",
       "    }\n",
       "\n",
       "    .dataframe tbody tr th {\n",
       "        vertical-align: top;\n",
       "    }\n",
       "\n",
       "    .dataframe thead th {\n",
       "        text-align: right;\n",
       "    }\n",
       "</style>\n",
       "<table border=\"1\" class=\"dataframe\">\n",
       "  <thead>\n",
       "    <tr style=\"text-align: right;\">\n",
       "      <th></th>\n",
       "      <th>PAY_0</th>\n",
       "      <th>PAY_2</th>\n",
       "      <th>PAY_3</th>\n",
       "      <th>PAY_4</th>\n",
       "      <th>PAY_5</th>\n",
       "      <th>PAY_6</th>\n",
       "    </tr>\n",
       "  </thead>\n",
       "  <tbody>\n",
       "    <tr>\n",
       "      <th>count</th>\n",
       "      <td>30000.000000</td>\n",
       "      <td>30000.000000</td>\n",
       "      <td>30000.000000</td>\n",
       "      <td>30000.000000</td>\n",
       "      <td>30000.000000</td>\n",
       "      <td>30000.000000</td>\n",
       "    </tr>\n",
       "    <tr>\n",
       "      <th>mean</th>\n",
       "      <td>-0.016700</td>\n",
       "      <td>-0.133767</td>\n",
       "      <td>-0.166200</td>\n",
       "      <td>-0.220667</td>\n",
       "      <td>-0.266200</td>\n",
       "      <td>-0.291100</td>\n",
       "    </tr>\n",
       "    <tr>\n",
       "      <th>std</th>\n",
       "      <td>1.123802</td>\n",
       "      <td>1.197186</td>\n",
       "      <td>1.196868</td>\n",
       "      <td>1.169139</td>\n",
       "      <td>1.133187</td>\n",
       "      <td>1.149988</td>\n",
       "    </tr>\n",
       "    <tr>\n",
       "      <th>min</th>\n",
       "      <td>-2.000000</td>\n",
       "      <td>-2.000000</td>\n",
       "      <td>-2.000000</td>\n",
       "      <td>-2.000000</td>\n",
       "      <td>-2.000000</td>\n",
       "      <td>-2.000000</td>\n",
       "    </tr>\n",
       "    <tr>\n",
       "      <th>25%</th>\n",
       "      <td>-1.000000</td>\n",
       "      <td>-1.000000</td>\n",
       "      <td>-1.000000</td>\n",
       "      <td>-1.000000</td>\n",
       "      <td>-1.000000</td>\n",
       "      <td>-1.000000</td>\n",
       "    </tr>\n",
       "    <tr>\n",
       "      <th>50%</th>\n",
       "      <td>0.000000</td>\n",
       "      <td>0.000000</td>\n",
       "      <td>0.000000</td>\n",
       "      <td>0.000000</td>\n",
       "      <td>0.000000</td>\n",
       "      <td>0.000000</td>\n",
       "    </tr>\n",
       "    <tr>\n",
       "      <th>75%</th>\n",
       "      <td>0.000000</td>\n",
       "      <td>0.000000</td>\n",
       "      <td>0.000000</td>\n",
       "      <td>0.000000</td>\n",
       "      <td>0.000000</td>\n",
       "      <td>0.000000</td>\n",
       "    </tr>\n",
       "    <tr>\n",
       "      <th>max</th>\n",
       "      <td>8.000000</td>\n",
       "      <td>8.000000</td>\n",
       "      <td>8.000000</td>\n",
       "      <td>8.000000</td>\n",
       "      <td>8.000000</td>\n",
       "      <td>8.000000</td>\n",
       "    </tr>\n",
       "  </tbody>\n",
       "</table>\n",
       "</div>"
      ],
      "text/plain": [
       "              PAY_0         PAY_2         PAY_3         PAY_4         PAY_5  \\\n",
       "count  30000.000000  30000.000000  30000.000000  30000.000000  30000.000000   \n",
       "mean      -0.016700     -0.133767     -0.166200     -0.220667     -0.266200   \n",
       "std        1.123802      1.197186      1.196868      1.169139      1.133187   \n",
       "min       -2.000000     -2.000000     -2.000000     -2.000000     -2.000000   \n",
       "25%       -1.000000     -1.000000     -1.000000     -1.000000     -1.000000   \n",
       "50%        0.000000      0.000000      0.000000      0.000000      0.000000   \n",
       "75%        0.000000      0.000000      0.000000      0.000000      0.000000   \n",
       "max        8.000000      8.000000      8.000000      8.000000      8.000000   \n",
       "\n",
       "              PAY_6  \n",
       "count  30000.000000  \n",
       "mean      -0.291100  \n",
       "std        1.149988  \n",
       "min       -2.000000  \n",
       "25%       -1.000000  \n",
       "50%        0.000000  \n",
       "75%        0.000000  \n",
       "max        8.000000  "
      ]
     },
     "execution_count": 6,
     "metadata": {},
     "output_type": "execute_result"
    }
   ],
   "source": [
    "# Payment delay description\n",
    "credit[['PAY_0', 'PAY_2', 'PAY_3', 'PAY_4', 'PAY_5', 'PAY_6']].describe()"
   ]
  },
  {
   "cell_type": "code",
   "execution_count": 7,
   "metadata": {},
   "outputs": [
    {
     "data": {
      "text/html": [
       "<div>\n",
       "<style scoped>\n",
       "    .dataframe tbody tr th:only-of-type {\n",
       "        vertical-align: middle;\n",
       "    }\n",
       "\n",
       "    .dataframe tbody tr th {\n",
       "        vertical-align: top;\n",
       "    }\n",
       "\n",
       "    .dataframe thead th {\n",
       "        text-align: right;\n",
       "    }\n",
       "</style>\n",
       "<table border=\"1\" class=\"dataframe\">\n",
       "  <thead>\n",
       "    <tr style=\"text-align: right;\">\n",
       "      <th></th>\n",
       "      <th>PAY_AMT1</th>\n",
       "      <th>PAY_AMT2</th>\n",
       "      <th>PAY_AMT3</th>\n",
       "      <th>PAY_AMT4</th>\n",
       "      <th>PAY_AMT5</th>\n",
       "      <th>PAY_AMT6</th>\n",
       "    </tr>\n",
       "  </thead>\n",
       "  <tbody>\n",
       "    <tr>\n",
       "      <th>count</th>\n",
       "      <td>30000.000000</td>\n",
       "      <td>3.000000e+04</td>\n",
       "      <td>30000.00000</td>\n",
       "      <td>30000.000000</td>\n",
       "      <td>30000.000000</td>\n",
       "      <td>30000.000000</td>\n",
       "    </tr>\n",
       "    <tr>\n",
       "      <th>mean</th>\n",
       "      <td>5663.580500</td>\n",
       "      <td>5.921163e+03</td>\n",
       "      <td>5225.68150</td>\n",
       "      <td>4826.076867</td>\n",
       "      <td>4799.387633</td>\n",
       "      <td>5215.502567</td>\n",
       "    </tr>\n",
       "    <tr>\n",
       "      <th>std</th>\n",
       "      <td>16563.280354</td>\n",
       "      <td>2.304087e+04</td>\n",
       "      <td>17606.96147</td>\n",
       "      <td>15666.159744</td>\n",
       "      <td>15278.305679</td>\n",
       "      <td>17777.465775</td>\n",
       "    </tr>\n",
       "    <tr>\n",
       "      <th>min</th>\n",
       "      <td>0.000000</td>\n",
       "      <td>0.000000e+00</td>\n",
       "      <td>0.00000</td>\n",
       "      <td>0.000000</td>\n",
       "      <td>0.000000</td>\n",
       "      <td>0.000000</td>\n",
       "    </tr>\n",
       "    <tr>\n",
       "      <th>25%</th>\n",
       "      <td>1000.000000</td>\n",
       "      <td>8.330000e+02</td>\n",
       "      <td>390.00000</td>\n",
       "      <td>296.000000</td>\n",
       "      <td>252.500000</td>\n",
       "      <td>117.750000</td>\n",
       "    </tr>\n",
       "    <tr>\n",
       "      <th>50%</th>\n",
       "      <td>2100.000000</td>\n",
       "      <td>2.009000e+03</td>\n",
       "      <td>1800.00000</td>\n",
       "      <td>1500.000000</td>\n",
       "      <td>1500.000000</td>\n",
       "      <td>1500.000000</td>\n",
       "    </tr>\n",
       "    <tr>\n",
       "      <th>75%</th>\n",
       "      <td>5006.000000</td>\n",
       "      <td>5.000000e+03</td>\n",
       "      <td>4505.00000</td>\n",
       "      <td>4013.250000</td>\n",
       "      <td>4031.500000</td>\n",
       "      <td>4000.000000</td>\n",
       "    </tr>\n",
       "    <tr>\n",
       "      <th>max</th>\n",
       "      <td>873552.000000</td>\n",
       "      <td>1.684259e+06</td>\n",
       "      <td>896040.00000</td>\n",
       "      <td>621000.000000</td>\n",
       "      <td>426529.000000</td>\n",
       "      <td>528666.000000</td>\n",
       "    </tr>\n",
       "  </tbody>\n",
       "</table>\n",
       "</div>"
      ],
      "text/plain": [
       "            PAY_AMT1      PAY_AMT2      PAY_AMT3       PAY_AMT4  \\\n",
       "count   30000.000000  3.000000e+04   30000.00000   30000.000000   \n",
       "mean     5663.580500  5.921163e+03    5225.68150    4826.076867   \n",
       "std     16563.280354  2.304087e+04   17606.96147   15666.159744   \n",
       "min         0.000000  0.000000e+00       0.00000       0.000000   \n",
       "25%      1000.000000  8.330000e+02     390.00000     296.000000   \n",
       "50%      2100.000000  2.009000e+03    1800.00000    1500.000000   \n",
       "75%      5006.000000  5.000000e+03    4505.00000    4013.250000   \n",
       "max    873552.000000  1.684259e+06  896040.00000  621000.000000   \n",
       "\n",
       "            PAY_AMT5       PAY_AMT6  \n",
       "count   30000.000000   30000.000000  \n",
       "mean     4799.387633    5215.502567  \n",
       "std     15278.305679   17777.465775  \n",
       "min         0.000000       0.000000  \n",
       "25%       252.500000     117.750000  \n",
       "50%      1500.000000    1500.000000  \n",
       "75%      4031.500000    4000.000000  \n",
       "max    426529.000000  528666.000000  "
      ]
     },
     "execution_count": 7,
     "metadata": {},
     "output_type": "execute_result"
    }
   ],
   "source": [
    "#Previous Payment Description\n",
    "credit[['PAY_AMT1', 'PAY_AMT2', 'PAY_AMT3', 'PAY_AMT4', 'PAY_AMT5', 'PAY_AMT6']].describe()"
   ]
  },
  {
   "cell_type": "code",
   "execution_count": 8,
   "metadata": {},
   "outputs": [
    {
     "data": {
      "text/plain": [
       "count      30000.000000\n",
       "mean      167484.322667\n",
       "std       129747.661567\n",
       "min        10000.000000\n",
       "25%        50000.000000\n",
       "50%       140000.000000\n",
       "75%       240000.000000\n",
       "max      1000000.000000\n",
       "Name: LIMIT_BAL, dtype: float64"
      ]
     },
     "execution_count": 8,
     "metadata": {},
     "output_type": "execute_result"
    }
   ],
   "source": [
    "credit.LIMIT_BAL.describe()"
   ]
  },
  {
   "cell_type": "code",
   "execution_count": 9,
   "metadata": {},
   "outputs": [],
   "source": [
    "# Removing ID variable as it has no relevnce for logistic regression model\n",
    "credit.drop(['ID'],axis=1, inplace=True)"
   ]
  },
  {
   "cell_type": "code",
   "execution_count": 10,
   "metadata": {},
   "outputs": [
    {
     "data": {
      "text/plain": [
       "LIMIT_BAL                     0\n",
       "SEX                           0\n",
       "EDUCATION                     0\n",
       "MARRIAGE                      0\n",
       "AGE                           0\n",
       "PAY_0                         0\n",
       "PAY_2                         0\n",
       "PAY_3                         0\n",
       "PAY_4                         0\n",
       "PAY_5                         0\n",
       "PAY_6                         0\n",
       "BILL_AMT1                     0\n",
       "BILL_AMT2                     0\n",
       "BILL_AMT3                     0\n",
       "BILL_AMT4                     0\n",
       "BILL_AMT5                     0\n",
       "BILL_AMT6                     0\n",
       "PAY_AMT1                      0\n",
       "PAY_AMT2                      0\n",
       "PAY_AMT3                      0\n",
       "PAY_AMT4                      0\n",
       "PAY_AMT5                      0\n",
       "PAY_AMT6                      0\n",
       "default.payment.next.month    0\n",
       "dtype: int64"
      ]
     },
     "execution_count": 10,
     "metadata": {},
     "output_type": "execute_result"
    }
   ],
   "source": [
    "# Checking for any null values\n",
    "credit.isnull().sum()"
   ]
  },
  {
   "cell_type": "markdown",
   "metadata": {},
   "source": [
    "#\n",
    "Check either the data is balanced or not"
   ]
  },
  {
   "cell_type": "code",
   "execution_count": 11,
   "metadata": {},
   "outputs": [
    {
     "data": {
      "image/png": "[encoded data removed]",
      "text/plain": [
       "<Figure size 432x432 with 1 Axes>"
      ]
     },
     "metadata": {
      "needs_background": "light"
     },
     "output_type": "display_data"
    }
   ],
   "source": [
    "## Checking for data unbalance\n",
    "temp = credit[\"default.payment.next.month\"].value_counts()\n",
    "df = pd.DataFrame({'default.payment.next.month': temp.index,'values': temp.values})\n",
    "plt.figure(figsize = (6,6))\n",
    "plt.title('Default Credit Card Clients - target value - data unbalance\\n (Default = 0, Not Default = 1)')\n",
    "sns.set_color_codes(\"pastel\")\n",
    "sns.barplot(x = 'default.payment.next.month', y=\"values\", data=df)\n",
    "locs, labels = plt.xticks()\n",
    "plt.show()"
   ]
  },
  {
   "cell_type": "markdown",
   "metadata": {},
   "source": [
    "#\n",
    "Around 22% of clients will default next month. The data has not a large unbalance with respect of the target value (default.payment.next.month)."
   ]
  },
  {
   "cell_type": "code",
   "execution_count": 12,
   "metadata": {},
   "outputs": [
    {
     "data": {
      "text/plain": [
       "2    18112\n",
       "1    11888\n",
       "Name: SEX, dtype: int64"
      ]
     },
     "execution_count": 12,
     "metadata": {},
     "output_type": "execute_result"
    }
   ],
   "source": [
    "credit.SEX.value_counts() #this is fine, more women than men"
   ]
  },
  {
   "cell_type": "code",
   "execution_count": 13,
   "metadata": {},
   "outputs": [
    {
     "data": {
      "text/plain": [
       "2    15964\n",
       "1    13659\n",
       "3      323\n",
       "0       54\n",
       "Name: MARRIAGE, dtype: int64"
      ]
     },
     "execution_count": 13,
     "metadata": {},
     "output_type": "execute_result"
    }
   ],
   "source": [
    "credit['MARRIAGE'].value_counts()"
   ]
  },
  {
   "cell_type": "code",
   "execution_count": 14,
   "metadata": {},
   "outputs": [
    {
     "data": {
      "text/plain": [
       "2    14030\n",
       "1    10585\n",
       "3     4917\n",
       "5      280\n",
       "4      123\n",
       "6       51\n",
       "0       14\n",
       "Name: EDUCATION, dtype: int64"
      ]
     },
     "execution_count": 14,
     "metadata": {},
     "output_type": "execute_result"
    }
   ],
   "source": [
    "credit.EDUCATION.value_counts() # yes, I am using different ways of calling a column"
   ]
  },
  {
   "cell_type": "code",
   "execution_count": 15,
   "metadata": {},
   "outputs": [
    {
     "data": {
      "text/plain": [
       "<matplotlib.axes._subplots.AxesSubplot at 0x2b970f2a190>"
      ]
     },
     "execution_count": 15,
     "metadata": {},
     "output_type": "execute_result"
    },
    {
     "data": {
      "image/png": "[encoded data removed]",
      "text/plain": [
       "<Figure size 432x288 with 1 Axes>"
      ]
     },
     "metadata": {
      "needs_background": "light"
     },
     "output_type": "display_data"
    }
   ],
   "source": [
    "credit.MARRIAGE.value_counts().plot(kind = 'bar')"
   ]
  },
  {
   "cell_type": "code",
   "execution_count": 16,
   "metadata": {},
   "outputs": [
    {
     "data": {
      "text/plain": [
       "<matplotlib.axes._subplots.AxesSubplot at 0x2b970f90970>"
      ]
     },
     "execution_count": 16,
     "metadata": {},
     "output_type": "execute_result"
    },
    {
     "data": {
      "image/png": "[encoded data removed]",
      "text/plain": [
       "<Figure size 432x288 with 1 Axes>"
      ]
     },
     "metadata": {
      "needs_background": "light"
     },
     "output_type": "display_data"
    }
   ],
   "source": [
    "credit.EDUCATION.value_counts().plot(kind = \"barh\")"
   ]
  },
  {
   "cell_type": "code",
   "execution_count": 20,
   "metadata": {},
   "outputs": [
    {
     "data": {
      "text/plain": [
       "<matplotlib.axes._subplots.AxesSubplot at 0x2b972779d90>"
      ]
     },
     "execution_count": 20,
     "metadata": {},
     "output_type": "execute_result"
    },
    {
     "data": {
      "image/png": "[encoded data removed]",
      "text/plain": [
       "<Figure size 432x288 with 1 Axes>"
      ]
     },
     "metadata": {
      "needs_background": "light"
     },
     "output_type": "display_data"
    }
   ],
   "source": [
    "credit.AGE.hist()"
   ]
  },
  {
   "cell_type": "code",
   "execution_count": 21,
   "metadata": {},
   "outputs": [
    {
     "data": {
      "text/plain": [
       "<matplotlib.axes._subplots.AxesSubplot at 0x2b9729d5ca0>"
      ]
     },
     "execution_count": 21,
     "metadata": {},
     "output_type": "execute_result"
    },
    {
     "data": {
      "image/png": "[encoded data removed]",
      "text/plain": [
       "<Figure size 432x288 with 1 Axes>"
      ]
     },
     "metadata": {
      "needs_background": "light"
     },
     "output_type": "display_data"
    }
   ],
   "source": [
    "credit.LIMIT_BAL.hist(bins = 20)"
   ]
  },
  {
   "cell_type": "code",
   "execution_count": 22,
   "metadata": {},
   "outputs": [
    {
     "data": {
      "text/plain": [
       "2    14030\n",
       "1    10585\n",
       "3     4917\n",
       "4      468\n",
       "Name: EDUCATION, dtype: int64"
      ]
     },
     "execution_count": 22,
     "metadata": {},
     "output_type": "execute_result"
    }
   ],
   "source": [
    "fil = (credit.EDUCATION == 5) | (credit.EDUCATION == 6) | (credit.EDUCATION == 0)\n",
    "credit.loc[fil, 'EDUCATION'] = 4\n",
    "credit.EDUCATION.value_counts()"
   ]
  },
  {
   "cell_type": "code",
   "execution_count": 23,
   "metadata": {},
   "outputs": [
    {
     "data": {
      "text/plain": [
       "2    15964\n",
       "1    13659\n",
       "3      377\n",
       "Name: MARRIAGE, dtype: int64"
      ]
     },
     "execution_count": 23,
     "metadata": {},
     "output_type": "execute_result"
    }
   ],
   "source": [
    "credit.loc[credit.MARRIAGE == 0, 'MARRIAGE'] = 3\n",
    "credit.MARRIAGE.value_counts()"
   ]
  },
  {
   "cell_type": "code",
   "execution_count": 26,
   "metadata": {},
   "outputs": [
    {
     "data": {
      "text/plain": [
       "SEX  default.payment.next.month\n",
       "1    0                              9015\n",
       "     1                              2873\n",
       "2    0                             14349\n",
       "     1                              3763\n",
       "dtype: int64"
      ]
     },
     "execution_count": 26,
     "metadata": {},
     "output_type": "execute_result"
    }
   ],
   "source": [
    "credit.groupby(['SEX', 'default.payment.next.month']).size()"
   ]
  },
  {
   "cell_type": "code",
   "execution_count": 27,
   "metadata": {},
   "outputs": [
    {
     "data": {
      "text/html": [
       "<div>\n",
       "<style scoped>\n",
       "    .dataframe tbody tr th:only-of-type {\n",
       "        vertical-align: middle;\n",
       "    }\n",
       "\n",
       "    .dataframe tbody tr th {\n",
       "        vertical-align: top;\n",
       "    }\n",
       "\n",
       "    .dataframe thead th {\n",
       "        text-align: right;\n",
       "    }\n",
       "</style>\n",
       "<table border=\"1\" class=\"dataframe\">\n",
       "  <thead>\n",
       "    <tr style=\"text-align: right;\">\n",
       "      <th>default.payment.next.month</th>\n",
       "      <th>0</th>\n",
       "      <th>1</th>\n",
       "    </tr>\n",
       "    <tr>\n",
       "      <th>SEX</th>\n",
       "      <th></th>\n",
       "      <th></th>\n",
       "    </tr>\n",
       "  </thead>\n",
       "  <tbody>\n",
       "    <tr>\n",
       "      <th>1</th>\n",
       "      <td>9015</td>\n",
       "      <td>2873</td>\n",
       "    </tr>\n",
       "    <tr>\n",
       "      <th>2</th>\n",
       "      <td>14349</td>\n",
       "      <td>3763</td>\n",
       "    </tr>\n",
       "  </tbody>\n",
       "</table>\n",
       "</div>"
      ],
      "text/plain": [
       "default.payment.next.month      0     1\n",
       "SEX                                    \n",
       "1                            9015  2873\n",
       "2                           14349  3763"
      ]
     },
     "execution_count": 27,
     "metadata": {},
     "output_type": "execute_result"
    }
   ],
   "source": [
    "gender = credit.groupby(['SEX', 'default.payment.next.month']).size().unstack(1)\n",
    "gender"
   ]
  },
  {
   "cell_type": "code",
   "execution_count": 31,
   "metadata": {},
   "outputs": [
    {
     "data": {
      "text/plain": [
       "<matplotlib.axes._subplots.AxesSubplot at 0x2b9736cb550>"
      ]
     },
     "execution_count": 31,
     "metadata": {},
     "output_type": "execute_result"
    },
    {
     "data": {
      "image/png": "[encoded data removed]",
      "text/plain": [
       "<Figure size 432x288 with 1 Axes>"
      ]
     },
     "metadata": {
      "needs_background": "light"
     },
     "output_type": "display_data"
    }
   ],
   "source": [
    "gender.plot(kind='bar', stacked = True)"
   ]
  },
  {
   "cell_type": "code",
   "execution_count": 32,
   "metadata": {},
   "outputs": [
    {
     "data": {
      "text/html": [
       "<div>\n",
       "<style scoped>\n",
       "    .dataframe tbody tr th:only-of-type {\n",
       "        vertical-align: middle;\n",
       "    }\n",
       "\n",
       "    .dataframe tbody tr th {\n",
       "        vertical-align: top;\n",
       "    }\n",
       "\n",
       "    .dataframe thead th {\n",
       "        text-align: right;\n",
       "    }\n",
       "</style>\n",
       "<table border=\"1\" class=\"dataframe\">\n",
       "  <thead>\n",
       "    <tr style=\"text-align: right;\">\n",
       "      <th></th>\n",
       "      <th>SEX</th>\n",
       "      <th>default.payment.next.month</th>\n",
       "    </tr>\n",
       "  </thead>\n",
       "  <tbody>\n",
       "    <tr>\n",
       "      <th>0</th>\n",
       "      <td>1</td>\n",
       "      <td>0.241672</td>\n",
       "    </tr>\n",
       "    <tr>\n",
       "      <th>1</th>\n",
       "      <td>2</td>\n",
       "      <td>0.207763</td>\n",
       "    </tr>\n",
       "  </tbody>\n",
       "</table>\n",
       "</div>"
      ],
      "text/plain": [
       "   SEX  default.payment.next.month\n",
       "0    1                    0.241672\n",
       "1    2                    0.207763"
      ]
     },
     "execution_count": 32,
     "metadata": {},
     "output_type": "execute_result"
    }
   ],
   "source": [
    "credit[[\"SEX\", \"default.payment.next.month\"]].groupby(['SEX'], as_index=False).mean().sort_values(by='default.payment.next.month', ascending=False)"
   ]
  },
  {
   "cell_type": "code",
   "execution_count": 33,
   "metadata": {},
   "outputs": [
    {
     "data": {
      "text/html": [
       "<div>\n",
       "<style scoped>\n",
       "    .dataframe tbody tr th:only-of-type {\n",
       "        vertical-align: middle;\n",
       "    }\n",
       "\n",
       "    .dataframe tbody tr th {\n",
       "        vertical-align: top;\n",
       "    }\n",
       "\n",
       "    .dataframe thead th {\n",
       "        text-align: right;\n",
       "    }\n",
       "</style>\n",
       "<table border=\"1\" class=\"dataframe\">\n",
       "  <thead>\n",
       "    <tr style=\"text-align: right;\">\n",
       "      <th></th>\n",
       "      <th>default.payment.next.month</th>\n",
       "    </tr>\n",
       "    <tr>\n",
       "      <th>SEX</th>\n",
       "      <th></th>\n",
       "    </tr>\n",
       "  </thead>\n",
       "  <tbody>\n",
       "    <tr>\n",
       "      <th>2</th>\n",
       "      <td>0.207763</td>\n",
       "    </tr>\n",
       "    <tr>\n",
       "      <th>1</th>\n",
       "      <td>0.241672</td>\n",
       "    </tr>\n",
       "  </tbody>\n",
       "</table>\n",
       "</div>"
      ],
      "text/plain": [
       "     default.payment.next.month\n",
       "SEX                            \n",
       "2                      0.207763\n",
       "1                      0.241672"
      ]
     },
     "execution_count": 33,
     "metadata": {},
     "output_type": "execute_result"
    }
   ],
   "source": [
    "credit[[\"SEX\", \"default.payment.next.month\"]].groupby(['SEX']).mean().sort_values(by='default.payment.next.month')"
   ]
  },
  {
   "cell_type": "code",
   "execution_count": 34,
   "metadata": {},
   "outputs": [],
   "source": [
    "def corr_2_cols(Col1, Col2):\n",
    "    res = credit.groupby([Col1, Col2]).size().unstack()\n",
    "    return res"
   ]
  },
  {
   "cell_type": "code",
   "execution_count": 35,
   "metadata": {},
   "outputs": [
    {
     "data": {
      "text/html": [
       "<div>\n",
       "<style scoped>\n",
       "    .dataframe tbody tr th:only-of-type {\n",
       "        vertical-align: middle;\n",
       "    }\n",
       "\n",
       "    .dataframe tbody tr th {\n",
       "        vertical-align: top;\n",
       "    }\n",
       "\n",
       "    .dataframe thead th {\n",
       "        text-align: right;\n",
       "    }\n",
       "</style>\n",
       "<table border=\"1\" class=\"dataframe\">\n",
       "  <thead>\n",
       "    <tr style=\"text-align: right;\">\n",
       "      <th>default.payment.next.month</th>\n",
       "      <th>0</th>\n",
       "      <th>1</th>\n",
       "    </tr>\n",
       "    <tr>\n",
       "      <th>EDUCATION</th>\n",
       "      <th></th>\n",
       "      <th></th>\n",
       "    </tr>\n",
       "  </thead>\n",
       "  <tbody>\n",
       "    <tr>\n",
       "      <th>1</th>\n",
       "      <td>8549</td>\n",
       "      <td>2036</td>\n",
       "    </tr>\n",
       "    <tr>\n",
       "      <th>2</th>\n",
       "      <td>10700</td>\n",
       "      <td>3330</td>\n",
       "    </tr>\n",
       "    <tr>\n",
       "      <th>3</th>\n",
       "      <td>3680</td>\n",
       "      <td>1237</td>\n",
       "    </tr>\n",
       "    <tr>\n",
       "      <th>4</th>\n",
       "      <td>435</td>\n",
       "      <td>33</td>\n",
       "    </tr>\n",
       "  </tbody>\n",
       "</table>\n",
       "</div>"
      ],
      "text/plain": [
       "default.payment.next.month      0     1\n",
       "EDUCATION                              \n",
       "1                            8549  2036\n",
       "2                           10700  3330\n",
       "3                            3680  1237\n",
       "4                             435    33"
      ]
     },
     "execution_count": 35,
     "metadata": {},
     "output_type": "execute_result"
    }
   ],
   "source": [
    "corr_2_cols('EDUCATION', 'default.payment.next.month')"
   ]
  },
  {
   "cell_type": "code",
   "execution_count": 36,
   "metadata": {},
   "outputs": [
    {
     "data": {
      "text/html": [
       "<div>\n",
       "<style scoped>\n",
       "    .dataframe tbody tr th:only-of-type {\n",
       "        vertical-align: middle;\n",
       "    }\n",
       "\n",
       "    .dataframe tbody tr th {\n",
       "        vertical-align: top;\n",
       "    }\n",
       "\n",
       "    .dataframe thead th {\n",
       "        text-align: right;\n",
       "    }\n",
       "</style>\n",
       "<table border=\"1\" class=\"dataframe\">\n",
       "  <thead>\n",
       "    <tr style=\"text-align: right;\">\n",
       "      <th>default.payment.next.month</th>\n",
       "      <th>0</th>\n",
       "      <th>1</th>\n",
       "    </tr>\n",
       "    <tr>\n",
       "      <th>MARRIAGE</th>\n",
       "      <th></th>\n",
       "      <th></th>\n",
       "    </tr>\n",
       "  </thead>\n",
       "  <tbody>\n",
       "    <tr>\n",
       "      <th>1</th>\n",
       "      <td>10453</td>\n",
       "      <td>3206</td>\n",
       "    </tr>\n",
       "    <tr>\n",
       "      <th>2</th>\n",
       "      <td>12623</td>\n",
       "      <td>3341</td>\n",
       "    </tr>\n",
       "    <tr>\n",
       "      <th>3</th>\n",
       "      <td>288</td>\n",
       "      <td>89</td>\n",
       "    </tr>\n",
       "  </tbody>\n",
       "</table>\n",
       "</div>"
      ],
      "text/plain": [
       "default.payment.next.month      0     1\n",
       "MARRIAGE                               \n",
       "1                           10453  3206\n",
       "2                           12623  3341\n",
       "3                             288    89"
      ]
     },
     "execution_count": 36,
     "metadata": {},
     "output_type": "execute_result"
    }
   ],
   "source": [
    "corr_2_cols('MARRIAGE', 'default.payment.next.month')"
   ]
  },
  {
   "cell_type": "code",
   "execution_count": 37,
   "metadata": {},
   "outputs": [
    {
     "data": {
      "text/html": [
       "<div>\n",
       "<style scoped>\n",
       "    .dataframe tbody tr th:only-of-type {\n",
       "        vertical-align: middle;\n",
       "    }\n",
       "\n",
       "    .dataframe tbody tr th {\n",
       "        vertical-align: top;\n",
       "    }\n",
       "\n",
       "    .dataframe thead th {\n",
       "        text-align: right;\n",
       "    }\n",
       "</style>\n",
       "<table border=\"1\" class=\"dataframe\">\n",
       "  <thead>\n",
       "    <tr style=\"text-align: right;\">\n",
       "      <th>SEX</th>\n",
       "      <th>1</th>\n",
       "      <th>2</th>\n",
       "    </tr>\n",
       "    <tr>\n",
       "      <th>MARRIAGE</th>\n",
       "      <th></th>\n",
       "      <th></th>\n",
       "    </tr>\n",
       "  </thead>\n",
       "  <tbody>\n",
       "    <tr>\n",
       "      <th>1</th>\n",
       "      <td>5190</td>\n",
       "      <td>8469</td>\n",
       "    </tr>\n",
       "    <tr>\n",
       "      <th>2</th>\n",
       "      <td>6553</td>\n",
       "      <td>9411</td>\n",
       "    </tr>\n",
       "    <tr>\n",
       "      <th>3</th>\n",
       "      <td>145</td>\n",
       "      <td>232</td>\n",
       "    </tr>\n",
       "  </tbody>\n",
       "</table>\n",
       "</div>"
      ],
      "text/plain": [
       "SEX          1     2\n",
       "MARRIAGE            \n",
       "1         5190  8469\n",
       "2         6553  9411\n",
       "3          145   232"
      ]
     },
     "execution_count": 37,
     "metadata": {},
     "output_type": "execute_result"
    }
   ],
   "source": [
    "corr_2_cols('MARRIAGE', 'SEX')"
   ]
  },
  {
   "cell_type": "code",
   "execution_count": 38,
   "metadata": {},
   "outputs": [
    {
     "data": {
      "text/html": [
       "<div>\n",
       "<style scoped>\n",
       "    .dataframe tbody tr th:only-of-type {\n",
       "        vertical-align: middle;\n",
       "    }\n",
       "\n",
       "    .dataframe tbody tr th {\n",
       "        vertical-align: top;\n",
       "    }\n",
       "\n",
       "    .dataframe thead th {\n",
       "        text-align: right;\n",
       "    }\n",
       "</style>\n",
       "<table border=\"1\" class=\"dataframe\">\n",
       "  <thead>\n",
       "    <tr style=\"text-align: right;\">\n",
       "      <th>SEX</th>\n",
       "      <th>1</th>\n",
       "      <th>2</th>\n",
       "    </tr>\n",
       "    <tr>\n",
       "      <th>EDUCATION</th>\n",
       "      <th></th>\n",
       "      <th></th>\n",
       "    </tr>\n",
       "  </thead>\n",
       "  <tbody>\n",
       "    <tr>\n",
       "      <th>1</th>\n",
       "      <td>4354</td>\n",
       "      <td>6231</td>\n",
       "    </tr>\n",
       "    <tr>\n",
       "      <th>2</th>\n",
       "      <td>5374</td>\n",
       "      <td>8656</td>\n",
       "    </tr>\n",
       "    <tr>\n",
       "      <th>3</th>\n",
       "      <td>1990</td>\n",
       "      <td>2927</td>\n",
       "    </tr>\n",
       "    <tr>\n",
       "      <th>4</th>\n",
       "      <td>170</td>\n",
       "      <td>298</td>\n",
       "    </tr>\n",
       "  </tbody>\n",
       "</table>\n",
       "</div>"
      ],
      "text/plain": [
       "SEX           1     2\n",
       "EDUCATION            \n",
       "1          4354  6231\n",
       "2          5374  8656\n",
       "3          1990  2927\n",
       "4           170   298"
      ]
     },
     "execution_count": 38,
     "metadata": {},
     "output_type": "execute_result"
    }
   ],
   "source": [
    "corr_2_cols('EDUCATION', 'SEX')"
   ]
  },
  {
   "cell_type": "code",
   "execution_count": 39,
   "metadata": {},
   "outputs": [
    {
     "data": {
      "text/plain": [
       "<seaborn.axisgrid.FacetGrid at 0x2b97433e640>"
      ]
     },
     "execution_count": 39,
     "metadata": {},
     "output_type": "execute_result"
    },
    {
     "data": {
      "image/png": "[encoded data removed]",
      "text/plain": [
       "<Figure size 432x216 with 2 Axes>"
      ]
     },
     "metadata": {
      "needs_background": "light"
     },
     "output_type": "display_data"
    }
   ],
   "source": [
    "g = sns.FacetGrid(credit, col = 'default.payment.next.month')\n",
    "g.map(plt.hist, 'AGE')"
   ]
  },
  {
   "cell_type": "code",
   "execution_count": 40,
   "metadata": {},
   "outputs": [
    {
     "data": {
      "text/plain": [
       "<seaborn.axisgrid.FacetGrid at 0x2b970fe3490>"
      ]
     },
     "execution_count": 40,
     "metadata": {},
     "output_type": "execute_result"
    },
    {
     "data": {
      "image/png": "[encoded data removed]",
      "text/plain": [
       "<Figure size 432x432 with 4 Axes>"
      ]
     },
     "metadata": {
      "needs_background": "light"
     },
     "output_type": "display_data"
    }
   ],
   "source": [
    "g = sns.FacetGrid(credit, col = 'default.payment.next.month', row = 'SEX')\n",
    "g.map(plt.hist, 'AGE')"
   ]
  },
  {
   "cell_type": "code",
   "execution_count": 41,
   "metadata": {},
   "outputs": [
    {
     "data": {
      "text/plain": [
       "<seaborn.axisgrid.FacetGrid at 0x2b97484ea60>"
      ]
     },
     "execution_count": 41,
     "metadata": {},
     "output_type": "execute_result"
    },
    {
     "data": {
      "image/png": "[encoded data removed]",
      "text/plain": [
       "<Figure size 583.75x216 with 2 Axes>"
      ]
     },
     "metadata": {
      "needs_background": "light"
     },
     "output_type": "display_data"
    }
   ],
   "source": [
    "g = sns.FacetGrid(credit, col='SEX', hue='default.payment.next.month')\n",
    "g.map(plt.hist, 'AGE', alpha=0.6, bins=25) #alpha is for opacity\n",
    "g.add_legend()"
   ]
  },
  {
   "cell_type": "code",
   "execution_count": 42,
   "metadata": {},
   "outputs": [
    {
     "data": {
      "text/plain": [
       "<seaborn.axisgrid.FacetGrid at 0x2b9759d8a60>"
      ]
     },
     "execution_count": 42,
     "metadata": {},
     "output_type": "execute_result"
    },
    {
     "data": {
      "image/png": "[encoded data removed]",
      "text/plain": [
       "<Figure size 474.375x648 with 6 Axes>"
      ]
     },
     "metadata": {
      "needs_background": "light"
     },
     "output_type": "display_data"
    }
   ],
   "source": [
    "g = sns.FacetGrid(credit, col='default.payment.next.month', row= \"MARRIAGE\", hue='SEX')\n",
    "g.map(plt.hist, 'AGE', alpha=0.3, bins=25) \n",
    "g.add_legend()"
   ]
  },
  {
   "cell_type": "code",
   "execution_count": 43,
   "metadata": {},
   "outputs": [
    {
     "data": {
      "image/png": "[encoded data removed]",
      "text/plain": [
       "<Figure size 576x576 with 2 Axes>"
      ]
     },
     "metadata": {
      "needs_background": "light"
     },
     "output_type": "display_data"
    }
   ],
   "source": [
    "var = ['BILL_AMT1','BILL_AMT2','BILL_AMT3','BILL_AMT4','BILL_AMT5','BILL_AMT6']\n",
    "\n",
    "plt.figure(figsize = (8,8))\n",
    "plt.title('Amount of bill statement (Apr-Sept) \\ncorrelation plot (Pearson)')\n",
    "corr = credit[var].corr()\n",
    "sns.heatmap(corr,xticklabels=corr.columns,yticklabels=corr.columns)\n",
    "plt.show()\n"
   ]
  },
  {
   "cell_type": "code",
   "execution_count": 62,
   "metadata": {},
   "outputs": [],
   "source": [
    "credit = pd.read_csv(\"UCI_Credit_Card.csv\")"
   ]
  },
  {
   "cell_type": "code",
   "execution_count": 63,
   "metadata": {},
   "outputs": [],
   "source": [
    "cat_features = ['EDUCATION', 'SEX', 'MARRIAGE', 'PAY_0', 'PAY_2', 'PAY_3', 'PAY_4', 'PAY_5', 'PAY_6']"
   ]
  },
  {
   "cell_type": "code",
   "execution_count": 64,
   "metadata": {},
   "outputs": [],
   "source": [
    "credit_dummies = pd.get_dummies(credit, columns = cat_features)"
   ]
  },
  {
   "cell_type": "code",
   "execution_count": 65,
   "metadata": {},
   "outputs": [
    {
     "name": "stdout",
     "output_type": "stream",
     "text": [
      "Default of Credit Card Clients train data -  rows: 30000  columns: 93\n"
     ]
    }
   ],
   "source": [
    "print(\"Default of Credit Card Clients train data -  rows:\",credit_dummies.shape[0],\" columns:\", credit_dummies.shape[1])"
   ]
  },
  {
   "cell_type": "code",
   "execution_count": 66,
   "metadata": {},
   "outputs": [],
   "source": [
    "target= 'default.payment.next.month'\n",
    "predictors = ['LIMIT_BAL', 'AGE', 'BILL_AMT1', 'BILL_AMT2', 'BILL_AMT3', 'BILL_AMT4',\n",
    "       'BILL_AMT5', 'PAY_AMT1', 'PAY_AMT2', 'PAY_AMT3',\n",
    "       'PAY_AMT4', 'PAY_AMT5',\n",
    "       'EDUCATION_0', 'EDUCATION_1', 'EDUCATION_2', 'EDUCATION_3',\n",
    "       'EDUCATION_4', 'EDUCATION_5', 'SEX_1',\n",
    "       'MARRIAGE_0', 'MARRIAGE_1', 'MARRIAGE_2', 'PAY_0_-2',\n",
    "       'PAY_0_-1', 'PAY_0_0', 'PAY_0_1', 'PAY_0_2', 'PAY_0_3', 'PAY_0_4',\n",
    "       'PAY_0_5', 'PAY_0_6', 'PAY_0_7', 'PAY_2_-2', 'PAY_2_-1',\n",
    "       'PAY_2_0', 'PAY_2_1', 'PAY_2_2', 'PAY_2_3', 'PAY_2_4', 'PAY_2_5',\n",
    "       'PAY_2_6', 'PAY_2_7', 'PAY_3_-2', 'PAY_3_-1', 'PAY_3_0',\n",
    "       'PAY_3_1', 'PAY_3_2', 'PAY_3_3', 'PAY_3_4', 'PAY_3_5', 'PAY_3_6',\n",
    "       'PAY_3_7', 'PAY_4_-2', 'PAY_4_-1', 'PAY_4_0', 'PAY_4_1',\n",
    "       'PAY_4_2', 'PAY_4_3', 'PAY_4_4', 'PAY_4_5', 'PAY_4_6', 'PAY_4_7',\n",
    "       'PAY_5_-2', 'PAY_5_-1', 'PAY_5_0', 'PAY_5_2', 'PAY_5_3',\n",
    "       'PAY_5_4', 'PAY_5_5', 'PAY_5_6', 'PAY_5_7', 'PAY_6_-2',\n",
    "       'PAY_6_-1', 'PAY_6_0', 'PAY_6_2', 'PAY_6_3', 'PAY_6_4', 'PAY_6_5',\n",
    "       'PAY_6_6', 'PAY_6_7']"
   ]
  },
  {
   "cell_type": "code",
   "execution_count": 67,
   "metadata": {},
   "outputs": [],
   "source": [
    "X = credit_dummies[predictors]\n",
    "y=credit_dummies['default.payment.next.month']"
   ]
  },
  {
   "cell_type": "code",
   "execution_count": 68,
   "metadata": {},
   "outputs": [],
   "source": [
    "# Splitting the dataset into the Training set and Test set\n",
    "from sklearn.model_selection  import train_test_split\n",
    "X_train, X_test, y_train, y_test = train_test_split(X, y, test_size = 0.20, random_state = 5)"
   ]
  },
  {
   "cell_type": "code",
   "execution_count": 69,
   "metadata": {},
   "outputs": [
    {
     "data": {
      "text/plain": [
       "(24000, 80)"
      ]
     },
     "execution_count": 69,
     "metadata": {},
     "output_type": "execute_result"
    }
   ],
   "source": [
    "X_train.shape"
   ]
  },
  {
   "cell_type": "code",
   "execution_count": 70,
   "metadata": {},
   "outputs": [
    {
     "data": {
      "text/plain": [
       "(6000, 80)"
      ]
     },
     "execution_count": 70,
     "metadata": {},
     "output_type": "execute_result"
    }
   ],
   "source": [
    "X_test.shape"
   ]
  },
  {
   "cell_type": "code",
   "execution_count": 71,
   "metadata": {},
   "outputs": [
    {
     "data": {
      "text/plain": [
       "LogisticRegression(C=0.4, max_iter=1000, solver='liblinear')"
      ]
     },
     "execution_count": 71,
     "metadata": {},
     "output_type": "execute_result"
    }
   ],
   "source": [
    "from sklearn.linear_model import LogisticRegression\n",
    "classifier = LogisticRegression(C=0.4,max_iter=1000,solver='liblinear')\n",
    "classifier.fit(X_train, y_train)"
   ]
  },
  {
   "cell_type": "code",
   "execution_count": 72,
   "metadata": {},
   "outputs": [],
   "source": [
    "y_pred = classifier.predict(X_test)"
   ]
  },
  {
   "cell_type": "code",
   "execution_count": 73,
   "metadata": {},
   "outputs": [
    {
     "name": "stdout",
     "output_type": "stream",
     "text": [
      "                 Model  Accuracy  Precision  Recall  F1 Score\n",
      "0  Logistic Regression  0.776833        0.0     0.0       0.0\n"
     ]
    },
    {
     "name": "stderr",
     "output_type": "stream",
     "text": [
      "C:\\Users\\ASUS\\anaconda3\\lib\\site-packages\\sklearn\\metrics\\_classification.py:1245: UndefinedMetricWarning: Precision is ill-defined and being set to 0.0 due to no predicted samples. Use `zero_division` parameter to control this behavior.\n",
      "  _warn_prf(average, modifier, msg_start, len(result))\n"
     ]
    }
   ],
   "source": [
    "from sklearn.metrics import confusion_matrix, accuracy_score, f1_score, precision_score, recall_score\n",
    "acc = accuracy_score(y_test, y_pred)\n",
    "prec = precision_score(y_test, y_pred)\n",
    "rec = recall_score(y_test, y_pred)\n",
    "f1 = f1_score(y_test, y_pred)\n",
    "\n",
    "results = pd.DataFrame([['Logistic Regression', acc, prec, rec, f1]],\n",
    "               columns = ['Model', 'Accuracy', 'Precision', 'Recall', 'F1 Score'])\n",
    "print(results)"
   ]
  },
  {
   "cell_type": "code",
   "execution_count": 74,
   "metadata": {},
   "outputs": [
    {
     "data": {
      "text/plain": [
       "array([[4661,    0],\n",
       "       [1339,    0]], dtype=int64)"
      ]
     },
     "execution_count": 74,
     "metadata": {},
     "output_type": "execute_result"
    }
   ],
   "source": [
    "confusion_matrix(y_test,y_pred)"
   ]
  },
  {
   "cell_type": "code",
   "execution_count": 76,
   "metadata": {},
   "outputs": [
    {
     "name": "stdout",
     "output_type": "stream",
     "text": [
      "Collecting imblearn\n",
      "  Using cached imblearn-0.0-py2.py3-none-any.whl (1.9 kB)\n",
      "Collecting imbalanced-learn\n",
      "  Using cached imbalanced_learn-0.8.0-py3-none-any.whl (206 kB)\n",
      "Requirement already satisfied: joblib>=0.11 in c:\\users\\asus\\anaconda3\\lib\\site-packages (from imbalanced-learn->imblearn) (0.16.0)\n",
      "Requirement already satisfied: scikit-learn>=0.24 in c:\\users\\asus\\anaconda3\\lib\\site-packages (from imbalanced-learn->imblearn) (0.24.1)\n",
      "Requirement already satisfied: numpy>=1.13.3 in c:\\users\\asus\\anaconda3\\lib\\site-packages (from imbalanced-learn->imblearn) (1.18.5)\n",
      "Requirement already satisfied: scipy>=0.19.1 in c:\\users\\asus\\anaconda3\\lib\\site-packages (from imbalanced-learn->imblearn) (1.5.0)\n",
      "Requirement already satisfied: threadpoolctl>=2.0.0 in c:\\users\\asus\\anaconda3\\lib\\site-packages (from scikit-learn>=0.24->imbalanced-learn->imblearn) (2.1.0)\n",
      "Installing collected packages: imbalanced-learn, imblearn\n",
      "Successfully installed imbalanced-learn-0.8.0 imblearn-0.0\n"
     ]
    }
   ],
   "source": [
    "!pip install imblearn"
   ]
  },
  {
   "cell_type": "code",
   "execution_count": 77,
   "metadata": {},
   "outputs": [],
   "source": [
    "from imblearn.over_sampling import SMOTE"
   ]
  },
  {
   "cell_type": "code",
   "execution_count": 79,
   "metadata": {},
   "outputs": [],
   "source": [
    "sm = SMOTE(random_state=589)"
   ]
  },
  {
   "cell_type": "code",
   "execution_count": 81,
   "metadata": {},
   "outputs": [
    {
     "name": "stdout",
     "output_type": "stream",
     "text": [
      "37406\n"
     ]
    }
   ],
   "source": [
    "X_SMOTE, y_SMOTE = sm.fit_resample(X_train, y_train)\n",
    "print(len(y_SMOTE))"
   ]
  },
  {
   "cell_type": "code",
   "execution_count": 82,
   "metadata": {},
   "outputs": [
    {
     "data": {
      "text/plain": [
       "LogisticRegression(C=0.4, max_iter=1000, solver='liblinear')"
      ]
     },
     "execution_count": 82,
     "metadata": {},
     "output_type": "execute_result"
    }
   ],
   "source": [
    "classifier1 = LogisticRegression(C=0.4,max_iter=1000,solver='liblinear')\n",
    "classifier1.fit(X_SMOTE, y_SMOTE)"
   ]
  },
  {
   "cell_type": "code",
   "execution_count": 83,
   "metadata": {},
   "outputs": [],
   "source": [
    "#### Predicting on X_test dataset\n",
    "y_pred1 = classifier1.predict(X_test)"
   ]
  },
  {
   "cell_type": "code",
   "execution_count": 84,
   "metadata": {},
   "outputs": [
    {
     "name": "stdout",
     "output_type": "stream",
     "text": [
      "                              Model  Accuracy  Precision    Recall  F1 Score\n",
      "0               Logistic Regression  0.776833   0.000000  0.000000  0.000000\n",
      "1  Logistic Regression - with SMOTE  0.562833   0.301607  0.728902  0.426667\n"
     ]
    }
   ],
   "source": [
    "acc = accuracy_score(y_test, y_pred1)\n",
    "prec = precision_score(y_test, y_pred1)\n",
    "rec = recall_score(y_test, y_pred1)\n",
    "f1 = f1_score(y_test, y_pred1)\n",
    "\n",
    "model_results = pd.DataFrame([['Logistic Regression - with SMOTE', acc, prec, rec, f1]],\n",
    "               columns = ['Model', 'Accuracy', 'Precision', 'Recall', 'F1 Score'])\n",
    "\n",
    "results = results.append(model_results, ignore_index = True)\n",
    "print(results)"
   ]
  },
  {
   "cell_type": "code",
   "execution_count": 85,
   "metadata": {},
   "outputs": [
    {
     "data": {
      "text/plain": [
       "array([[2401, 2260],\n",
       "       [ 363,  976]], dtype=int64)"
      ]
     },
     "execution_count": 85,
     "metadata": {},
     "output_type": "execute_result"
    }
   ],
   "source": [
    "confusion_matrix(y_test,y_pred1)"
   ]
  },
  {
   "cell_type": "code",
   "execution_count": 86,
   "metadata": {},
   "outputs": [],
   "source": [
    "from sklearn.tree import DecisionTreeClassifier"
   ]
  },
  {
   "cell_type": "code",
   "execution_count": 87,
   "metadata": {},
   "outputs": [],
   "source": [
    "clf = DecisionTreeClassifier(random_state=14) \n",
    "# training the classifier\n",
    "clf.fit(X_train, y_train)\n",
    "# do our predictions on the test\n",
    "pred_dt = clf.predict(X_test)"
   ]
  },
  {
   "cell_type": "code",
   "execution_count": 106,
   "metadata": {},
   "outputs": [],
   "source": [
    "from sklearn import tree"
   ]
  },
  {
   "cell_type": "code",
   "execution_count": 88,
   "metadata": {},
   "outputs": [
    {
     "name": "stdout",
     "output_type": "stream",
     "text": [
      "                              Model  Accuracy  Precision    Recall  F1 Score\n",
      "0               Logistic Regression  0.776833   0.000000  0.000000  0.000000\n",
      "1  Logistic Regression - with SMOTE  0.562833   0.301607  0.728902  0.426667\n",
      "2                     Decision Tree  0.723500   0.385714  0.403286  0.394304\n"
     ]
    }
   ],
   "source": [
    "# Predicting Test Set\n",
    "acc = accuracy_score(y_test, pred_dt)\n",
    "prec = precision_score(y_test, pred_dt)\n",
    "rec = recall_score(y_test, pred_dt)\n",
    "f1 = f1_score(y_test, pred_dt)\n",
    "\n",
    "model_results = pd.DataFrame([['Decision Tree', acc, prec, rec, f1]],\n",
    "               columns = ['Model', 'Accuracy', 'Precision', 'Recall', 'F1 Score'])\n",
    "\n",
    "results = results.append(model_results, ignore_index = True)\n",
    "print(results)"
   ]
  },
  {
   "cell_type": "code",
   "execution_count": 109,
   "metadata": {},
   "outputs": [],
   "source": [
    "from sklearn.tree import plot_tree"
   ]
  },
  {
   "cell_type": "code",
   "execution_count": 110,
   "metadata": {
    "scrolled": true
   },
   "outputs": [
    {
     "data": {
      "text/plain": [
       "[Text(256.80311121827924, 215.2656, 'X[26] <= 0.5\\ngini = 0.344\\nsamples = 24000\\nvalue = [18703, 5297]'),\n",
       " Text(206.38871912132427, 210.9168, 'X[36] <= 0.5\\ngini = 0.289\\nsamples = 21863\\nvalue = [18033, 3830]'),\n",
       " Text(132.59250642893716, 206.56799999999998, 'X[8] <= 781.0\\ngini = 0.255\\nsamples = 20001\\nvalue = [17002, 2999]'),\n",
       " Text(70.28696705320455, 202.2192, 'X[37] <= 0.5\\ngini = 0.365\\nsamples = 4787\\nvalue = [3636, 1151]'),\n",
       " Text(64.2697821592976, 197.8704, 'X[65] <= 0.5\\ngini = 0.353\\nsamples = 4641\\nvalue = [3579, 1062]'),\n",
       " Text(56.40037345128184, 193.5216, 'X[10] <= 1810.0\\ngini = 0.341\\nsamples = 4430\\nvalue = [3464, 966]'),\n",
       " Text(47.11470195296582, 189.1728, 'X[4] <= 1870.5\\ngini = 0.365\\nsamples = 3550\\nvalue = [2696, 854]'),\n",
       " Text(37.87890015984499, 184.824, 'X[2] <= 712.0\\ngini = 0.352\\nsamples = 3244\\nvalue = [2503, 741]'),\n",
       " Text(29.535939405375004, 180.4752, 'X[1] <= 55.5\\ngini = 0.398\\nsamples = 1974\\nvalue = [1432, 542]'),\n",
       " Text(21.28301546788051, 176.1264, 'X[9] <= 94.5\\ngini = 0.389\\nsamples = 1901\\nvalue = [1399, 502]'),\n",
       " Text(9.037886825005714, 171.7776, 'X[0] <= 25000.0\\ngini = 0.419\\nsamples = 1203\\nvalue = [843, 360]'),\n",
       " Text(1.7432362554002296, 167.4288, 'X[1] <= 33.5\\ngini = 0.5\\nsamples = 58\\nvalue = [29, 29]'),\n",
       " Text(1.3892422194014522, 163.07999999999998, 'X[5] <= 6.0\\ngini = 0.48\\nsamples = 35\\nvalue = [21, 14]'),\n",
       " Text(1.2712442074018597, 158.7312, 'X[20] <= 0.5\\ngini = 0.463\\nsamples = 33\\nvalue = [21, 12]'),\n",
       " Text(1.0352481834026748, 154.38240000000002, 'X[4] <= 225.0\\ngini = 0.417\\nsamples = 27\\nvalue = [19, 8]'),\n",
       " Text(0.9172501714030823, 150.0336, 'X[72] <= 0.5\\ngini = 0.463\\nsamples = 22\\nvalue = [14, 8]'),\n",
       " Text(0.7992521594034898, 145.6848, 'X[2] <= -324.0\\ngini = 0.42\\nsamples = 20\\nvalue = [14, 6]'),\n",
       " Text(0.6812541474038972, 141.336, 'gini = 0.0\\nsamples = 1\\nvalue = [0, 1]'),\n",
       " Text(0.9172501714030823, 141.336, 'X[2] <= 439.0\\ngini = 0.388\\nsamples = 19\\nvalue = [14, 5]'),\n",
       " Text(0.7992521594034898, 136.9872, 'X[3] <= 890.0\\ngini = 0.346\\nsamples = 18\\nvalue = [14, 4]'),\n",
       " Text(0.6812541474038972, 132.6384, 'X[0] <= 15000.0\\ngini = 0.291\\nsamples = 17\\nvalue = [14, 3]'),\n",
       " Text(0.5632561354043047, 128.2896, 'gini = 0.0\\nsamples = 6\\nvalue = [6, 0]'),\n",
       " Text(0.7992521594034898, 128.2896, 'X[33] <= 0.5\\ngini = 0.397\\nsamples = 11\\nvalue = [8, 3]'),\n",
       " Text(0.6812541474038972, 123.9408, 'X[22] <= 0.5\\ngini = 0.49\\nsamples = 7\\nvalue = [4, 3]'),\n",
       " Text(0.5632561354043047, 119.592, 'X[5] <= -735.0\\ngini = 0.5\\nsamples = 6\\nvalue = [3, 3]'),\n",
       " Text(0.44525812340471227, 115.2432, 'gini = 0.0\\nsamples = 1\\nvalue = [1, 0]'),\n",
       " Text(0.6812541474038972, 115.2432, 'X[1] <= 23.5\\ngini = 0.48\\nsamples = 5\\nvalue = [2, 3]'),\n",
       " Text(0.5632561354043047, 110.8944, 'gini = 0.0\\nsamples = 1\\nvalue = [1, 0]'),\n",
       " Text(0.7992521594034898, 110.8944, 'X[13] <= 0.5\\ngini = 0.375\\nsamples = 4\\nvalue = [1, 3]'),\n",
       " Text(0.6812541474038972, 106.54560000000001, 'gini = 0.0\\nsamples = 2\\nvalue = [0, 2]'),\n",
       " Text(0.9172501714030823, 106.54560000000001, 'X[1] <= 26.0\\ngini = 0.5\\nsamples = 2\\nvalue = [1, 1]'),\n",
       " Text(0.7992521594034898, 102.19680000000001, 'gini = 0.0\\nsamples = 1\\nvalue = [0, 1]'),\n",
       " Text(1.0352481834026748, 102.19680000000001, 'gini = 0.0\\nsamples = 1\\nvalue = [1, 0]'),\n",
       " Text(0.7992521594034898, 119.592, 'gini = 0.0\\nsamples = 1\\nvalue = [1, 0]'),\n",
       " Text(0.9172501714030823, 123.9408, 'gini = 0.0\\nsamples = 4\\nvalue = [4, 0]'),\n",
       " Text(0.9172501714030823, 132.6384, 'gini = 0.0\\nsamples = 1\\nvalue = [0, 1]'),\n",
       " Text(1.0352481834026748, 136.9872, 'gini = 0.0\\nsamples = 1\\nvalue = [0, 1]'),\n",
       " Text(1.0352481834026748, 145.6848, 'gini = 0.0\\nsamples = 2\\nvalue = [0, 2]'),\n",
       " Text(1.1532461954022672, 150.0336, 'gini = 0.0\\nsamples = 5\\nvalue = [5, 0]'),\n",
       " Text(1.5072402314010447, 154.38240000000002, 'X[15] <= 0.5\\ngini = 0.444\\nsamples = 6\\nvalue = [2, 4]'),\n",
       " Text(1.3892422194014522, 150.0336, 'gini = 0.0\\nsamples = 3\\nvalue = [0, 3]'),\n",
       " Text(1.6252382434006372, 150.0336, 'X[1] <= 31.0\\ngini = 0.444\\nsamples = 3\\nvalue = [2, 1]'),\n",
       " Text(1.5072402314010447, 145.6848, 'gini = 0.0\\nsamples = 1\\nvalue = [1, 0]'),\n",
       " Text(1.7432362554002296, 145.6848, 'X[0] <= 15000.0\\ngini = 0.5\\nsamples = 2\\nvalue = [1, 1]'),\n",
       " Text(1.6252382434006372, 141.336, 'gini = 0.0\\nsamples = 1\\nvalue = [1, 0]'),\n",
       " Text(1.8612342673998221, 141.336, 'gini = 0.0\\nsamples = 1\\nvalue = [0, 1]'),\n",
       " Text(1.5072402314010447, 158.7312, 'gini = 0.0\\nsamples = 2\\nvalue = [0, 2]'),\n",
       " Text(2.0972302913990073, 163.07999999999998, 'X[2] <= -10.0\\ngini = 0.454\\nsamples = 23\\nvalue = [8, 15]'),\n",
       " Text(1.9792322793994146, 158.7312, 'gini = 0.0\\nsamples = 2\\nvalue = [2, 0]'),\n",
       " Text(2.2152283033985998, 158.7312, 'X[22] <= 0.5\\ngini = 0.408\\nsamples = 21\\nvalue = [6, 15]'),\n",
       " Text(1.9792322793994146, 154.38240000000002, 'X[1] <= 39.5\\ngini = 0.291\\nsamples = 17\\nvalue = [3, 14]'),\n",
       " Text(1.8612342673998221, 150.0336, 'gini = 0.0\\nsamples = 7\\nvalue = [0, 7]'),\n",
       " Text(2.0972302913990073, 150.0336, 'X[1] <= 41.5\\ngini = 0.42\\nsamples = 10\\nvalue = [3, 7]'),\n",
       " Text(1.9792322793994146, 145.6848, 'gini = 0.0\\nsamples = 1\\nvalue = [1, 0]'),\n",
       " Text(2.2152283033985998, 145.6848, 'X[43] <= 0.5\\ngini = 0.346\\nsamples = 9\\nvalue = [2, 7]'),\n",
       " Text(2.0972302913990073, 141.336, 'gini = 0.0\\nsamples = 5\\nvalue = [0, 5]'),\n",
       " Text(2.3332263153981923, 141.336, 'X[53] <= 0.5\\ngini = 0.5\\nsamples = 4\\nvalue = [2, 2]'),\n",
       " Text(2.2152283033985998, 136.9872, 'gini = 0.0\\nsamples = 2\\nvalue = [2, 0]'),\n",
       " Text(2.4512243273977847, 136.9872, 'gini = 0.0\\nsamples = 2\\nvalue = [0, 2]'),\n",
       " Text(2.4512243273977847, 154.38240000000002, 'X[15] <= 0.5\\ngini = 0.375\\nsamples = 4\\nvalue = [3, 1]'),\n",
       " Text(2.3332263153981923, 150.0336, 'gini = 0.0\\nsamples = 3\\nvalue = [3, 0]'),\n",
       " Text(2.569222339397377, 150.0336, 'gini = 0.0\\nsamples = 1\\nvalue = [0, 1]'),\n",
       " Text(16.332537394611197, 167.4288, 'X[0] <= 285000.0\\ngini = 0.411\\nsamples = 1145\\nvalue = [814, 331]'),\n",
       " Text(11.001953435840178, 163.07999999999998, 'X[4] <= 909.5\\ngini = 0.386\\nsamples = 850\\nvalue = [628, 222]'),\n",
       " Text(10.706958405841197, 158.7312, 'X[2] <= 398.5\\ngini = 0.381\\nsamples = 843\\nvalue = [627, 216]'),\n",
       " Text(10.470962381842012, 154.38240000000002, 'X[11] <= 7988.0\\ngini = 0.388\\nsamples = 811\\nvalue = [597, 214]'),\n",
       " Text(10.35296436984242, 150.0336, 'X[7] <= 5752.5\\ngini = 0.393\\nsamples = 796\\nvalue = [582, 214]'),\n",
       " Text(10.234966357842827, 145.6848, 'X[22] <= 0.5\\ngini = 0.397\\nsamples = 783\\nvalue = [569, 214]'),\n",
       " Text(5.736774686174035, 141.336, 'X[1] <= 25.5\\ngini = 0.417\\nsamples = 519\\nvalue = [365, 154]'),\n",
       " Text(2.6872203513969697, 136.9872, 'X[5] <= -174.0\\ngini = 0.49\\nsamples = 42\\nvalue = [24, 18]'),\n",
       " Text(2.569222339397377, 132.6384, 'gini = 0.0\\nsamples = 2\\nvalue = [0, 2]'),\n",
       " Text(2.805218363396562, 132.6384, 'X[3] <= 637.0\\ngini = 0.48\\nsamples = 40\\nvalue = [24, 16]'),\n",
       " Text(2.569222339397377, 128.2896, 'X[7] <= 425.0\\ngini = 0.461\\nsamples = 36\\nvalue = [23, 13]'),\n",
       " Text(2.4512243273977847, 123.9408, 'X[15] <= 0.5\\ngini = 0.482\\nsamples = 32\\nvalue = [19, 13]'),\n",
       " Text(2.3332263153981923, 119.592, 'X[53] <= 0.5\\ngini = 0.495\\nsamples = 29\\nvalue = [16, 13]'),\n",
       " Text(2.2152283033985998, 115.2432, 'X[0] <= 40000.0\\ngini = 0.499\\nsamples = 27\\nvalue = [14, 13]'),\n",
       " Text(2.0972302913990073, 110.8944, 'gini = 0.0\\nsamples = 2\\nvalue = [0, 2]'),\n",
       " Text(2.3332263153981923, 110.8944, 'X[0] <= 135000.0\\ngini = 0.493\\nsamples = 25\\nvalue = [14, 11]'),\n",
       " Text(2.0972302913990073, 106.54560000000001, 'X[0] <= 125000.0\\ngini = 0.472\\nsamples = 21\\nvalue = [13, 8]'),\n",
       " Text(1.9792322793994146, 102.19680000000001, 'X[18] <= 0.5\\ngini = 0.498\\nsamples = 17\\nvalue = [9, 8]'),\n",
       " Text(1.8612342673998221, 97.848, 'X[6] <= 488.0\\ngini = 0.48\\nsamples = 15\\nvalue = [9, 6]'),\n",
       " Text(1.7432362554002296, 93.4992, 'X[1] <= 24.5\\ngini = 0.459\\nsamples = 14\\nvalue = [9, 5]'),\n",
       " Text(1.5072402314010447, 89.15039999999999, 'X[14] <= 0.5\\ngini = 0.346\\nsamples = 9\\nvalue = [7, 2]'),\n",
       " Text(1.3892422194014522, 84.80160000000001, 'gini = 0.0\\nsamples = 3\\nvalue = [3, 0]'),\n",
       " Text(1.6252382434006372, 84.80160000000001, 'X[0] <= 85000.0\\ngini = 0.444\\nsamples = 6\\nvalue = [4, 2]'),\n",
       " Text(1.5072402314010447, 80.4528, 'X[1] <= 23.0\\ngini = 0.32\\nsamples = 5\\nvalue = [4, 1]'),\n",
       " Text(1.3892422194014522, 76.10400000000001, 'gini = 0.5\\nsamples = 2\\nvalue = [1, 1]'),\n",
       " Text(1.6252382434006372, 76.10400000000001, 'gini = 0.0\\nsamples = 3\\nvalue = [3, 0]'),\n",
       " Text(1.7432362554002296, 80.4528, 'gini = 0.0\\nsamples = 1\\nvalue = [0, 1]'),\n",
       " Text(1.9792322793994146, 89.15039999999999, 'X[0] <= 65000.0\\ngini = 0.48\\nsamples = 5\\nvalue = [2, 3]'),\n",
       " Text(1.8612342673998221, 84.80160000000001, 'gini = 0.0\\nsamples = 2\\nvalue = [0, 2]'),\n",
       " Text(2.0972302913990073, 84.80160000000001, 'X[0] <= 105000.0\\ngini = 0.444\\nsamples = 3\\nvalue = [2, 1]'),\n",
       " Text(1.9792322793994146, 80.4528, 'gini = 0.0\\nsamples = 2\\nvalue = [2, 0]'),\n",
       " Text(2.2152283033985998, 80.4528, 'gini = 0.0\\nsamples = 1\\nvalue = [0, 1]'),\n",
       " Text(1.9792322793994146, 93.4992, 'gini = 0.0\\nsamples = 1\\nvalue = [0, 1]'),\n",
       " Text(2.0972302913990073, 97.848, 'gini = 0.0\\nsamples = 2\\nvalue = [0, 2]'),\n",
       " Text(2.2152283033985998, 102.19680000000001, 'gini = 0.0\\nsamples = 4\\nvalue = [4, 0]'),\n",
       " Text(2.569222339397377, 106.54560000000001, 'X[43] <= 0.5\\ngini = 0.375\\nsamples = 4\\nvalue = [1, 3]'),\n",
       " Text(2.4512243273977847, 102.19680000000001, 'gini = 0.0\\nsamples = 3\\nvalue = [0, 3]'),\n",
       " Text(2.6872203513969697, 102.19680000000001, 'gini = 0.0\\nsamples = 1\\nvalue = [1, 0]'),\n",
       " Text(2.4512243273977847, 115.2432, 'gini = 0.0\\nsamples = 2\\nvalue = [2, 0]'),\n",
       " Text(2.569222339397377, 119.592, 'gini = 0.0\\nsamples = 3\\nvalue = [3, 0]'),\n",
       " Text(2.6872203513969697, 123.9408, 'gini = 0.0\\nsamples = 4\\nvalue = [4, 0]'),\n",
       " Text(3.041214387395747, 128.2896, 'X[2] <= 195.0\\ngini = 0.375\\nsamples = 4\\nvalue = [1, 3]'),\n",
       " Text(2.9232163753961546, 123.9408, 'gini = 0.0\\nsamples = 3\\nvalue = [0, 3]'),\n",
       " Text(3.1592123993953396, 123.9408, 'gini = 0.0\\nsamples = 1\\nvalue = [1, 0]'),\n",
       " Text(8.786329020951102, 136.9872, 'X[9] <= 72.5\\ngini = 0.408\\nsamples = 477\\nvalue = [341, 136]'),\n",
       " Text(8.668331008951508, 132.6384, 'X[1] <= 52.5\\ngini = 0.405\\nsamples = 475\\nvalue = [341, 134]'),\n",
       " Text(6.54721879569028, 128.2896, 'X[5] <= -0.5\\ngini = 0.399\\nsamples = 461\\nvalue = [334, 127]'),\n",
       " Text(3.3952084233945246, 123.9408, 'X[8] <= 648.5\\ngini = 0.26\\nsamples = 52\\nvalue = [44, 8]'),\n",
       " Text(3.277210411394932, 119.592, 'X[4] <= -941.0\\ngini = 0.237\\nsamples = 51\\nvalue = [44, 7]'),\n",
       " Text(3.041214387395747, 115.2432, 'X[5] <= -2645.0\\ngini = 0.469\\nsamples = 8\\nvalue = [5, 3]'),\n",
       " Text(2.9232163753961546, 110.8944, 'gini = 0.0\\nsamples = 5\\nvalue = [5, 0]'),\n",
       " Text(3.1592123993953396, 110.8944, 'gini = 0.0\\nsamples = 3\\nvalue = [0, 3]'),\n",
       " Text(3.513206435394117, 115.2432, 'X[5] <= -202.0\\ngini = 0.169\\nsamples = 43\\nvalue = [39, 4]'),\n",
       " Text(3.3952084233945246, 110.8944, 'gini = 0.0\\nsamples = 19\\nvalue = [19, 0]'),\n",
       " Text(3.6312044473937095, 110.8944, 'X[3] <= -46.0\\ngini = 0.278\\nsamples = 24\\nvalue = [20, 4]'),\n",
       " Text(3.277210411394932, 106.54560000000001, 'X[21] <= 0.5\\ngini = 0.375\\nsamples = 4\\nvalue = [1, 3]'),\n",
       " Text(3.1592123993953396, 102.19680000000001, 'gini = 0.0\\nsamples = 2\\nvalue = [0, 2]'),\n",
       " Text(3.3952084233945246, 102.19680000000001, 'X[4] <= -194.5\\ngini = 0.5\\nsamples = 2\\nvalue = [1, 1]'),\n",
       " Text(3.277210411394932, 97.848, 'gini = 0.0\\nsamples = 1\\nvalue = [0, 1]'),\n",
       " Text(3.513206435394117, 97.848, 'gini = 0.0\\nsamples = 1\\nvalue = [1, 0]'),\n",
       " Text(3.985198483392487, 106.54560000000001, 'X[0] <= 185000.0\\ngini = 0.095\\nsamples = 20\\nvalue = [19, 1]'),\n",
       " Text(3.8672004713928945, 102.19680000000001, 'X[0] <= 170000.0\\ngini = 0.18\\nsamples = 10\\nvalue = [9, 1]'),\n",
       " Text(3.749202459393302, 97.848, 'gini = 0.0\\nsamples = 8\\nvalue = [8, 0]'),\n",
       " Text(3.985198483392487, 97.848, 'X[18] <= 0.5\\ngini = 0.5\\nsamples = 2\\nvalue = [1, 1]'),\n",
       " Text(3.8672004713928945, 93.4992, 'gini = 0.0\\nsamples = 1\\nvalue = [0, 1]'),\n",
       " Text(4.10319649539208, 93.4992, 'gini = 0.0\\nsamples = 1\\nvalue = [1, 0]'),\n",
       " Text(4.10319649539208, 102.19680000000001, 'gini = 0.0\\nsamples = 10\\nvalue = [10, 0]'),\n",
       " Text(3.513206435394117, 119.592, 'gini = 0.0\\nsamples = 1\\nvalue = [0, 1]'),\n",
       " Text(9.699229167986035, 123.9408, 'X[8] <= 650.5\\ngini = 0.413\\nsamples = 409\\nvalue = [290, 119]'),\n",
       " Text(8.845011137758517, 119.592, 'X[3] <= 1461.0\\ngini = 0.421\\nsamples = 392\\nvalue = [274, 118]'),\n",
       " Text(7.490569113302256, 115.2432, 'X[0] <= 205000.0\\ngini = 0.414\\nsamples = 379\\nvalue = [268, 111]'),\n",
       " Text(5.66667015438668, 110.8944, 'X[2] <= 243.5\\ngini = 0.391\\nsamples = 285\\nvalue = [209, 76]'),\n",
       " Text(5.106179597388616, 106.54560000000001, 'X[1] <= 48.5\\ngini = 0.377\\nsamples = 270\\nvalue = [202, 68]'),\n",
       " Text(4.693186555390042, 102.19680000000001, 'X[11] <= 4610.0\\ngini = 0.366\\nsamples = 261\\nvalue = [198, 63]'),\n",
       " Text(4.457190531390857, 97.848, 'X[11] <= 676.5\\ngini = 0.359\\nsamples = 256\\nvalue = [196, 60]'),\n",
       " Text(4.339192519391265, 93.4992, 'X[11] <= 626.5\\ngini = 0.377\\nsamples = 238\\nvalue = [178, 60]'),\n",
       " Text(4.221194507391672, 89.15039999999999, 'X[2] <= -2.5\\ngini = 0.371\\nsamples = 236\\nvalue = [178, 58]'),\n",
       " Text(4.10319649539208, 84.80160000000001, 'gini = 0.0\\nsamples = 1\\nvalue = [0, 1]'),\n",
       " Text(4.339192519391265, 84.80160000000001, 'X[6] <= 50.5\\ngini = 0.367\\nsamples = 235\\nvalue = [178, 57]'),\n",
       " Text(3.0808543445518604, 80.4528, 'X[3] <= 773.0\\ngini = 0.384\\nsamples = 208\\nvalue = [154, 54]'),\n",
       " Text(2.962856332552268, 76.10400000000001, 'X[1] <= 31.5\\ngini = 0.381\\nsamples = 207\\nvalue = [154, 53]'),\n",
       " Text(1.651972167994295, 71.7552, 'X[8] <= 440.0\\ngini = 0.325\\nsamples = 88\\nvalue = [70, 18]'),\n",
       " Text(1.5339741559947024, 67.40640000000002, 'X[0] <= 125000.0\\ngini = 0.314\\nsamples = 87\\nvalue = [70, 17]'),\n",
       " Text(0.6489890659977587, 63.05760000000001, 'X[0] <= 55000.0\\ngini = 0.391\\nsamples = 45\\nvalue = [33, 12]'),\n",
       " Text(0.23599602399918498, 58.7088, 'X[1] <= 30.5\\ngini = 0.133\\nsamples = 14\\nvalue = [13, 1]'),\n",
       " Text(0.11799801199959249, 54.360000000000014, 'gini = 0.0\\nsamples = 12\\nvalue = [12, 0]'),\n",
       " Text(0.3539940359987775, 54.360000000000014, 'X[13] <= 0.5\\ngini = 0.5\\nsamples = 2\\nvalue = [1, 1]'),\n",
       " Text(0.23599602399918498, 50.0112, 'gini = 0.0\\nsamples = 1\\nvalue = [1, 0]'),\n",
       " Text(0.47199204799836997, 50.0112, 'gini = 0.0\\nsamples = 1\\nvalue = [0, 1]'),\n",
       " Text(1.0619821079963325, 58.7088, 'X[1] <= 29.5\\ngini = 0.458\\nsamples = 31\\nvalue = [20, 11]'),\n",
       " Text(0.8259860839971475, 54.360000000000014, 'X[42] <= 0.5\\ngini = 0.499\\nsamples = 21\\nvalue = [11, 10]'),\n",
       " Text(0.707988071997555, 50.0112, 'gini = 0.0\\nsamples = 2\\nvalue = [2, 0]'),\n",
       " Text(0.9439840959967399, 50.0112, 'X[1] <= 27.5\\ngini = 0.499\\nsamples = 19\\nvalue = [9, 10]'),\n",
       " Text(0.707988071997555, 45.66240000000002, 'X[0] <= 85000.0\\ngini = 0.444\\nsamples = 9\\nvalue = [6, 3]'),\n",
       " Text(0.5899900599979625, 41.31360000000001, 'X[0] <= 75000.0\\ngini = 0.48\\nsamples = 5\\nvalue = [2, 3]'),\n",
       " Text(0.47199204799836997, 36.9648, 'gini = 0.0\\nsamples = 1\\nvalue = [1, 0]'),\n",
       " Text(0.707988071997555, 36.9648, 'X[1] <= 26.5\\ngini = 0.375\\nsamples = 4\\nvalue = [1, 3]'),\n",
       " Text(0.5899900599979625, 32.616000000000014, 'gini = 0.0\\nsamples = 2\\nvalue = [0, 2]'),\n",
       " Text(0.8259860839971475, 32.616000000000014, 'gini = 0.5\\nsamples = 2\\nvalue = [1, 1]'),\n",
       " Text(0.8259860839971475, 41.31360000000001, 'gini = 0.0\\nsamples = 4\\nvalue = [4, 0]'),\n",
       " Text(1.179980119995925, 45.66240000000002, 'X[0] <= 110000.0\\ngini = 0.42\\nsamples = 10\\nvalue = [3, 7]'),\n",
       " Text(1.0619821079963325, 41.31360000000001, 'gini = 0.0\\nsamples = 6\\nvalue = [0, 6]'),\n",
       " Text(1.2979781319955175, 41.31360000000001, 'X[21] <= 0.5\\ngini = 0.375\\nsamples = 4\\nvalue = [3, 1]'),\n",
       " Text(1.179980119995925, 36.9648, 'gini = 0.0\\nsamples = 1\\nvalue = [1, 0]'),\n",
       " Text(1.41597614399511, 36.9648, 'X[1] <= 28.5\\ngini = 0.444\\nsamples = 3\\nvalue = [2, 1]'),\n",
       " Text(1.2979781319955175, 32.616000000000014, 'gini = 0.5\\nsamples = 2\\nvalue = [1, 1]'),\n",
       " Text(1.5339741559947024, 32.616000000000014, 'gini = 0.0\\nsamples = 1\\nvalue = [1, 0]'),\n",
       " Text(1.2979781319955175, 54.360000000000014, 'X[18] <= 0.5\\ngini = 0.18\\nsamples = 10\\nvalue = [9, 1]'),\n",
       " Text(1.179980119995925, 50.0112, 'gini = 0.0\\nsamples = 9\\nvalue = [9, 0]'),\n",
       " Text(1.41597614399511, 50.0112, 'gini = 0.0\\nsamples = 1\\nvalue = [0, 1]'),\n",
       " Text(2.4189592459916462, 63.05760000000001, 'X[2] <= 162.5\\ngini = 0.21\\nsamples = 42\\nvalue = [37, 5]'),\n",
       " Text(2.3009612339920538, 58.7088, 'X[0] <= 195000.0\\ngini = 0.176\\nsamples = 41\\nvalue = [37, 4]'),\n",
       " Text(2.0059662039930726, 54.360000000000014, 'X[1] <= 27.5\\ngini = 0.102\\nsamples = 37\\nvalue = [35, 2]'),\n",
       " Text(1.7699701799938874, 50.0112, 'X[0] <= 135000.0\\ngini = 0.245\\nsamples = 7\\nvalue = [6, 1]'),\n",
       " Text(1.651972167994295, 45.66240000000002, 'X[14] <= 0.5\\ngini = 0.375\\nsamples = 4\\nvalue = [3, 1]'),\n",
       " Text(1.5339741559947024, 41.31360000000001, 'gini = 0.0\\nsamples = 1\\nvalue = [1, 0]'),\n",
       " Text(1.7699701799938874, 41.31360000000001, 'X[1] <= 26.5\\ngini = 0.444\\nsamples = 3\\nvalue = [2, 1]'),\n",
       " Text(1.651972167994295, 36.9648, 'gini = 0.0\\nsamples = 1\\nvalue = [1, 0]'),\n",
       " Text(1.8879681919934799, 36.9648, 'gini = 0.5\\nsamples = 2\\nvalue = [1, 1]'),\n",
       " Text(1.8879681919934799, 45.66240000000002, 'gini = 0.0\\nsamples = 3\\nvalue = [3, 0]'),\n",
       " Text(2.2419622279922575, 50.0112, 'X[0] <= 175000.0\\ngini = 0.064\\nsamples = 30\\nvalue = [29, 1]'),\n",
       " Text(2.123964215992665, 45.66240000000002, 'gini = 0.0\\nsamples = 23\\nvalue = [23, 0]'),\n",
       " Text(2.35996023999185, 45.66240000000002, 'X[21] <= 0.5\\ngini = 0.245\\nsamples = 7\\nvalue = [6, 1]'),\n",
       " Text(2.2419622279922575, 41.31360000000001, 'gini = 0.0\\nsamples = 1\\nvalue = [0, 1]'),\n",
       " Text(2.4779582519914425, 41.31360000000001, 'gini = 0.0\\nsamples = 6\\nvalue = [6, 0]'),\n",
       " Text(2.595956263991035, 54.360000000000014, 'X[15] <= 0.5\\ngini = 0.5\\nsamples = 4\\nvalue = [2, 2]'),\n",
       " Text(2.4779582519914425, 50.0112, 'gini = 0.0\\nsamples = 2\\nvalue = [0, 2]'),\n",
       " Text(2.7139542759906274, 50.0112, 'gini = 0.0\\nsamples = 2\\nvalue = [2, 0]'),\n",
       " Text(2.5369572579912387, 58.7088, 'gini = 0.0\\nsamples = 1\\nvalue = [0, 1]'),\n",
       " Text(1.7699701799938874, 67.40640000000002, 'gini = 0.0\\nsamples = 1\\nvalue = [0, 1]'),\n",
       " Text(4.27374049711024, 71.7552, 'X[1] <= 33.5\\ngini = 0.415\\nsamples = 119\\nvalue = [84, 35]'),\n",
       " Text(3.4219423479881823, 67.40640000000002, 'X[0] <= 155000.0\\ngini = 0.499\\nsamples = 21\\nvalue = [11, 10]'),\n",
       " Text(3.067948311989405, 63.05760000000001, 'X[15] <= 0.5\\ngini = 0.375\\nsamples = 12\\nvalue = [3, 9]'),\n",
       " Text(2.9499502999898124, 58.7088, 'X[0] <= 115000.0\\ngini = 0.298\\nsamples = 11\\nvalue = [2, 9]'),\n",
       " Text(2.83195228799022, 54.360000000000014, 'gini = 0.0\\nsamples = 5\\nvalue = [0, 5]'),\n",
       " Text(3.067948311989405, 54.360000000000014, 'X[1] <= 32.5\\ngini = 0.444\\nsamples = 6\\nvalue = [2, 4]'),\n",
       " Text(2.9499502999898124, 50.0112, 'X[18] <= 0.5\\ngini = 0.5\\nsamples = 4\\nvalue = [2, 2]'),\n",
       " Text(2.83195228799022, 45.66240000000002, 'X[0] <= 145000.0\\ngini = 0.444\\nsamples = 3\\nvalue = [2, 1]'),\n",
       " Text(2.7139542759906274, 41.31360000000001, 'gini = 0.0\\nsamples = 2\\nvalue = [2, 0]'),\n",
       " Text(2.9499502999898124, 41.31360000000001, 'gini = 0.0\\nsamples = 1\\nvalue = [0, 1]'),\n",
       " Text(3.067948311989405, 45.66240000000002, 'gini = 0.0\\nsamples = 1\\nvalue = [0, 1]'),\n",
       " Text(3.1859463239889974, 50.0112, 'gini = 0.0\\nsamples = 2\\nvalue = [0, 2]'),\n",
       " Text(3.1859463239889974, 58.7088, 'gini = 0.0\\nsamples = 1\\nvalue = [1, 0]'),\n",
       " Text(3.7759363839869597, 63.05760000000001, 'X[1] <= 32.5\\ngini = 0.198\\nsamples = 9\\nvalue = [8, 1]'),\n",
       " Text(3.6579383719873673, 58.7088, 'X[0] <= 190000.0\\ngini = 0.375\\nsamples = 4\\nvalue = [3, 1]'),\n",
       " Text(3.539940359987775, 54.360000000000014, 'X[21] <= 0.5\\ngini = 0.5\\nsamples = 2\\nvalue = [1, 1]'),\n",
       " Text(3.4219423479881823, 50.0112, 'gini = 0.0\\nsamples = 1\\nvalue = [0, 1]'),\n",
       " Text(3.6579383719873673, 50.0112, 'gini = 0.0\\nsamples = 1\\nvalue = [1, 0]'),\n",
       " Text(3.7759363839869597, 54.360000000000014, 'gini = 0.0\\nsamples = 2\\nvalue = [2, 0]'),\n",
       " Text(3.893934395986552, 58.7088, 'gini = 0.0\\nsamples = 5\\nvalue = [5, 0]'),\n",
       " Text(5.1255386462322985, 67.40640000000002, 'X[1] <= 35.5\\ngini = 0.38\\nsamples = 98\\nvalue = [73, 25]'),\n",
       " Text(4.24792843198533, 63.05760000000001, 'X[0] <= 155000.0\\ngini = 0.095\\nsamples = 20\\nvalue = [19, 1]'),\n",
       " Text(4.129930419985738, 58.7088, 'gini = 0.0\\nsamples = 12\\nvalue = [12, 0]'),\n",
       " Text(4.365926443984923, 58.7088, 'X[0] <= 170000.0\\ngini = 0.219\\nsamples = 8\\nvalue = [7, 1]'),\n",
       " Text(4.24792843198533, 54.360000000000014, 'gini = 0.0\\nsamples = 1\\nvalue = [0, 1]'),\n",
       " Text(4.483924455984515, 54.360000000000014, 'gini = 0.0\\nsamples = 7\\nvalue = [7, 0]'),\n",
       " Text(6.003148860479268, 63.05760000000001, 'X[1] <= 45.5\\ngini = 0.426\\nsamples = 78\\nvalue = [54, 24]'),\n",
       " Text(5.457408054981153, 58.7088, 'X[14] <= 0.5\\ngini = 0.454\\nsamples = 66\\nvalue = [43, 23]'),\n",
       " Text(4.7199204799837, 54.360000000000014, 'X[0] <= 40000.0\\ngini = 0.485\\nsamples = 46\\nvalue = [27, 19]'),\n",
       " Text(4.6019224679841075, 50.0112, 'gini = 0.0\\nsamples = 2\\nvalue = [2, 0]'),\n",
       " Text(4.8379184919832925, 50.0112, 'X[0] <= 175000.0\\ngini = 0.491\\nsamples = 44\\nvalue = [25, 19]'),\n",
       " Text(4.129930419985738, 45.66240000000002, 'X[1] <= 36.5\\ngini = 0.499\\nsamples = 23\\nvalue = [11, 12]'),\n",
       " Text(4.011932407986145, 41.31360000000001, 'gini = 0.0\\nsamples = 3\\nvalue = [0, 3]'),\n",
       " Text(4.24792843198533, 41.31360000000001, 'X[0] <= 135000.0\\ngini = 0.495\\nsamples = 20\\nvalue = [11, 9]'),\n",
       " Text(3.9529334019863485, 36.9648, 'X[1] <= 42.5\\ngini = 0.444\\nsamples = 12\\nvalue = [8, 4]'),\n",
       " Text(3.7169373779871635, 32.616000000000014, 'X[21] <= 0.5\\ngini = 0.219\\nsamples = 8\\nvalue = [7, 1]'),\n",
       " Text(3.598939365987571, 28.267200000000003, 'gini = 0.0\\nsamples = 5\\nvalue = [5, 0]'),\n",
       " Text(3.834935389986756, 28.267200000000003, 'X[0] <= 90000.0\\ngini = 0.444\\nsamples = 3\\nvalue = [2, 1]'),\n",
       " Text(3.7169373779871635, 23.91840000000002, 'gini = 0.5\\nsamples = 2\\nvalue = [1, 1]'),\n",
       " Text(3.9529334019863485, 23.91840000000002, 'gini = 0.0\\nsamples = 1\\nvalue = [1, 0]'),\n",
       " Text(4.188929425985534, 32.616000000000014, 'X[18] <= 0.5\\ngini = 0.375\\nsamples = 4\\nvalue = [1, 3]'),\n",
       " Text(4.070931413985941, 28.267200000000003, 'gini = 0.0\\nsamples = 1\\nvalue = [1, 0]'),\n",
       " Text(4.306927437985126, 28.267200000000003, 'gini = 0.0\\nsamples = 3\\nvalue = [0, 3]'),\n",
       " Text(4.542923461984311, 36.9648, 'X[0] <= 155000.0\\ngini = 0.469\\nsamples = 8\\nvalue = [3, 5]'),\n",
       " Text(4.424925449984719, 32.616000000000014, 'gini = 0.0\\nsamples = 3\\nvalue = [0, 3]'),\n",
       " Text(4.660921473983904, 32.616000000000014, 'X[42] <= 0.5\\ngini = 0.48\\nsamples = 5\\nvalue = [3, 2]'),\n",
       " Text(4.542923461984311, 28.267200000000003, 'gini = 0.0\\nsamples = 1\\nvalue = [1, 0]'),\n",
       " Text(4.778919485983496, 28.267200000000003, 'X[21] <= 0.5\\ngini = 0.5\\nsamples = 4\\nvalue = [2, 2]'),\n",
       " Text(4.660921473983904, 23.91840000000002, 'X[13] <= 0.5\\ngini = 0.444\\nsamples = 3\\nvalue = [1, 2]'),\n",
       " Text(4.542923461984311, 19.56960000000001, 'gini = 0.0\\nsamples = 1\\nvalue = [1, 0]'),\n",
       " Text(4.778919485983496, 19.56960000000001, 'gini = 0.0\\nsamples = 2\\nvalue = [0, 2]'),\n",
       " Text(4.896917497983089, 23.91840000000002, 'gini = 0.0\\nsamples = 1\\nvalue = [1, 0]'),\n",
       " Text(5.545906563980847, 45.66240000000002, 'X[7] <= 159.5\\ngini = 0.444\\nsamples = 21\\nvalue = [14, 7]'),\n",
       " Text(5.427908551981255, 41.31360000000001, 'X[1] <= 36.5\\ngini = 0.388\\nsamples = 19\\nvalue = [14, 5]'),\n",
       " Text(5.309910539981662, 36.9648, 'gini = 0.0\\nsamples = 3\\nvalue = [3, 0]'),\n",
       " Text(5.545906563980847, 36.9648, 'X[71] <= 0.5\\ngini = 0.43\\nsamples = 16\\nvalue = [11, 5]'),\n",
       " Text(5.427908551981255, 32.616000000000014, 'gini = 0.0\\nsamples = 1\\nvalue = [1, 0]'),\n",
       " Text(5.66390457598044, 32.616000000000014, 'X[15] <= 0.5\\ngini = 0.444\\nsamples = 15\\nvalue = [10, 5]'),\n",
       " Text(5.368909545981459, 28.267200000000003, 'X[1] <= 40.5\\ngini = 0.426\\nsamples = 13\\nvalue = [9, 4]'),\n",
       " Text(5.132913521982274, 23.91840000000002, 'X[18] <= 0.5\\ngini = 0.469\\nsamples = 8\\nvalue = [5, 3]'),\n",
       " Text(5.014915509982681, 19.56960000000001, 'X[20] <= 0.5\\ngini = 0.49\\nsamples = 7\\nvalue = [4, 3]'),\n",
       " Text(4.896917497983089, 15.220799999999997, 'gini = 0.0\\nsamples = 1\\nvalue = [0, 1]'),\n",
       " Text(5.132913521982274, 15.220799999999997, 'X[1] <= 39.5\\ngini = 0.444\\nsamples = 6\\nvalue = [4, 2]'),\n",
       " Text(5.014915509982681, 10.872000000000014, 'X[1] <= 38.5\\ngini = 0.48\\nsamples = 5\\nvalue = [3, 2]'),\n",
       " Text(4.896917497983089, 6.523200000000003, 'X[1] <= 37.5\\ngini = 0.375\\nsamples = 4\\nvalue = [3, 1]'),\n",
       " Text(4.778919485983496, 2.17440000000002, 'gini = 0.5\\nsamples = 2\\nvalue = [1, 1]'),\n",
       " Text(5.014915509982681, 2.17440000000002, 'gini = 0.0\\nsamples = 2\\nvalue = [2, 0]'),\n",
       " Text(5.132913521982274, 6.523200000000003, 'gini = 0.0\\nsamples = 1\\nvalue = [0, 1]'),\n",
       " Text(5.250911533981866, 10.872000000000014, 'gini = 0.0\\nsamples = 1\\nvalue = [1, 0]'),\n",
       " Text(5.250911533981866, 19.56960000000001, 'gini = 0.0\\nsamples = 1\\nvalue = [1, 0]'),\n",
       " Text(5.604905569980644, 23.91840000000002, 'X[18] <= 0.5\\ngini = 0.32\\nsamples = 5\\nvalue = [4, 1]'),\n",
       " Text(5.486907557981051, 19.56960000000001, 'gini = 0.0\\nsamples = 2\\nvalue = [2, 0]'),\n",
       " Text(5.722903581980236, 19.56960000000001, 'X[1] <= 44.5\\ngini = 0.444\\nsamples = 3\\nvalue = [2, 1]'),\n",
       " Text(5.604905569980644, 15.220799999999997, 'gini = 0.0\\nsamples = 1\\nvalue = [1, 0]'),\n",
       " Text(5.8409015939798286, 15.220799999999997, 'gini = 0.5\\nsamples = 2\\nvalue = [1, 1]'),\n",
       " Text(5.958899605979421, 28.267200000000003, 'X[0] <= 190000.0\\ngini = 0.5\\nsamples = 2\\nvalue = [1, 1]'),\n",
       " Text(5.8409015939798286, 23.91840000000002, 'gini = 0.0\\nsamples = 1\\nvalue = [1, 0]'),\n",
       " Text(6.0768976179790135, 23.91840000000002, 'gini = 0.0\\nsamples = 1\\nvalue = [0, 1]'),\n",
       " Text(5.66390457598044, 41.31360000000001, 'gini = 0.0\\nsamples = 2\\nvalue = [0, 2]'),\n",
       " Text(6.194895629978606, 54.360000000000014, 'X[1] <= 39.5\\ngini = 0.32\\nsamples = 20\\nvalue = [16, 4]'),\n",
       " Text(6.0768976179790135, 50.0112, 'X[0] <= 140000.0\\ngini = 0.444\\nsamples = 12\\nvalue = [8, 4]'),\n",
       " Text(5.958899605979421, 45.66240000000002, 'gini = 0.0\\nsamples = 4\\nvalue = [4, 0]'),\n",
       " Text(6.194895629978606, 45.66240000000002, 'X[21] <= 0.5\\ngini = 0.5\\nsamples = 8\\nvalue = [4, 4]'),\n",
       " Text(6.0768976179790135, 41.31360000000001, 'X[0] <= 165000.0\\ngini = 0.444\\nsamples = 6\\nvalue = [2, 4]'),\n",
       " Text(5.958899605979421, 36.9648, 'gini = 0.0\\nsamples = 2\\nvalue = [0, 2]'),\n",
       " Text(6.194895629978606, 36.9648, 'X[1] <= 36.5\\ngini = 0.5\\nsamples = 4\\nvalue = [2, 2]'),\n",
       " Text(6.0768976179790135, 32.616000000000014, 'gini = 0.0\\nsamples = 1\\nvalue = [0, 1]'),\n",
       " Text(6.3128936419781985, 32.616000000000014, 'X[1] <= 38.0\\ngini = 0.444\\nsamples = 3\\nvalue = [2, 1]'),\n",
       " Text(6.194895629978606, 28.267200000000003, 'gini = 0.0\\nsamples = 1\\nvalue = [1, 0]'),\n",
       " Text(6.430891653977791, 28.267200000000003, 'X[18] <= 0.5\\ngini = 0.5\\nsamples = 2\\nvalue = [1, 1]'),\n",
       " Text(6.3128936419781985, 23.91840000000002, 'gini = 0.0\\nsamples = 1\\nvalue = [0, 1]'),\n",
       " Text(6.548889665977383, 23.91840000000002, 'gini = 0.0\\nsamples = 1\\nvalue = [1, 0]'),\n",
       " Text(6.3128936419781985, 41.31360000000001, 'gini = 0.0\\nsamples = 2\\nvalue = [2, 0]'),\n",
       " Text(6.3128936419781985, 50.0112, 'gini = 0.0\\nsamples = 8\\nvalue = [8, 0]'),\n",
       " Text(6.548889665977383, 58.7088, 'X[14] <= 0.5\\ngini = 0.153\\nsamples = 12\\nvalue = [11, 1]'),\n",
       " Text(6.430891653977791, 54.360000000000014, 'gini = 0.0\\nsamples = 7\\nvalue = [7, 0]'),\n",
       " Text(6.666887677976976, 54.360000000000014, 'X[0] <= 135000.0\\ngini = 0.32\\nsamples = 5\\nvalue = [4, 1]'),\n",
       " Text(6.548889665977383, 50.0112, 'gini = 0.0\\nsamples = 2\\nvalue = [2, 0]'),\n",
       " Text(6.784885689976568, 50.0112, 'X[0] <= 180000.0\\ngini = 0.444\\nsamples = 3\\nvalue = [2, 1]'),\n",
       " Text(6.666887677976976, 45.66240000000002, 'X[18] <= 0.5\\ngini = 0.5\\nsamples = 2\\nvalue = [1, 1]'),\n",
       " Text(6.548889665977383, 41.31360000000001, 'gini = 0.0\\nsamples = 1\\nvalue = [0, 1]'),\n",
       " Text(6.784885689976568, 41.31360000000001, 'gini = 0.0\\nsamples = 1\\nvalue = [1, 0]'),\n",
       " Text(6.902883701976161, 45.66240000000002, 'gini = 0.0\\nsamples = 1\\nvalue = [1, 0]'),\n",
       " Text(3.198852356551453, 76.10400000000001, 'gini = 0.0\\nsamples = 1\\nvalue = [0, 1]'),\n",
       " Text(5.597530694230668, 80.4528, 'X[11] <= 168.5\\ngini = 0.198\\nsamples = 27\\nvalue = [24, 3]'),\n",
       " Text(5.3615346702314834, 76.10400000000001, 'X[8] <= 384.5\\ngini = 0.087\\nsamples = 22\\nvalue = [21, 1]'),\n",
       " Text(5.243536658231891, 71.7552, 'gini = 0.0\\nsamples = 20\\nvalue = [20, 0]'),\n",
       " Text(5.479532682231076, 71.7552, 'X[53] <= 0.5\\ngini = 0.5\\nsamples = 2\\nvalue = [1, 1]'),\n",
       " Text(5.3615346702314834, 67.40640000000002, 'gini = 0.0\\nsamples = 1\\nvalue = [1, 0]'),\n",
       " Text(5.597530694230668, 67.40640000000002, 'gini = 0.0\\nsamples = 1\\nvalue = [0, 1]'),\n",
       " Text(5.833526718229854, 76.10400000000001, 'X[1] <= 32.5\\ngini = 0.48\\nsamples = 5\\nvalue = [3, 2]'),\n",
       " Text(5.715528706230262, 71.7552, 'gini = 0.0\\nsamples = 2\\nvalue = [0, 2]'),\n",
       " Text(5.951524730229447, 71.7552, 'gini = 0.0\\nsamples = 3\\nvalue = [3, 0]'),\n",
       " Text(4.457190531390857, 89.15039999999999, 'gini = 0.0\\nsamples = 2\\nvalue = [0, 2]'),\n",
       " Text(4.57518854339045, 93.4992, 'gini = 0.0\\nsamples = 18\\nvalue = [18, 0]'),\n",
       " Text(4.929182579389227, 97.848, 'X[13] <= 0.5\\ngini = 0.48\\nsamples = 5\\nvalue = [2, 3]'),\n",
       " Text(4.811184567389635, 93.4992, 'gini = 0.0\\nsamples = 2\\nvalue = [0, 2]'),\n",
       " Text(5.04718059138882, 93.4992, 'X[6] <= 472.5\\ngini = 0.444\\nsamples = 3\\nvalue = [2, 1]'),\n",
       " Text(4.929182579389227, 89.15039999999999, 'gini = 0.0\\nsamples = 2\\nvalue = [2, 0]'),\n",
       " Text(5.165178603388412, 89.15039999999999, 'gini = 0.0\\nsamples = 1\\nvalue = [0, 1]'),\n",
       " Text(5.51917263938719, 102.19680000000001, 'X[13] <= 0.5\\ngini = 0.494\\nsamples = 9\\nvalue = [4, 5]'),\n",
       " Text(5.401174627387597, 97.848, 'X[33] <= 0.5\\ngini = 0.278\\nsamples = 6\\nvalue = [1, 5]'),\n",
       " Text(5.283176615388005, 93.4992, 'gini = 0.0\\nsamples = 5\\nvalue = [0, 5]'),\n",
       " Text(5.51917263938719, 93.4992, 'gini = 0.0\\nsamples = 1\\nvalue = [1, 0]'),\n",
       " Text(5.637170651386782, 97.848, 'gini = 0.0\\nsamples = 3\\nvalue = [3, 0]'),\n",
       " Text(6.2271607113847445, 106.54560000000001, 'X[0] <= 145000.0\\ngini = 0.498\\nsamples = 15\\nvalue = [7, 8]'),\n",
       " Text(5.9911646873855595, 102.19680000000001, 'X[1] <= 41.0\\ngini = 0.245\\nsamples = 7\\nvalue = [1, 6]'),\n",
       " Text(5.873166675385967, 97.848, 'gini = 0.0\\nsamples = 5\\nvalue = [0, 5]'),\n",
       " Text(6.109162699385152, 97.848, 'X[63] <= 0.5\\ngini = 0.5\\nsamples = 2\\nvalue = [1, 1]'),\n",
       " Text(5.9911646873855595, 93.4992, 'gini = 0.0\\nsamples = 1\\nvalue = [1, 0]'),\n",
       " Text(6.2271607113847445, 93.4992, 'gini = 0.0\\nsamples = 1\\nvalue = [0, 1]'),\n",
       " Text(6.463156735383929, 102.19680000000001, 'X[7] <= 393.0\\ngini = 0.375\\nsamples = 8\\nvalue = [6, 2]'),\n",
       " Text(6.345158723384337, 97.848, 'gini = 0.0\\nsamples = 5\\nvalue = [5, 0]'),\n",
       " Text(6.581154747383522, 97.848, 'X[1] <= 38.0\\ngini = 0.444\\nsamples = 3\\nvalue = [1, 2]'),\n",
       " Text(6.463156735383929, 93.4992, 'gini = 0.0\\nsamples = 1\\nvalue = [1, 0]'),\n",
       " Text(6.699152759383114, 93.4992, 'gini = 0.0\\nsamples = 2\\nvalue = [0, 2]'),\n",
       " Text(9.314468072217831, 110.8944, 'X[10] <= 640.0\\ngini = 0.467\\nsamples = 94\\nvalue = [59, 35]'),\n",
       " Text(9.196470060218239, 106.54560000000001, 'X[11] <= 273.0\\ngini = 0.456\\nsamples = 91\\nvalue = [59, 32]'),\n",
       " Text(9.078472048218647, 102.19680000000001, 'X[0] <= 245000.0\\ngini = 0.476\\nsamples = 82\\nvalue = [50, 32]'),\n",
       " Text(8.193486958221703, 97.848, 'X[18] <= 0.5\\ngini = 0.496\\nsamples = 66\\nvalue = [36, 30]'),\n",
       " Text(7.190503856225168, 93.4992, 'X[10] <= 32.0\\ngini = 0.467\\nsamples = 43\\nvalue = [27, 16]'),\n",
       " Text(7.072505844225575, 89.15039999999999, 'X[1] <= 42.5\\ngini = 0.45\\nsamples = 41\\nvalue = [27, 14]'),\n",
       " Text(6.541514790227409, 84.80160000000001, 'X[1] <= 30.5\\ngini = 0.391\\nsamples = 30\\nvalue = [22, 8]'),\n",
       " Text(6.187520754228632, 80.4528, 'X[21] <= 0.5\\ngini = 0.486\\nsamples = 12\\nvalue = [7, 5]'),\n",
       " Text(6.069522742229039, 76.10400000000001, 'gini = 0.0\\nsamples = 3\\nvalue = [3, 0]'),\n",
       " Text(6.305518766228224, 76.10400000000001, 'X[52] <= 0.5\\ngini = 0.494\\nsamples = 9\\nvalue = [4, 5]'),\n",
       " Text(6.187520754228632, 71.7552, 'gini = 0.0\\nsamples = 2\\nvalue = [2, 0]'),\n",
       " Text(6.423516778227817, 71.7552, 'X[0] <= 220000.0\\ngini = 0.408\\nsamples = 7\\nvalue = [2, 5]'),\n",
       " Text(6.305518766228224, 67.40640000000002, 'gini = 0.0\\nsamples = 3\\nvalue = [0, 3]'),\n",
       " Text(6.541514790227409, 67.40640000000002, 'X[0] <= 235000.0\\ngini = 0.5\\nsamples = 4\\nvalue = [2, 2]'),\n",
       " Text(6.423516778227817, 63.05760000000001, 'gini = 0.0\\nsamples = 2\\nvalue = [2, 0]'),\n",
       " Text(6.659512802227002, 63.05760000000001, 'gini = 0.0\\nsamples = 2\\nvalue = [0, 2]'),\n",
       " Text(6.8955088262261865, 80.4528, 'X[20] <= 0.5\\ngini = 0.278\\nsamples = 18\\nvalue = [15, 3]'),\n",
       " Text(6.777510814226594, 76.10400000000001, 'gini = 0.0\\nsamples = 8\\nvalue = [8, 0]'),\n",
       " Text(7.013506838225779, 76.10400000000001, 'X[1] <= 40.0\\ngini = 0.42\\nsamples = 10\\nvalue = [7, 3]'),\n",
       " Text(6.8955088262261865, 71.7552, 'X[0] <= 215000.0\\ngini = 0.469\\nsamples = 8\\nvalue = [5, 3]'),\n",
       " Text(6.777510814226594, 67.40640000000002, 'gini = 0.0\\nsamples = 1\\nvalue = [0, 1]'),\n",
       " Text(7.013506838225779, 67.40640000000002, 'X[1] <= 37.5\\ngini = 0.408\\nsamples = 7\\nvalue = [5, 2]'),\n",
       " Text(6.8955088262261865, 63.05760000000001, 'gini = 0.0\\nsamples = 4\\nvalue = [4, 0]'),\n",
       " Text(7.1315048502253715, 63.05760000000001, 'X[0] <= 235000.0\\ngini = 0.444\\nsamples = 3\\nvalue = [1, 2]'),\n",
       " Text(7.013506838225779, 58.7088, 'gini = 0.0\\nsamples = 1\\nvalue = [0, 1]'),\n",
       " Text(7.249502862224964, 58.7088, 'X[13] <= 0.5\\ngini = 0.5\\nsamples = 2\\nvalue = [1, 1]'),\n",
       " Text(7.1315048502253715, 54.360000000000014, 'gini = 0.0\\nsamples = 1\\nvalue = [0, 1]'),\n",
       " Text(7.3675008742245565, 54.360000000000014, 'gini = 0.0\\nsamples = 1\\nvalue = [1, 0]'),\n",
       " Text(7.1315048502253715, 71.7552, 'gini = 0.0\\nsamples = 2\\nvalue = [2, 0]'),\n",
       " Text(7.603496898223741, 84.80160000000001, 'X[1] <= 44.5\\ngini = 0.496\\nsamples = 11\\nvalue = [5, 6]'),\n",
       " Text(7.3675008742245565, 80.4528, 'X[14] <= 0.5\\ngini = 0.32\\nsamples = 5\\nvalue = [1, 4]'),\n",
       " Text(7.249502862224964, 76.10400000000001, 'gini = 0.5\\nsamples = 2\\nvalue = [1, 1]'),\n",
       " Text(7.485498886224149, 76.10400000000001, 'gini = 0.0\\nsamples = 3\\nvalue = [0, 3]'),\n",
       " Text(7.839492922222926, 80.4528, 'X[32] <= 0.5\\ngini = 0.444\\nsamples = 6\\nvalue = [4, 2]'),\n",
       " Text(7.721494910223334, 76.10400000000001, 'gini = 0.0\\nsamples = 1\\nvalue = [0, 1]'),\n",
       " Text(7.957490934222519, 76.10400000000001, 'X[1] <= 48.0\\ngini = 0.32\\nsamples = 5\\nvalue = [4, 1]'),\n",
       " Text(7.839492922222926, 71.7552, 'gini = 0.0\\nsamples = 2\\nvalue = [2, 0]'),\n",
       " Text(8.07548894622211, 71.7552, 'X[1] <= 49.5\\ngini = 0.444\\nsamples = 3\\nvalue = [2, 1]'),\n",
       " Text(7.957490934222519, 67.40640000000002, 'gini = 0.5\\nsamples = 2\\nvalue = [1, 1]'),\n",
       " Text(8.193486958221703, 67.40640000000002, 'gini = 0.0\\nsamples = 1\\nvalue = [1, 0]'),\n",
       " Text(7.30850186822476, 89.15039999999999, 'gini = 0.0\\nsamples = 2\\nvalue = [0, 2]'),\n",
       " Text(9.196470060218239, 93.4992, 'X[1] <= 29.0\\ngini = 0.476\\nsamples = 23\\nvalue = [9, 14]'),\n",
       " Text(9.078472048218647, 89.15039999999999, 'gini = 0.0\\nsamples = 2\\nvalue = [2, 0]'),\n",
       " Text(9.314468072217831, 89.15039999999999, 'X[2] <= 110.0\\ngini = 0.444\\nsamples = 21\\nvalue = [7, 14]'),\n",
       " Text(9.196470060218239, 84.80160000000001, 'X[1] <= 43.5\\ngini = 0.42\\nsamples = 20\\nvalue = [6, 14]'),\n",
       " Text(8.665479006220073, 80.4528, 'X[1] <= 31.0\\ngini = 0.32\\nsamples = 15\\nvalue = [3, 12]'),\n",
       " Text(8.54748099422048, 76.10400000000001, 'gini = 0.0\\nsamples = 3\\nvalue = [0, 3]'),\n",
       " Text(8.783477018219665, 76.10400000000001, 'X[21] <= 0.5\\ngini = 0.375\\nsamples = 12\\nvalue = [3, 9]'),\n",
       " Text(8.54748099422048, 71.7552, 'X[0] <= 225000.0\\ngini = 0.219\\nsamples = 8\\nvalue = [1, 7]'),\n",
       " Text(8.429482982220888, 67.40640000000002, 'X[1] <= 40.5\\ngini = 0.375\\nsamples = 4\\nvalue = [1, 3]'),\n",
       " Text(8.311484970221295, 63.05760000000001, 'gini = 0.0\\nsamples = 1\\nvalue = [1, 0]'),\n",
       " Text(8.54748099422048, 63.05760000000001, 'gini = 0.0\\nsamples = 3\\nvalue = [0, 3]'),\n",
       " Text(8.665479006220073, 67.40640000000002, 'gini = 0.0\\nsamples = 4\\nvalue = [0, 4]'),\n",
       " Text(9.01947304221885, 71.7552, 'X[0] <= 235000.0\\ngini = 0.5\\nsamples = 4\\nvalue = [2, 2]'),\n",
       " Text(8.901475030219258, 67.40640000000002, 'X[0] <= 225000.0\\ngini = 0.444\\nsamples = 3\\nvalue = [1, 2]'),\n",
       " Text(8.783477018219665, 63.05760000000001, 'X[1] <= 34.0\\ngini = 0.5\\nsamples = 2\\nvalue = [1, 1]'),\n",
       " Text(8.665479006220073, 58.7088, 'gini = 0.0\\nsamples = 1\\nvalue = [0, 1]'),\n",
       " Text(8.901475030219258, 58.7088, 'gini = 0.0\\nsamples = 1\\nvalue = [1, 0]'),\n",
       " Text(9.01947304221885, 63.05760000000001, 'gini = 0.0\\nsamples = 1\\nvalue = [0, 1]'),\n",
       " Text(9.137471054218443, 67.40640000000002, 'gini = 0.0\\nsamples = 1\\nvalue = [1, 0]'),\n",
       " Text(9.727461114216407, 80.4528, 'X[21] <= 0.5\\ngini = 0.48\\nsamples = 5\\nvalue = [3, 2]'),\n",
       " Text(9.609463102216814, 76.10400000000001, 'X[0] <= 215000.0\\ngini = 0.375\\nsamples = 4\\nvalue = [3, 1]'),\n",
       " Text(9.491465090217222, 71.7552, 'X[14] <= 0.5\\ngini = 0.5\\nsamples = 2\\nvalue = [1, 1]'),\n",
       " Text(9.373467078217628, 67.40640000000002, 'gini = 0.0\\nsamples = 1\\nvalue = [0, 1]'),\n",
       " Text(9.609463102216814, 67.40640000000002, 'gini = 0.0\\nsamples = 1\\nvalue = [1, 0]'),\n",
       " Text(9.727461114216407, 71.7552, 'gini = 0.0\\nsamples = 2\\nvalue = [2, 0]'),\n",
       " Text(9.845459126216, 76.10400000000001, 'gini = 0.0\\nsamples = 1\\nvalue = [0, 1]'),\n",
       " Text(9.432466084217424, 84.80160000000001, 'gini = 0.0\\nsamples = 1\\nvalue = [1, 0]'),\n",
       " Text(9.963457138215592, 97.848, 'X[21] <= 0.5\\ngini = 0.219\\nsamples = 16\\nvalue = [14, 2]'),\n",
       " Text(9.845459126216, 93.4992, 'gini = 0.0\\nsamples = 8\\nvalue = [8, 0]'),\n",
       " Text(10.081455150215184, 93.4992, 'X[1] <= 30.5\\ngini = 0.375\\nsamples = 8\\nvalue = [6, 2]'),\n",
       " Text(9.963457138215592, 89.15039999999999, 'gini = 0.0\\nsamples = 3\\nvalue = [3, 0]'),\n",
       " Text(10.199453162214777, 89.15039999999999, 'X[1] <= 37.0\\ngini = 0.48\\nsamples = 5\\nvalue = [3, 2]'),\n",
       " Text(10.081455150215184, 84.80160000000001, 'X[1] <= 33.0\\ngini = 0.444\\nsamples = 3\\nvalue = [1, 2]'),\n",
       " Text(9.963457138215592, 80.4528, 'gini = 0.0\\nsamples = 1\\nvalue = [0, 1]'),\n",
       " Text(10.199453162214777, 80.4528, 'X[18] <= 0.5\\ngini = 0.5\\nsamples = 2\\nvalue = [1, 1]'),\n",
       " Text(10.081455150215184, 76.10400000000001, 'gini = 0.0\\nsamples = 1\\nvalue = [0, 1]'),\n",
       " Text(10.31745117421437, 76.10400000000001, 'gini = 0.0\\nsamples = 1\\nvalue = [1, 0]'),\n",
       " Text(10.31745117421437, 84.80160000000001, 'gini = 0.0\\nsamples = 2\\nvalue = [2, 0]'),\n",
       " Text(9.314468072217831, 102.19680000000001, 'gini = 0.0\\nsamples = 9\\nvalue = [9, 0]'),\n",
       " Text(9.432466084217424, 106.54560000000001, 'gini = 0.0\\nsamples = 3\\nvalue = [0, 3]'),\n",
       " Text(10.199453162214777, 115.2432, 'X[4] <= 93.0\\ngini = 0.497\\nsamples = 13\\nvalue = [6, 7]'),\n",
       " Text(10.081455150215184, 110.8944, 'X[3] <= 1563.5\\ngini = 0.48\\nsamples = 10\\nvalue = [6, 4]'),\n",
       " Text(9.963457138215592, 106.54560000000001, 'gini = 0.0\\nsamples = 2\\nvalue = [0, 2]'),\n",
       " Text(10.199453162214777, 106.54560000000001, 'X[3] <= 3104.5\\ngini = 0.375\\nsamples = 8\\nvalue = [6, 2]'),\n",
       " Text(10.081455150215184, 102.19680000000001, 'gini = 0.0\\nsamples = 5\\nvalue = [5, 0]'),\n",
       " Text(10.31745117421437, 102.19680000000001, 'X[71] <= 0.5\\ngini = 0.444\\nsamples = 3\\nvalue = [1, 2]'),\n",
       " Text(10.199453162214777, 97.848, 'gini = 0.0\\nsamples = 1\\nvalue = [1, 0]'),\n",
       " Text(10.435449186213962, 97.848, 'gini = 0.0\\nsamples = 2\\nvalue = [0, 2]'),\n",
       " Text(10.31745117421437, 110.8944, 'gini = 0.0\\nsamples = 3\\nvalue = [0, 3]'),\n",
       " Text(10.553447198213554, 119.592, 'X[1] <= 40.5\\ngini = 0.111\\nsamples = 17\\nvalue = [16, 1]'),\n",
       " Text(10.435449186213962, 115.2432, 'gini = 0.0\\nsamples = 14\\nvalue = [14, 0]'),\n",
       " Text(10.671445210213147, 115.2432, 'X[72] <= 0.5\\ngini = 0.444\\nsamples = 3\\nvalue = [2, 1]'),\n",
       " Text(10.553447198213554, 110.8944, 'gini = 0.0\\nsamples = 2\\nvalue = [2, 0]'),\n",
       " Text(10.78944322221274, 110.8944, 'gini = 0.0\\nsamples = 1\\nvalue = [0, 1]'),\n",
       " Text(10.78944322221274, 128.2896, 'X[0] <= 90000.0\\ngini = 0.5\\nsamples = 14\\nvalue = [7, 7]'),\n",
       " Text(10.671445210213147, 123.9408, 'gini = 0.0\\nsamples = 4\\nvalue = [0, 4]'),\n",
       " Text(10.907441234212332, 123.9408, 'X[5] <= -75.0\\ngini = 0.42\\nsamples = 10\\nvalue = [7, 3]'),\n",
       " Text(10.78944322221274, 119.592, 'gini = 0.0\\nsamples = 1\\nvalue = [0, 1]'),\n",
       " Text(11.025439246211924, 119.592, 'X[18] <= 0.5\\ngini = 0.346\\nsamples = 9\\nvalue = [7, 2]'),\n",
       " Text(10.907441234212332, 115.2432, 'gini = 0.0\\nsamples = 4\\nvalue = [4, 0]'),\n",
       " Text(11.143437258211517, 115.2432, 'X[42] <= 0.5\\ngini = 0.48\\nsamples = 5\\nvalue = [3, 2]'),\n",
       " Text(11.025439246211924, 110.8944, 'gini = 0.0\\nsamples = 2\\nvalue = [2, 0]'),\n",
       " Text(11.26143527021111, 110.8944, 'X[0] <= 240000.0\\ngini = 0.444\\nsamples = 3\\nvalue = [1, 2]'),\n",
       " Text(11.143437258211517, 106.54560000000001, 'gini = 0.0\\nsamples = 2\\nvalue = [0, 2]'),\n",
       " Text(11.379433282210702, 106.54560000000001, 'gini = 0.0\\nsamples = 1\\nvalue = [1, 0]'),\n",
       " Text(8.904327032950695, 132.6384, 'gini = 0.0\\nsamples = 2\\nvalue = [0, 2]'),\n",
       " Text(14.73315802951162, 141.336, 'X[0] <= 85000.0\\ngini = 0.351\\nsamples = 264\\nvalue = [204, 60]'),\n",
       " Text(14.172667472513554, 136.9872, 'X[6] <= -200.5\\ngini = 0.12\\nsamples = 47\\nvalue = [44, 3]'),\n",
       " Text(14.054669460513962, 132.6384, 'gini = 0.0\\nsamples = 2\\nvalue = [0, 2]'),\n",
       " Text(14.290665484513147, 132.6384, 'X[1] <= 48.5\\ngini = 0.043\\nsamples = 45\\nvalue = [44, 1]'),\n",
       " Text(14.172667472513554, 128.2896, 'gini = 0.0\\nsamples = 40\\nvalue = [40, 0]'),\n",
       " Text(14.40866349651274, 128.2896, 'X[1] <= 52.5\\ngini = 0.32\\nsamples = 5\\nvalue = [4, 1]'),\n",
       " Text(14.290665484513147, 123.9408, 'gini = 0.0\\nsamples = 1\\nvalue = [0, 1]'),\n",
       " Text(14.526661508512332, 123.9408, 'gini = 0.0\\nsamples = 4\\nvalue = [4, 0]'),\n",
       " Text(15.293648586509683, 136.9872, 'X[10] <= 22.5\\ngini = 0.387\\nsamples = 217\\nvalue = [160, 57]'),\n",
       " Text(14.998653556510702, 132.6384, 'X[3] <= 2841.0\\ngini = 0.406\\nsamples = 191\\nvalue = [137, 54]'),\n",
       " Text(14.880655544511109, 128.2896, 'X[2] <= 49.5\\ngini = 0.399\\nsamples = 189\\nvalue = [137, 52]'),\n",
       " Text(14.762657532511517, 123.9408, 'X[7] <= 1260.0\\ngini = 0.415\\nsamples = 177\\nvalue = [125, 52]'),\n",
       " Text(14.644659520511924, 119.592, 'X[1] <= 33.5\\ngini = 0.423\\nsamples = 171\\nvalue = [119, 52]'),\n",
       " Text(13.134653710704638, 115.2432, 'X[1] <= 29.5\\ngini = 0.361\\nsamples = 72\\nvalue = [55, 17]'),\n",
       " Text(12.352916881207339, 110.8944, 'X[14] <= 0.5\\ngini = 0.454\\nsamples = 43\\nvalue = [28, 15]'),\n",
       " Text(11.615429306209887, 106.54560000000001, 'X[0] <= 160000.0\\ngini = 0.499\\nsamples = 25\\nvalue = [13, 12]'),\n",
       " Text(11.08443825221172, 102.19680000000001, 'X[1] <= 26.5\\ngini = 0.397\\nsamples = 11\\nvalue = [8, 3]'),\n",
       " Text(10.966440240212128, 97.848, 'gini = 0.0\\nsamples = 2\\nvalue = [2, 0]'),\n",
       " Text(11.202436264211313, 97.848, 'X[1] <= 27.5\\ngini = 0.444\\nsamples = 9\\nvalue = [6, 3]'),\n",
       " Text(11.08443825221172, 93.4992, 'gini = 0.0\\nsamples = 1\\nvalue = [0, 1]'),\n",
       " Text(11.320434276210905, 93.4992, 'X[0] <= 145000.0\\ngini = 0.375\\nsamples = 8\\nvalue = [6, 2]'),\n",
       " Text(11.202436264211313, 89.15039999999999, 'X[2] <= -120.0\\ngini = 0.5\\nsamples = 4\\nvalue = [2, 2]'),\n",
       " Text(11.08443825221172, 84.80160000000001, 'gini = 0.0\\nsamples = 1\\nvalue = [1, 0]'),\n",
       " Text(11.320434276210905, 84.80160000000001, 'X[0] <= 110000.0\\ngini = 0.444\\nsamples = 3\\nvalue = [1, 2]'),\n",
       " Text(11.202436264211313, 80.4528, 'gini = 0.0\\nsamples = 1\\nvalue = [0, 1]'),\n",
       " Text(11.438432288210498, 80.4528, 'X[0] <= 130000.0\\ngini = 0.5\\nsamples = 2\\nvalue = [1, 1]'),\n",
       " Text(11.320434276210905, 76.10400000000001, 'gini = 0.0\\nsamples = 1\\nvalue = [1, 0]'),\n",
       " Text(11.55643030021009, 76.10400000000001, 'gini = 0.0\\nsamples = 1\\nvalue = [0, 1]'),\n",
       " Text(11.438432288210498, 89.15039999999999, 'gini = 0.0\\nsamples = 4\\nvalue = [4, 0]'),\n",
       " Text(12.146420360208053, 102.19680000000001, 'X[1] <= 26.0\\ngini = 0.459\\nsamples = 14\\nvalue = [5, 9]'),\n",
       " Text(12.02842234820846, 97.848, 'gini = 0.0\\nsamples = 1\\nvalue = [1, 0]'),\n",
       " Text(12.264418372207645, 97.848, 'X[0] <= 245000.0\\ngini = 0.426\\nsamples = 13\\nvalue = [4, 9]'),\n",
       " Text(12.146420360208053, 93.4992, 'X[0] <= 220000.0\\ngini = 0.463\\nsamples = 11\\nvalue = [4, 7]'),\n",
       " Text(12.02842234820846, 89.15039999999999, 'X[1] <= 28.5\\ngini = 0.42\\nsamples = 10\\nvalue = [3, 7]'),\n",
       " Text(11.792426324209275, 84.80160000000001, 'X[0] <= 175000.0\\ngini = 0.5\\nsamples = 4\\nvalue = [2, 2]'),\n",
       " Text(11.674428312209683, 80.4528, 'gini = 0.0\\nsamples = 1\\nvalue = [0, 1]'),\n",
       " Text(11.910424336208868, 80.4528, 'X[1] <= 27.5\\ngini = 0.444\\nsamples = 3\\nvalue = [2, 1]'),\n",
       " Text(11.792426324209275, 76.10400000000001, 'X[0] <= 190000.0\\ngini = 0.5\\nsamples = 2\\nvalue = [1, 1]'),\n",
       " Text(11.674428312209683, 71.7552, 'gini = 0.0\\nsamples = 1\\nvalue = [1, 0]'),\n",
       " Text(11.910424336208868, 71.7552, 'gini = 0.0\\nsamples = 1\\nvalue = [0, 1]'),\n",
       " Text(12.02842234820846, 76.10400000000001, 'gini = 0.0\\nsamples = 1\\nvalue = [1, 0]'),\n",
       " Text(12.264418372207645, 84.80160000000001, 'X[4] <= 216.0\\ngini = 0.278\\nsamples = 6\\nvalue = [1, 5]'),\n",
       " Text(12.146420360208053, 80.4528, 'gini = 0.0\\nsamples = 4\\nvalue = [0, 4]'),\n",
       " Text(12.382416384207238, 80.4528, 'X[43] <= 0.5\\ngini = 0.5\\nsamples = 2\\nvalue = [1, 1]'),\n",
       " Text(12.264418372207645, 76.10400000000001, 'gini = 0.0\\nsamples = 1\\nvalue = [1, 0]'),\n",
       " Text(12.50041439620683, 76.10400000000001, 'gini = 0.0\\nsamples = 1\\nvalue = [0, 1]'),\n",
       " Text(12.264418372207645, 89.15039999999999, 'gini = 0.0\\nsamples = 1\\nvalue = [1, 0]'),\n",
       " Text(12.382416384207238, 93.4992, 'gini = 0.0\\nsamples = 2\\nvalue = [0, 2]'),\n",
       " Text(13.090404456204793, 106.54560000000001, 'X[18] <= 0.5\\ngini = 0.278\\nsamples = 18\\nvalue = [15, 3]'),\n",
       " Text(12.736410420206015, 102.19680000000001, 'X[0] <= 215000.0\\ngini = 0.142\\nsamples = 13\\nvalue = [12, 1]'),\n",
       " Text(12.618412408206423, 97.848, 'gini = 0.0\\nsamples = 8\\nvalue = [8, 0]'),\n",
       " Text(12.854408432205608, 97.848, 'X[0] <= 255000.0\\ngini = 0.32\\nsamples = 5\\nvalue = [4, 1]'),\n",
       " Text(12.736410420206015, 93.4992, 'X[20] <= 0.5\\ngini = 0.444\\nsamples = 3\\nvalue = [2, 1]'),\n",
       " Text(12.618412408206423, 89.15039999999999, 'X[1] <= 26.0\\ngini = 0.5\\nsamples = 2\\nvalue = [1, 1]'),\n",
       " Text(12.50041439620683, 84.80160000000001, 'gini = 0.0\\nsamples = 1\\nvalue = [1, 0]'),\n",
       " Text(12.736410420206015, 84.80160000000001, 'gini = 0.0\\nsamples = 1\\nvalue = [0, 1]'),\n",
       " Text(12.854408432205608, 89.15039999999999, 'gini = 0.0\\nsamples = 1\\nvalue = [1, 0]'),\n",
       " Text(12.9724064442052, 93.4992, 'gini = 0.0\\nsamples = 2\\nvalue = [2, 0]'),\n",
       " Text(13.44439849220357, 102.19680000000001, 'X[20] <= 0.5\\ngini = 0.48\\nsamples = 5\\nvalue = [3, 2]'),\n",
       " Text(13.326400480203977, 97.848, 'X[0] <= 180000.0\\ngini = 0.375\\nsamples = 4\\nvalue = [3, 1]'),\n",
       " Text(13.208402468204385, 93.4992, 'gini = 0.0\\nsamples = 3\\nvalue = [3, 0]'),\n",
       " Text(13.44439849220357, 93.4992, 'gini = 0.0\\nsamples = 1\\nvalue = [0, 1]'),\n",
       " Text(13.562396504203162, 97.848, 'gini = 0.0\\nsamples = 1\\nvalue = [0, 1]'),\n",
       " Text(13.91639054020194, 110.8944, 'X[11] <= 575.0\\ngini = 0.128\\nsamples = 29\\nvalue = [27, 2]'),\n",
       " Text(13.798392528202347, 106.54560000000001, 'X[20] <= 0.5\\ngini = 0.069\\nsamples = 28\\nvalue = [27, 1]'),\n",
       " Text(13.680394516202755, 102.19680000000001, 'gini = 0.0\\nsamples = 20\\nvalue = [20, 0]'),\n",
       " Text(13.91639054020194, 102.19680000000001, 'X[0] <= 220000.0\\ngini = 0.219\\nsamples = 8\\nvalue = [7, 1]'),\n",
       " Text(13.798392528202347, 97.848, 'gini = 0.0\\nsamples = 5\\nvalue = [5, 0]'),\n",
       " Text(14.034388552201532, 97.848, 'X[13] <= 0.5\\ngini = 0.444\\nsamples = 3\\nvalue = [2, 1]'),\n",
       " Text(13.91639054020194, 93.4992, 'gini = 0.0\\nsamples = 2\\nvalue = [2, 0]'),\n",
       " Text(14.152386564201125, 93.4992, 'gini = 0.0\\nsamples = 1\\nvalue = [0, 1]'),\n",
       " Text(14.034388552201532, 106.54560000000001, 'gini = 0.0\\nsamples = 1\\nvalue = [0, 1]'),\n",
       " Text(16.154665330319208, 115.2432, 'X[1] <= 37.5\\ngini = 0.457\\nsamples = 99\\nvalue = [64, 35]'),\n",
       " Text(15.037371654198068, 110.8944, 'X[0] <= 190000.0\\ngini = 0.5\\nsamples = 26\\nvalue = [13, 13]'),\n",
       " Text(14.506380600199902, 106.54560000000001, 'X[15] <= 0.5\\ngini = 0.346\\nsamples = 9\\nvalue = [7, 2]'),\n",
       " Text(14.38838258820031, 102.19680000000001, 'X[21] <= 0.5\\ngini = 0.219\\nsamples = 8\\nvalue = [7, 1]'),\n",
       " Text(14.270384576200717, 97.848, 'gini = 0.0\\nsamples = 5\\nvalue = [5, 0]'),\n",
       " Text(14.506380600199902, 97.848, 'X[0] <= 130000.0\\ngini = 0.444\\nsamples = 3\\nvalue = [2, 1]'),\n",
       " Text(14.38838258820031, 93.4992, 'gini = 0.0\\nsamples = 1\\nvalue = [1, 0]'),\n",
       " Text(14.624378612199495, 93.4992, 'X[18] <= 0.5\\ngini = 0.5\\nsamples = 2\\nvalue = [1, 1]'),\n",
       " Text(14.506380600199902, 89.15039999999999, 'gini = 0.0\\nsamples = 1\\nvalue = [0, 1]'),\n",
       " Text(14.742376624199087, 89.15039999999999, 'gini = 0.0\\nsamples = 1\\nvalue = [1, 0]'),\n",
       " Text(14.624378612199495, 102.19680000000001, 'gini = 0.0\\nsamples = 1\\nvalue = [0, 1]'),\n",
       " Text(15.568362708196235, 106.54560000000001, 'X[11] <= 75.0\\ngini = 0.457\\nsamples = 17\\nvalue = [6, 11]'),\n",
       " Text(15.450364696196642, 102.19680000000001, 'X[4] <= 307.5\\ngini = 0.391\\nsamples = 15\\nvalue = [4, 11]'),\n",
       " Text(15.33236668419705, 97.848, 'X[14] <= 0.5\\ngini = 0.337\\nsamples = 14\\nvalue = [3, 11]'),\n",
       " Text(15.096370660197865, 93.4992, 'X[1] <= 34.5\\ngini = 0.198\\nsamples = 9\\nvalue = [1, 8]'),\n",
       " Text(14.978372648198272, 89.15039999999999, 'X[20] <= 0.5\\ngini = 0.444\\nsamples = 3\\nvalue = [1, 2]'),\n",
       " Text(14.86037463619868, 84.80160000000001, 'gini = 0.0\\nsamples = 1\\nvalue = [0, 1]'),\n",
       " Text(15.096370660197865, 84.80160000000001, 'X[15] <= 0.5\\ngini = 0.5\\nsamples = 2\\nvalue = [1, 1]'),\n",
       " Text(14.978372648198272, 80.4528, 'gini = 0.0\\nsamples = 1\\nvalue = [1, 0]'),\n",
       " Text(15.214368672197457, 80.4528, 'gini = 0.0\\nsamples = 1\\nvalue = [0, 1]'),\n",
       " Text(15.214368672197457, 89.15039999999999, 'gini = 0.0\\nsamples = 6\\nvalue = [0, 6]'),\n",
       " Text(15.568362708196235, 93.4992, 'X[21] <= 0.5\\ngini = 0.48\\nsamples = 5\\nvalue = [2, 3]'),\n",
       " Text(15.450364696196642, 89.15039999999999, 'gini = 0.0\\nsamples = 2\\nvalue = [0, 2]'),\n",
       " Text(15.686360720195827, 89.15039999999999, 'X[1] <= 36.0\\ngini = 0.444\\nsamples = 3\\nvalue = [2, 1]'),\n",
       " Text(15.568362708196235, 84.80160000000001, 'X[0] <= 235000.0\\ngini = 0.5\\nsamples = 2\\nvalue = [1, 1]'),\n",
       " Text(15.450364696196642, 80.4528, 'gini = 0.0\\nsamples = 1\\nvalue = [0, 1]'),\n",
       " Text(15.686360720195827, 80.4528, 'gini = 0.0\\nsamples = 1\\nvalue = [1, 0]'),\n",
       " Text(15.80435873219542, 84.80160000000001, 'gini = 0.0\\nsamples = 1\\nvalue = [1, 0]'),\n",
       " Text(15.568362708196235, 97.848, 'gini = 0.0\\nsamples = 1\\nvalue = [1, 0]'),\n",
       " Text(15.686360720195827, 102.19680000000001, 'gini = 0.0\\nsamples = 2\\nvalue = [2, 0]'),\n",
       " Text(17.27195900644035, 110.8944, 'X[15] <= 0.5\\ngini = 0.421\\nsamples = 73\\nvalue = [51, 22]'),\n",
       " Text(17.15396099444076, 106.54560000000001, 'X[11] <= 143.0\\ngini = 0.455\\nsamples = 63\\nvalue = [41, 22]'),\n",
       " Text(16.858965964441776, 102.19680000000001, 'X[0] <= 130000.0\\ngini = 0.432\\nsamples = 57\\nvalue = [39, 18]'),\n",
       " Text(16.62296994044259, 97.848, 'X[0] <= 95000.0\\ngini = 0.375\\nsamples = 4\\nvalue = [1, 3]'),\n",
       " Text(16.504971928443, 93.4992, 'gini = 0.0\\nsamples = 1\\nvalue = [1, 0]'),\n",
       " Text(16.740967952442183, 93.4992, 'gini = 0.0\\nsamples = 3\\nvalue = [0, 3]'),\n",
       " Text(17.09496198844096, 97.848, 'X[4] <= 341.0\\ngini = 0.406\\nsamples = 53\\nvalue = [38, 15]'),\n",
       " Text(16.97696397644137, 93.4992, 'X[20] <= 0.5\\ngini = 0.393\\nsamples = 52\\nvalue = [38, 14]'),\n",
       " Text(16.158352768194195, 89.15039999999999, 'X[0] <= 190000.0\\ngini = 0.165\\nsamples = 11\\nvalue = [10, 1]'),\n",
       " Text(16.040354756194603, 84.80160000000001, 'X[1] <= 42.5\\ngini = 0.375\\nsamples = 4\\nvalue = [3, 1]'),\n",
       " Text(15.922356744195012, 80.4528, 'gini = 0.0\\nsamples = 2\\nvalue = [2, 0]'),\n",
       " Text(16.158352768194195, 80.4528, 'X[13] <= 0.5\\ngini = 0.5\\nsamples = 2\\nvalue = [1, 1]'),\n",
       " Text(16.040354756194603, 76.10400000000001, 'gini = 0.0\\nsamples = 1\\nvalue = [1, 0]'),\n",
       " Text(16.276350780193788, 76.10400000000001, 'gini = 0.0\\nsamples = 1\\nvalue = [0, 1]'),\n",
       " Text(16.276350780193788, 84.80160000000001, 'gini = 0.0\\nsamples = 7\\nvalue = [7, 0]'),\n",
       " Text(17.79557518468854, 89.15039999999999, 'X[1] <= 49.5\\ngini = 0.433\\nsamples = 41\\nvalue = [28, 13]'),\n",
       " Text(17.308833385190223, 84.80160000000001, 'X[1] <= 42.5\\ngini = 0.401\\nsamples = 36\\nvalue = [26, 10]'),\n",
       " Text(16.807341834191956, 80.4528, 'X[14] <= 0.5\\ngini = 0.488\\nsamples = 19\\nvalue = [11, 8]'),\n",
       " Text(16.512346804192973, 76.10400000000001, 'X[0] <= 205000.0\\ngini = 0.426\\nsamples = 13\\nvalue = [9, 4]'),\n",
       " Text(16.276350780193788, 71.7552, 'X[4] <= -25.0\\ngini = 0.5\\nsamples = 6\\nvalue = [3, 3]'),\n",
       " Text(16.158352768194195, 67.40640000000002, 'gini = 0.0\\nsamples = 1\\nvalue = [1, 0]'),\n",
       " Text(16.39434879219338, 67.40640000000002, 'X[0] <= 190000.0\\ngini = 0.48\\nsamples = 5\\nvalue = [2, 3]'),\n",
       " Text(16.276350780193788, 63.05760000000001, 'X[1] <= 39.5\\ngini = 0.444\\nsamples = 3\\nvalue = [2, 1]'),\n",
       " Text(16.158352768194195, 58.7088, 'gini = 0.0\\nsamples = 1\\nvalue = [1, 0]'),\n",
       " Text(16.39434879219338, 58.7088, 'X[1] <= 41.0\\ngini = 0.5\\nsamples = 2\\nvalue = [1, 1]'),\n",
       " Text(16.276350780193788, 54.360000000000014, 'gini = 0.0\\nsamples = 1\\nvalue = [0, 1]'),\n",
       " Text(16.512346804192973, 54.360000000000014, 'gini = 0.0\\nsamples = 1\\nvalue = [1, 0]'),\n",
       " Text(16.512346804192973, 63.05760000000001, 'gini = 0.0\\nsamples = 2\\nvalue = [0, 2]'),\n",
       " Text(16.748342828192158, 71.7552, 'X[1] <= 39.0\\ngini = 0.245\\nsamples = 7\\nvalue = [6, 1]'),\n",
       " Text(16.630344816192565, 67.40640000000002, 'gini = 0.0\\nsamples = 4\\nvalue = [4, 0]'),\n",
       " Text(16.86634084019175, 67.40640000000002, 'X[0] <= 230000.0\\ngini = 0.444\\nsamples = 3\\nvalue = [2, 1]'),\n",
       " Text(16.748342828192158, 63.05760000000001, 'gini = 0.0\\nsamples = 2\\nvalue = [2, 0]'),\n",
       " Text(16.984338852191343, 63.05760000000001, 'gini = 0.0\\nsamples = 1\\nvalue = [0, 1]'),\n",
       " Text(17.10233686419094, 76.10400000000001, 'X[0] <= 170000.0\\ngini = 0.444\\nsamples = 6\\nvalue = [2, 4]'),\n",
       " Text(16.984338852191343, 71.7552, 'gini = 0.0\\nsamples = 2\\nvalue = [2, 0]'),\n",
       " Text(17.22033487619053, 71.7552, 'gini = 0.0\\nsamples = 4\\nvalue = [0, 4]'),\n",
       " Text(17.810324936188493, 80.4528, 'X[0] <= 260000.0\\ngini = 0.208\\nsamples = 17\\nvalue = [15, 2]'),\n",
       " Text(17.57432891218931, 76.10400000000001, 'X[0] <= 165000.0\\ngini = 0.124\\nsamples = 15\\nvalue = [14, 1]'),\n",
       " Text(17.456330900189716, 71.7552, 'X[13] <= 0.5\\ngini = 0.375\\nsamples = 4\\nvalue = [3, 1]'),\n",
       " Text(17.338332888190124, 67.40640000000002, 'gini = 0.0\\nsamples = 3\\nvalue = [3, 0]'),\n",
       " Text(17.57432891218931, 67.40640000000002, 'gini = 0.0\\nsamples = 1\\nvalue = [0, 1]'),\n",
       " Text(17.6923269241889, 71.7552, 'gini = 0.0\\nsamples = 11\\nvalue = [11, 0]'),\n",
       " Text(18.04632096018768, 76.10400000000001, 'X[14] <= 0.5\\ngini = 0.5\\nsamples = 2\\nvalue = [1, 1]'),\n",
       " Text(17.928322948188086, 71.7552, 'gini = 0.0\\nsamples = 1\\nvalue = [0, 1]'),\n",
       " Text(18.16431897218727, 71.7552, 'gini = 0.0\\nsamples = 1\\nvalue = [1, 0]'),\n",
       " Text(18.282316984186863, 84.80160000000001, 'X[14] <= 0.5\\ngini = 0.48\\nsamples = 5\\nvalue = [2, 3]'),\n",
       " Text(18.16431897218727, 80.4528, 'gini = 0.0\\nsamples = 2\\nvalue = [0, 2]'),\n",
       " Text(18.400314996186456, 80.4528, 'X[0] <= 190000.0\\ngini = 0.444\\nsamples = 3\\nvalue = [2, 1]'),\n",
       " Text(18.282316984186863, 76.10400000000001, 'gini = 0.0\\nsamples = 1\\nvalue = [0, 1]'),\n",
       " Text(18.51831300818605, 76.10400000000001, 'gini = 0.0\\nsamples = 2\\nvalue = [2, 0]'),\n",
       " Text(17.212960000440553, 93.4992, 'gini = 0.0\\nsamples = 1\\nvalue = [0, 1]'),\n",
       " Text(17.448956024439738, 102.19680000000001, 'X[11] <= 1405.5\\ngini = 0.444\\nsamples = 6\\nvalue = [2, 4]'),\n",
       " Text(17.330958012440146, 97.848, 'gini = 0.0\\nsamples = 4\\nvalue = [0, 4]'),\n",
       " Text(17.56695403643933, 97.848, 'gini = 0.0\\nsamples = 2\\nvalue = [2, 0]'),\n",
       " Text(17.389957018439944, 106.54560000000001, 'gini = 0.0\\nsamples = 10\\nvalue = [10, 0]'),\n",
       " Text(14.880655544511109, 119.592, 'gini = 0.0\\nsamples = 6\\nvalue = [6, 0]'),\n",
       " Text(14.998653556510702, 123.9408, 'gini = 0.0\\nsamples = 12\\nvalue = [12, 0]'),\n",
       " Text(15.116651568510294, 128.2896, 'gini = 0.0\\nsamples = 2\\nvalue = [0, 2]'),\n",
       " Text(15.588643616508664, 132.6384, 'X[2] <= 305.5\\ngini = 0.204\\nsamples = 26\\nvalue = [23, 3]'),\n",
       " Text(15.352647592509479, 128.2896, 'X[6] <= 1740.0\\ngini = 0.083\\nsamples = 23\\nvalue = [22, 1]'),\n",
       " Text(15.234649580509886, 123.9408, 'gini = 0.0\\nsamples = 22\\nvalue = [22, 0]'),\n",
       " Text(15.470645604509071, 123.9408, 'gini = 0.0\\nsamples = 1\\nvalue = [0, 1]'),\n",
       " Text(15.824639640507849, 128.2896, 'X[11] <= 926.0\\ngini = 0.444\\nsamples = 3\\nvalue = [1, 2]'),\n",
       " Text(15.706641628508256, 123.9408, 'gini = 0.0\\nsamples = 1\\nvalue = [1, 0]'),\n",
       " Text(15.942637652507441, 123.9408, 'gini = 0.0\\nsamples = 2\\nvalue = [0, 2]'),\n",
       " Text(10.470962381842012, 145.6848, 'gini = 0.0\\nsamples = 13\\nvalue = [13, 0]'),\n",
       " Text(10.588960393841605, 150.0336, 'gini = 0.0\\nsamples = 15\\nvalue = [15, 0]'),\n",
       " Text(10.942954429840382, 154.38240000000002, 'X[0] <= 40000.0\\ngini = 0.117\\nsamples = 32\\nvalue = [30, 2]'),\n",
       " Text(10.82495641784079, 150.0336, 'X[32] <= 0.5\\ngini = 0.444\\nsamples = 3\\nvalue = [1, 2]'),\n",
       " Text(10.706958405841197, 145.6848, 'gini = 0.0\\nsamples = 2\\nvalue = [0, 2]'),\n",
       " Text(10.942954429840382, 145.6848, 'gini = 0.0\\nsamples = 1\\nvalue = [1, 0]'),\n",
       " Text(11.060952441839975, 150.0336, 'gini = 0.0\\nsamples = 29\\nvalue = [29, 0]'),\n",
       " Text(11.29694846583916, 158.7312, 'X[8] <= 176.0\\ngini = 0.245\\nsamples = 7\\nvalue = [1, 6]'),\n",
       " Text(11.178950453839567, 154.38240000000002, 'gini = 0.0\\nsamples = 6\\nvalue = [0, 6]'),\n",
       " Text(11.414946477838752, 154.38240000000002, 'gini = 0.0\\nsamples = 1\\nvalue = [1, 0]'),\n",
       " Text(21.663121353382216, 163.07999999999998, 'X[11] <= 445.0\\ngini = 0.466\\nsamples = 295\\nvalue = [186, 109]'),\n",
       " Text(19.928988460235864, 158.7312, 'X[1] <= 30.5\\ngini = 0.479\\nsamples = 261\\nvalue = [157, 104]'),\n",
       " Text(17.522704781939485, 154.38240000000002, 'X[4] <= -232.5\\ngini = 0.389\\nsamples = 53\\nvalue = [39, 14]'),\n",
       " Text(17.404706769939892, 150.0336, 'gini = 0.0\\nsamples = 1\\nvalue = [0, 1]'),\n",
       " Text(17.640702793939077, 150.0336, 'X[0] <= 295000.0\\ngini = 0.375\\nsamples = 52\\nvalue = [39, 13]'),\n",
       " Text(17.212960000440553, 145.6848, 'X[71] <= 0.5\\ngini = 0.444\\nsamples = 3\\nvalue = [1, 2]'),\n",
       " Text(17.09496198844096, 141.336, 'gini = 0.0\\nsamples = 1\\nvalue = [1, 0]'),\n",
       " Text(17.330958012440146, 141.336, 'gini = 0.0\\nsamples = 2\\nvalue = [0, 2]'),\n",
       " Text(18.0684455874376, 145.6848, 'X[15] <= 0.5\\ngini = 0.348\\nsamples = 49\\nvalue = [38, 11]'),\n",
       " Text(17.56695403643933, 141.336, 'X[46] <= 0.5\\ngini = 0.289\\nsamples = 40\\nvalue = [33, 7]'),\n",
       " Text(17.330958012440146, 136.9872, 'X[21] <= 0.5\\ngini = 0.266\\nsamples = 38\\nvalue = [32, 6]'),\n",
       " Text(17.212960000440553, 132.6384, 'gini = 0.0\\nsamples = 5\\nvalue = [5, 0]'),\n",
       " Text(17.448956024439738, 132.6384, 'X[1] <= 26.5\\ngini = 0.298\\nsamples = 33\\nvalue = [27, 6]'),\n",
       " Text(17.330958012440146, 128.2896, 'gini = 0.0\\nsamples = 5\\nvalue = [5, 0]'),\n",
       " Text(17.56695403643933, 128.2896, 'X[13] <= 0.5\\ngini = 0.337\\nsamples = 28\\nvalue = [22, 6]'),\n",
       " Text(17.15396099444076, 123.9408, 'X[1] <= 27.5\\ngini = 0.48\\nsamples = 5\\nvalue = [3, 2]'),\n",
       " Text(17.035962982441166, 119.592, 'gini = 0.0\\nsamples = 2\\nvalue = [2, 0]'),\n",
       " Text(17.27195900644035, 119.592, 'X[1] <= 28.5\\ngini = 0.444\\nsamples = 3\\nvalue = [1, 2]'),\n",
       " Text(17.15396099444076, 115.2432, 'gini = 0.0\\nsamples = 2\\nvalue = [0, 2]'),\n",
       " Text(17.389957018439944, 115.2432, 'gini = 0.0\\nsamples = 1\\nvalue = [1, 0]'),\n",
       " Text(17.979947078437906, 123.9408, 'X[1] <= 29.5\\ngini = 0.287\\nsamples = 23\\nvalue = [19, 4]'),\n",
       " Text(17.74395105443872, 119.592, 'X[18] <= 0.5\\ngini = 0.208\\nsamples = 17\\nvalue = [15, 2]'),\n",
       " Text(17.62595304243913, 115.2432, 'X[1] <= 27.5\\ngini = 0.346\\nsamples = 9\\nvalue = [7, 2]'),\n",
       " Text(17.507955030439536, 110.8944, 'gini = 0.0\\nsamples = 1\\nvalue = [0, 1]'),\n",
       " Text(17.74395105443872, 110.8944, 'X[22] <= 0.5\\ngini = 0.219\\nsamples = 8\\nvalue = [7, 1]'),\n",
       " Text(17.62595304243913, 106.54560000000001, 'gini = 0.0\\nsamples = 6\\nvalue = [6, 0]'),\n",
       " Text(17.861949066438314, 106.54560000000001, 'X[1] <= 28.5\\ngini = 0.5\\nsamples = 2\\nvalue = [1, 1]'),\n",
       " Text(17.74395105443872, 102.19680000000001, 'gini = 0.0\\nsamples = 1\\nvalue = [1, 0]'),\n",
       " Text(17.979947078437906, 102.19680000000001, 'gini = 0.0\\nsamples = 1\\nvalue = [0, 1]'),\n",
       " Text(17.861949066438314, 115.2432, 'gini = 0.0\\nsamples = 8\\nvalue = [8, 0]'),\n",
       " Text(18.21594310243709, 119.592, 'X[0] <= 320000.0\\ngini = 0.444\\nsamples = 6\\nvalue = [4, 2]'),\n",
       " Text(18.0979450904375, 115.2432, 'gini = 0.0\\nsamples = 1\\nvalue = [0, 1]'),\n",
       " Text(18.333941114436684, 115.2432, 'X[22] <= 0.5\\ngini = 0.32\\nsamples = 5\\nvalue = [4, 1]'),\n",
       " Text(18.21594310243709, 110.8944, 'X[0] <= 360000.0\\ngini = 0.5\\nsamples = 2\\nvalue = [1, 1]'),\n",
       " Text(18.0979450904375, 106.54560000000001, 'gini = 0.0\\nsamples = 1\\nvalue = [1, 0]'),\n",
       " Text(18.333941114436684, 106.54560000000001, 'gini = 0.0\\nsamples = 1\\nvalue = [0, 1]'),\n",
       " Text(18.451939126436276, 110.8944, 'gini = 0.0\\nsamples = 3\\nvalue = [3, 0]'),\n",
       " Text(17.802950060438516, 136.9872, 'X[4] <= 750.0\\ngini = 0.5\\nsamples = 2\\nvalue = [1, 1]'),\n",
       " Text(17.684952048438923, 132.6384, 'gini = 0.0\\nsamples = 1\\nvalue = [0, 1]'),\n",
       " Text(17.920948072438108, 132.6384, 'gini = 0.0\\nsamples = 1\\nvalue = [1, 0]'),\n",
       " Text(18.56993713843587, 141.336, 'X[0] <= 355000.0\\ngini = 0.494\\nsamples = 9\\nvalue = [5, 4]'),\n",
       " Text(18.451939126436276, 136.9872, 'gini = 0.0\\nsamples = 2\\nvalue = [0, 2]'),\n",
       " Text(18.68793515043546, 136.9872, 'X[1] <= 28.0\\ngini = 0.408\\nsamples = 7\\nvalue = [5, 2]'),\n",
       " Text(18.56993713843587, 132.6384, 'gini = 0.0\\nsamples = 2\\nvalue = [2, 0]'),\n",
       " Text(18.805933162435053, 132.6384, 'X[43] <= 0.5\\ngini = 0.48\\nsamples = 5\\nvalue = [3, 2]'),\n",
       " Text(18.68793515043546, 128.2896, 'X[22] <= 0.5\\ngini = 0.5\\nsamples = 4\\nvalue = [2, 2]'),\n",
       " Text(18.56993713843587, 123.9408, 'X[21] <= 0.5\\ngini = 0.444\\nsamples = 3\\nvalue = [1, 2]'),\n",
       " Text(18.451939126436276, 119.592, 'gini = 0.0\\nsamples = 1\\nvalue = [0, 1]'),\n",
       " Text(18.68793515043546, 119.592, 'X[1] <= 29.5\\ngini = 0.5\\nsamples = 2\\nvalue = [1, 1]'),\n",
       " Text(18.56993713843587, 115.2432, 'gini = 0.0\\nsamples = 1\\nvalue = [1, 0]'),\n",
       " Text(18.805933162435053, 115.2432, 'gini = 0.0\\nsamples = 1\\nvalue = [0, 1]'),\n",
       " Text(18.805933162435053, 123.9408, 'gini = 0.0\\nsamples = 1\\nvalue = [1, 0]'),\n",
       " Text(18.923931174434646, 128.2896, 'gini = 0.0\\nsamples = 1\\nvalue = [1, 0]'),\n",
       " Text(22.33527213853224, 154.38240000000002, 'X[2] <= -17.5\\ngini = 0.491\\nsamples = 208\\nvalue = [118, 90]'),\n",
       " Text(22.099276114533055, 150.0336, 'X[2] <= -3463.0\\ngini = 0.153\\nsamples = 12\\nvalue = [11, 1]'),\n",
       " Text(21.981278102533462, 145.6848, 'gini = 0.0\\nsamples = 1\\nvalue = [0, 1]'),\n",
       " Text(22.217274126532647, 145.6848, 'gini = 0.0\\nsamples = 11\\nvalue = [11, 0]'),\n",
       " Text(22.571268162531425, 150.0336, 'X[8] <= 403.5\\ngini = 0.496\\nsamples = 196\\nvalue = [107, 89]'),\n",
       " Text(22.453270150531832, 145.6848, 'X[2] <= 495.5\\ngini = 0.494\\nsamples = 193\\nvalue = [107, 86]'),\n",
       " Text(22.33527213853224, 141.336, 'X[8] <= 101.0\\ngini = 0.496\\nsamples = 188\\nvalue = [102, 86]'),\n",
       " Text(22.217274126532647, 136.9872, 'X[10] <= 1090.5\\ngini = 0.498\\nsamples = 183\\nvalue = [97, 86]'),\n",
       " Text(22.099276114533055, 132.6384, 'X[15] <= 0.5\\ngini = 0.499\\nsamples = 179\\nvalue = [93, 86]'),\n",
       " Text(19.964710514649802, 128.2896, 'X[5] <= 61.5\\ngini = 0.495\\nsamples = 151\\nvalue = [83, 68]'),\n",
       " Text(19.84671250265021, 123.9408, 'X[0] <= 305000.0\\ngini = 0.493\\nsamples = 148\\nvalue = [83, 65]'),\n",
       " Text(19.15992719843383, 119.592, 'X[1] <= 47.0\\ngini = 0.403\\nsamples = 25\\nvalue = [18, 7]'),\n",
       " Text(19.04192918643424, 115.2432, 'X[1] <= 45.5\\ngini = 0.475\\nsamples = 18\\nvalue = [11, 7]'),\n",
       " Text(18.923931174434646, 110.8944, 'X[1] <= 43.5\\ngini = 0.457\\nsamples = 17\\nvalue = [11, 6]'),\n",
       " Text(18.805933162435053, 106.54560000000001, 'X[1] <= 41.5\\ngini = 0.49\\nsamples = 14\\nvalue = [8, 6]'),\n",
       " Text(18.68793515043546, 102.19680000000001, 'X[21] <= 0.5\\ngini = 0.397\\nsamples = 11\\nvalue = [8, 3]'),\n",
       " Text(18.451939126436276, 97.848, 'X[18] <= 0.5\\ngini = 0.219\\nsamples = 8\\nvalue = [7, 1]'),\n",
       " Text(18.333941114436684, 93.4992, 'gini = 0.0\\nsamples = 6\\nvalue = [6, 0]'),\n",
       " Text(18.56993713843587, 93.4992, 'X[25] <= 0.5\\ngini = 0.5\\nsamples = 2\\nvalue = [1, 1]'),\n",
       " Text(18.451939126436276, 89.15039999999999, 'gini = 0.0\\nsamples = 1\\nvalue = [0, 1]'),\n",
       " Text(18.68793515043546, 89.15039999999999, 'gini = 0.0\\nsamples = 1\\nvalue = [1, 0]'),\n",
       " Text(18.923931174434646, 97.848, 'X[0] <= 295000.0\\ngini = 0.444\\nsamples = 3\\nvalue = [1, 2]'),\n",
       " Text(18.805933162435053, 93.4992, 'gini = 0.0\\nsamples = 1\\nvalue = [1, 0]'),\n",
       " Text(19.04192918643424, 93.4992, 'gini = 0.0\\nsamples = 2\\nvalue = [0, 2]'),\n",
       " Text(18.923931174434646, 102.19680000000001, 'gini = 0.0\\nsamples = 3\\nvalue = [0, 3]'),\n",
       " Text(19.04192918643424, 106.54560000000001, 'gini = 0.0\\nsamples = 3\\nvalue = [3, 0]'),\n",
       " Text(19.15992719843383, 110.8944, 'gini = 0.0\\nsamples = 1\\nvalue = [0, 1]'),\n",
       " Text(19.277925210433423, 115.2432, 'gini = 0.0\\nsamples = 7\\nvalue = [7, 0]'),\n",
       " Text(20.53349780686659, 119.592, 'X[11] <= 84.5\\ngini = 0.498\\nsamples = 123\\nvalue = [65, 58]'),\n",
       " Text(20.415499794866996, 115.2432, 'X[32] <= 0.5\\ngini = 0.499\\nsamples = 120\\nvalue = [62, 58]'),\n",
       " Text(19.395923222433016, 110.8944, 'X[22] <= 0.5\\ngini = 0.346\\nsamples = 9\\nvalue = [7, 2]'),\n",
       " Text(19.277925210433423, 106.54560000000001, 'X[1] <= 47.5\\ngini = 0.219\\nsamples = 8\\nvalue = [7, 1]'),\n",
       " Text(19.15992719843383, 102.19680000000001, 'gini = 0.0\\nsamples = 7\\nvalue = [7, 0]'),\n",
       " Text(19.395923222433016, 102.19680000000001, 'gini = 0.0\\nsamples = 1\\nvalue = [0, 1]'),\n",
       " Text(19.51392123443261, 106.54560000000001, 'gini = 0.0\\nsamples = 1\\nvalue = [0, 1]'),\n",
       " Text(21.435076367300972, 110.8944, 'X[18] <= 0.5\\ngini = 0.5\\nsamples = 111\\nvalue = [55, 56]'),\n",
       " Text(20.354657069929704, 106.54560000000001, 'X[13] <= 0.5\\ngini = 0.487\\nsamples = 62\\nvalue = [36, 26]'),\n",
       " Text(19.6319192464322, 102.19680000000001, 'X[22] <= 0.5\\ngini = 0.408\\nsamples = 21\\nvalue = [15, 6]'),\n",
       " Text(19.395923222433016, 97.848, 'X[0] <= 355000.0\\ngini = 0.496\\nsamples = 11\\nvalue = [6, 5]'),\n",
       " Text(19.277925210433423, 93.4992, 'gini = 0.0\\nsamples = 2\\nvalue = [2, 0]'),\n",
       " Text(19.51392123443261, 93.4992, 'X[1] <= 46.5\\ngini = 0.494\\nsamples = 9\\nvalue = [4, 5]'),\n",
       " Text(19.395923222433016, 89.15039999999999, 'X[1] <= 42.0\\ngini = 0.408\\nsamples = 7\\nvalue = [2, 5]'),\n",
       " Text(19.277925210433423, 84.80160000000001, 'X[0] <= 425000.0\\ngini = 0.5\\nsamples = 4\\nvalue = [2, 2]'),\n",
       " Text(19.15992719843383, 80.4528, 'X[0] <= 380000.0\\ngini = 0.444\\nsamples = 3\\nvalue = [2, 1]'),\n",
       " Text(19.04192918643424, 76.10400000000001, 'X[1] <= 38.5\\ngini = 0.5\\nsamples = 2\\nvalue = [1, 1]'),\n",
       " Text(18.923931174434646, 71.7552, 'gini = 0.0\\nsamples = 1\\nvalue = [1, 0]'),\n",
       " Text(19.15992719843383, 71.7552, 'gini = 0.0\\nsamples = 1\\nvalue = [0, 1]'),\n",
       " Text(19.277925210433423, 76.10400000000001, 'gini = 0.0\\nsamples = 1\\nvalue = [1, 0]'),\n",
       " Text(19.395923222433016, 80.4528, 'gini = 0.0\\nsamples = 1\\nvalue = [0, 1]'),\n",
       " Text(19.51392123443261, 84.80160000000001, 'gini = 0.0\\nsamples = 3\\nvalue = [0, 3]'),\n",
       " Text(19.6319192464322, 89.15039999999999, 'gini = 0.0\\nsamples = 2\\nvalue = [2, 0]'),\n",
       " Text(19.867915270431386, 97.848, 'X[1] <= 46.5\\ngini = 0.18\\nsamples = 10\\nvalue = [9, 1]'),\n",
       " Text(19.749917258431793, 93.4992, 'gini = 0.0\\nsamples = 7\\nvalue = [7, 0]'),\n",
       " Text(19.985913282430978, 93.4992, 'X[1] <= 47.5\\ngini = 0.444\\nsamples = 3\\nvalue = [2, 1]'),\n",
       " Text(19.867915270431386, 89.15039999999999, 'gini = 0.0\\nsamples = 1\\nvalue = [0, 1]'),\n",
       " Text(20.10391129443057, 89.15039999999999, 'gini = 0.0\\nsamples = 2\\nvalue = [2, 0]'),\n",
       " Text(21.077394893427208, 102.19680000000001, 'X[0] <= 340000.0\\ngini = 0.5\\nsamples = 41\\nvalue = [21, 20]'),\n",
       " Text(20.959396881427615, 97.848, 'gini = 0.0\\nsamples = 4\\nvalue = [0, 4]'),\n",
       " Text(21.1953929054268, 97.848, 'X[0] <= 435000.0\\ngini = 0.491\\nsamples = 37\\nvalue = [21, 16]'),\n",
       " Text(20.75290036042833, 93.4992, 'X[25] <= 0.5\\ngini = 0.499\\nsamples = 27\\nvalue = [13, 14]'),\n",
       " Text(20.339907318429756, 89.15039999999999, 'X[1] <= 33.5\\ngini = 0.375\\nsamples = 12\\nvalue = [3, 9]'),\n",
       " Text(20.221909306430163, 84.80160000000001, 'X[4] <= -1.0\\ngini = 0.48\\nsamples = 5\\nvalue = [3, 2]'),\n",
       " Text(20.10391129443057, 80.4528, 'gini = 0.0\\nsamples = 1\\nvalue = [1, 0]'),\n",
       " Text(20.339907318429756, 80.4528, 'X[21] <= 0.5\\ngini = 0.5\\nsamples = 4\\nvalue = [2, 2]'),\n",
       " Text(20.221909306430163, 76.10400000000001, 'gini = 0.0\\nsamples = 1\\nvalue = [1, 0]'),\n",
       " Text(20.457905330429348, 76.10400000000001, 'X[1] <= 32.5\\ngini = 0.444\\nsamples = 3\\nvalue = [1, 2]'),\n",
       " Text(20.339907318429756, 71.7552, 'X[0] <= 355000.0\\ngini = 0.5\\nsamples = 2\\nvalue = [1, 1]'),\n",
       " Text(20.221909306430163, 67.40640000000002, 'gini = 0.0\\nsamples = 1\\nvalue = [0, 1]'),\n",
       " Text(20.457905330429348, 67.40640000000002, 'gini = 0.0\\nsamples = 1\\nvalue = [1, 0]'),\n",
       " Text(20.57590334242894, 71.7552, 'gini = 0.0\\nsamples = 1\\nvalue = [0, 1]'),\n",
       " Text(20.457905330429348, 84.80160000000001, 'gini = 0.0\\nsamples = 7\\nvalue = [0, 7]'),\n",
       " Text(21.165893402426903, 89.15039999999999, 'X[0] <= 415000.0\\ngini = 0.444\\nsamples = 15\\nvalue = [10, 5]'),\n",
       " Text(21.04789539042731, 84.80160000000001, 'X[1] <= 34.5\\ngini = 0.408\\nsamples = 14\\nvalue = [10, 4]'),\n",
       " Text(20.811899366428126, 80.4528, 'X[1] <= 31.5\\ngini = 0.5\\nsamples = 6\\nvalue = [3, 3]'),\n",
       " Text(20.693901354428533, 76.10400000000001, 'gini = 0.0\\nsamples = 1\\nvalue = [1, 0]'),\n",
       " Text(20.929897378427718, 76.10400000000001, 'X[0] <= 385000.0\\ngini = 0.48\\nsamples = 5\\nvalue = [2, 3]'),\n",
       " Text(20.811899366428126, 71.7552, 'X[20] <= 0.5\\ngini = 0.375\\nsamples = 4\\nvalue = [1, 3]'),\n",
       " Text(20.693901354428533, 67.40640000000002, 'X[1] <= 33.0\\ngini = 0.5\\nsamples = 2\\nvalue = [1, 1]'),\n",
       " Text(20.57590334242894, 63.05760000000001, 'gini = 0.0\\nsamples = 1\\nvalue = [1, 0]'),\n",
       " Text(20.811899366428126, 63.05760000000001, 'gini = 0.0\\nsamples = 1\\nvalue = [0, 1]'),\n",
       " Text(20.929897378427718, 67.40640000000002, 'gini = 0.0\\nsamples = 2\\nvalue = [0, 2]'),\n",
       " Text(21.04789539042731, 71.7552, 'gini = 0.0\\nsamples = 1\\nvalue = [1, 0]'),\n",
       " Text(21.283891414426495, 80.4528, 'X[21] <= 0.5\\ngini = 0.219\\nsamples = 8\\nvalue = [7, 1]'),\n",
       " Text(21.165893402426903, 76.10400000000001, 'gini = 0.0\\nsamples = 7\\nvalue = [7, 0]'),\n",
       " Text(21.401889426426088, 76.10400000000001, 'gini = 0.0\\nsamples = 1\\nvalue = [0, 1]'),\n",
       " Text(21.283891414426495, 84.80160000000001, 'gini = 0.0\\nsamples = 1\\nvalue = [0, 1]'),\n",
       " Text(21.637885450425273, 93.4992, 'X[0] <= 475000.0\\ngini = 0.32\\nsamples = 10\\nvalue = [8, 2]'),\n",
       " Text(21.51988743842568, 89.15039999999999, 'gini = 0.0\\nsamples = 6\\nvalue = [6, 0]'),\n",
       " Text(21.755883462424865, 89.15039999999999, 'X[20] <= 0.5\\ngini = 0.5\\nsamples = 4\\nvalue = [2, 2]'),\n",
       " Text(21.637885450425273, 84.80160000000001, 'X[1] <= 37.5\\ngini = 0.444\\nsamples = 3\\nvalue = [2, 1]'),\n",
       " Text(21.51988743842568, 80.4528, 'gini = 0.0\\nsamples = 1\\nvalue = [0, 1]'),\n",
       " Text(21.755883462424865, 80.4528, 'gini = 0.0\\nsamples = 2\\nvalue = [2, 0]'),\n",
       " Text(21.873881474424458, 84.80160000000001, 'gini = 0.0\\nsamples = 1\\nvalue = [0, 1]'),\n",
       " Text(22.515495664672244, 106.54560000000001, 'X[0] <= 335000.0\\ngini = 0.475\\nsamples = 49\\nvalue = [19, 30]'),\n",
       " Text(22.021378989423948, 102.19680000000001, 'X[21] <= 0.5\\ngini = 0.375\\nsamples = 4\\nvalue = [3, 1]'),\n",
       " Text(21.903380977424355, 97.848, 'gini = 0.0\\nsamples = 2\\nvalue = [2, 0]'),\n",
       " Text(22.13937700142354, 97.848, 'X[2] <= -5.0\\ngini = 0.5\\nsamples = 2\\nvalue = [1, 1]'),\n",
       " Text(22.021378989423948, 93.4992, 'gini = 0.0\\nsamples = 1\\nvalue = [1, 0]'),\n",
       " Text(22.257375013423133, 93.4992, 'gini = 0.0\\nsamples = 1\\nvalue = [0, 1]'),\n",
       " Text(23.009612339920537, 102.19680000000001, 'X[1] <= 41.5\\ngini = 0.458\\nsamples = 45\\nvalue = [16, 29]'),\n",
       " Text(22.61136904942191, 97.848, 'X[7] <= 926.5\\ngini = 0.491\\nsamples = 30\\nvalue = [13, 17]'),\n",
       " Text(22.493371037422317, 93.4992, 'X[4] <= -3.0\\ngini = 0.497\\nsamples = 28\\nvalue = [13, 15]'),\n",
       " Text(22.375373025422725, 89.15039999999999, 'gini = 0.0\\nsamples = 1\\nvalue = [1, 0]'),\n",
       " Text(22.61136904942191, 89.15039999999999, 'X[1] <= 38.5\\ngini = 0.494\\nsamples = 27\\nvalue = [12, 15]'),\n",
       " Text(22.16887650442344, 84.80160000000001, 'X[0] <= 450000.0\\ngini = 0.465\\nsamples = 19\\nvalue = [7, 12]'),\n",
       " Text(22.05087849242385, 80.4528, 'X[1] <= 35.0\\ngini = 0.492\\nsamples = 16\\nvalue = [7, 9]'),\n",
       " Text(21.637885450425273, 76.10400000000001, 'X[25] <= 0.5\\ngini = 0.444\\nsamples = 6\\nvalue = [4, 2]'),\n",
       " Text(21.51988743842568, 71.7552, 'gini = 0.0\\nsamples = 3\\nvalue = [3, 0]'),\n",
       " Text(21.755883462424865, 71.7552, 'X[20] <= 0.5\\ngini = 0.444\\nsamples = 3\\nvalue = [1, 2]'),\n",
       " Text(21.637885450425273, 67.40640000000002, 'X[0] <= 350000.0\\ngini = 0.5\\nsamples = 2\\nvalue = [1, 1]'),\n",
       " Text(21.51988743842568, 63.05760000000001, 'gini = 0.0\\nsamples = 1\\nvalue = [0, 1]'),\n",
       " Text(21.755883462424865, 63.05760000000001, 'gini = 0.0\\nsamples = 1\\nvalue = [1, 0]'),\n",
       " Text(21.873881474424458, 67.40640000000002, 'gini = 0.0\\nsamples = 1\\nvalue = [0, 1]'),\n",
       " Text(22.46387153442242, 76.10400000000001, 'X[14] <= 0.5\\ngini = 0.42\\nsamples = 10\\nvalue = [3, 7]'),\n",
       " Text(22.227875510423235, 71.7552, 'X[0] <= 355000.0\\ngini = 0.245\\nsamples = 7\\nvalue = [1, 6]'),\n",
       " Text(22.109877498423643, 67.40640000000002, 'gini = 0.0\\nsamples = 1\\nvalue = [1, 0]'),\n",
       " Text(22.345873522422828, 67.40640000000002, 'gini = 0.0\\nsamples = 6\\nvalue = [0, 6]'),\n",
       " Text(22.699867558421605, 71.7552, 'X[0] <= 375000.0\\ngini = 0.444\\nsamples = 3\\nvalue = [2, 1]'),\n",
       " Text(22.581869546422013, 67.40640000000002, 'gini = 0.5\\nsamples = 2\\nvalue = [1, 1]'),\n",
       " Text(22.817865570421198, 67.40640000000002, 'gini = 0.0\\nsamples = 1\\nvalue = [1, 0]'),\n",
       " Text(22.286874516423033, 80.4528, 'gini = 0.0\\nsamples = 3\\nvalue = [0, 3]'),\n",
       " Text(23.053861594420383, 84.80160000000001, 'X[13] <= 0.5\\ngini = 0.469\\nsamples = 8\\nvalue = [5, 3]'),\n",
       " Text(22.93586358242079, 80.4528, 'gini = 0.0\\nsamples = 1\\nvalue = [0, 1]'),\n",
       " Text(23.171859606419975, 80.4528, 'X[1] <= 40.5\\ngini = 0.408\\nsamples = 7\\nvalue = [5, 2]'),\n",
       " Text(23.053861594420383, 76.10400000000001, 'X[0] <= 365000.0\\ngini = 0.48\\nsamples = 5\\nvalue = [3, 2]'),\n",
       " Text(22.93586358242079, 71.7552, 'gini = 0.0\\nsamples = 2\\nvalue = [2, 0]'),\n",
       " Text(23.171859606419975, 71.7552, 'X[0] <= 440000.0\\ngini = 0.444\\nsamples = 3\\nvalue = [1, 2]'),\n",
       " Text(23.053861594420383, 67.40640000000002, 'gini = 0.0\\nsamples = 2\\nvalue = [0, 2]'),\n",
       " Text(23.289857618419568, 67.40640000000002, 'gini = 0.0\\nsamples = 1\\nvalue = [1, 0]'),\n",
       " Text(23.289857618419568, 76.10400000000001, 'gini = 0.0\\nsamples = 2\\nvalue = [2, 0]'),\n",
       " Text(22.729367061421502, 93.4992, 'gini = 0.0\\nsamples = 2\\nvalue = [0, 2]'),\n",
       " Text(23.40785563041916, 97.848, 'X[0] <= 605000.0\\ngini = 0.32\\nsamples = 15\\nvalue = [3, 12]'),\n",
       " Text(23.289857618419568, 93.4992, 'X[1] <= 44.5\\ngini = 0.245\\nsamples = 14\\nvalue = [2, 12]'),\n",
       " Text(23.171859606419975, 89.15039999999999, 'gini = 0.0\\nsamples = 6\\nvalue = [0, 6]'),\n",
       " Text(23.40785563041916, 89.15039999999999, 'X[1] <= 46.5\\ngini = 0.375\\nsamples = 8\\nvalue = [2, 6]'),\n",
       " Text(23.289857618419568, 84.80160000000001, 'gini = 0.0\\nsamples = 1\\nvalue = [1, 0]'),\n",
       " Text(23.525853642418753, 84.80160000000001, 'X[1] <= 51.5\\ngini = 0.245\\nsamples = 7\\nvalue = [1, 6]'),\n",
       " Text(23.40785563041916, 80.4528, 'gini = 0.0\\nsamples = 4\\nvalue = [0, 4]'),\n",
       " Text(23.643851654418345, 80.4528, 'X[25] <= 0.5\\ngini = 0.444\\nsamples = 3\\nvalue = [1, 2]'),\n",
       " Text(23.525853642418753, 76.10400000000001, 'gini = 0.0\\nsamples = 1\\nvalue = [0, 1]'),\n",
       " Text(23.761849666417937, 76.10400000000001, 'X[0] <= 370000.0\\ngini = 0.5\\nsamples = 2\\nvalue = [1, 1]'),\n",
       " Text(23.643851654418345, 71.7552, 'gini = 0.0\\nsamples = 1\\nvalue = [0, 1]'),\n",
       " Text(23.87984767841753, 71.7552, 'gini = 0.0\\nsamples = 1\\nvalue = [1, 0]'),\n",
       " Text(23.525853642418753, 93.4992, 'gini = 0.0\\nsamples = 1\\nvalue = [1, 0]'),\n",
       " Text(20.65149581886618, 115.2432, 'gini = 0.0\\nsamples = 3\\nvalue = [3, 0]'),\n",
       " Text(20.082708526649395, 123.9408, 'gini = 0.0\\nsamples = 3\\nvalue = [0, 3]'),\n",
       " Text(24.233841714416307, 128.2896, 'X[21] <= 0.5\\ngini = 0.459\\nsamples = 28\\nvalue = [10, 18]'),\n",
       " Text(23.87984767841753, 123.9408, 'X[1] <= 33.5\\ngini = 0.5\\nsamples = 16\\nvalue = [8, 8]'),\n",
       " Text(23.761849666417937, 119.592, 'gini = 0.0\\nsamples = 2\\nvalue = [0, 2]'),\n",
       " Text(23.997845690417122, 119.592, 'X[25] <= 0.5\\ngini = 0.49\\nsamples = 14\\nvalue = [8, 6]'),\n",
       " Text(23.87984767841753, 115.2432, 'X[1] <= 36.5\\ngini = 0.5\\nsamples = 12\\nvalue = [6, 6]'),\n",
       " Text(23.761849666417937, 110.8944, 'gini = 0.0\\nsamples = 2\\nvalue = [2, 0]'),\n",
       " Text(23.997845690417122, 110.8944, 'X[0] <= 365000.0\\ngini = 0.48\\nsamples = 10\\nvalue = [4, 6]'),\n",
       " Text(23.87984767841753, 106.54560000000001, 'X[1] <= 51.5\\ngini = 0.49\\nsamples = 7\\nvalue = [4, 3]'),\n",
       " Text(23.761849666417937, 102.19680000000001, 'X[0] <= 330000.0\\ngini = 0.48\\nsamples = 5\\nvalue = [2, 3]'),\n",
       " Text(23.643851654418345, 97.848, 'gini = 0.0\\nsamples = 2\\nvalue = [0, 2]'),\n",
       " Text(23.87984767841753, 97.848, 'X[18] <= 0.5\\ngini = 0.444\\nsamples = 3\\nvalue = [2, 1]'),\n",
       " Text(23.761849666417937, 93.4992, 'gini = 0.0\\nsamples = 1\\nvalue = [1, 0]'),\n",
       " Text(23.997845690417122, 93.4992, 'X[1] <= 43.5\\ngini = 0.5\\nsamples = 2\\nvalue = [1, 1]'),\n",
       " Text(23.87984767841753, 89.15039999999999, 'gini = 0.0\\nsamples = 1\\nvalue = [0, 1]'),\n",
       " Text(24.115843702416715, 89.15039999999999, 'gini = 0.0\\nsamples = 1\\nvalue = [1, 0]'),\n",
       " Text(23.997845690417122, 102.19680000000001, 'gini = 0.0\\nsamples = 2\\nvalue = [2, 0]'),\n",
       " Text(24.115843702416715, 106.54560000000001, 'gini = 0.0\\nsamples = 3\\nvalue = [0, 3]'),\n",
       " Text(24.115843702416715, 115.2432, 'gini = 0.0\\nsamples = 2\\nvalue = [2, 0]'),\n",
       " Text(24.587835750415085, 123.9408, 'X[1] <= 33.5\\ngini = 0.278\\nsamples = 12\\nvalue = [2, 10]'),\n",
       " Text(24.469837738415492, 119.592, 'X[0] <= 330000.0\\ngini = 0.444\\nsamples = 3\\nvalue = [2, 1]'),\n",
       " Text(24.3518397264159, 115.2432, 'gini = 0.0\\nsamples = 1\\nvalue = [0, 1]'),\n",
       " Text(24.587835750415085, 115.2432, 'gini = 0.0\\nsamples = 2\\nvalue = [2, 0]'),\n",
       " Text(24.705833762414677, 119.592, 'gini = 0.0\\nsamples = 9\\nvalue = [0, 9]'),\n",
       " Text(22.33527213853224, 132.6384, 'gini = 0.0\\nsamples = 4\\nvalue = [4, 0]'),\n",
       " Text(22.453270150531832, 136.9872, 'gini = 0.0\\nsamples = 5\\nvalue = [5, 0]'),\n",
       " Text(22.571268162531425, 141.336, 'gini = 0.0\\nsamples = 5\\nvalue = [5, 0]'),\n",
       " Text(22.689266174531017, 145.6848, 'gini = 0.0\\nsamples = 3\\nvalue = [0, 3]'),\n",
       " Text(23.397254246528572, 158.7312, 'X[3] <= 925.0\\ngini = 0.251\\nsamples = 34\\nvalue = [29, 5]'),\n",
       " Text(23.161258222529387, 154.38240000000002, 'X[54] <= 0.5\\ngini = 0.175\\nsamples = 31\\nvalue = [28, 3]'),\n",
       " Text(23.043260210529795, 150.0336, 'X[1] <= 51.5\\ngini = 0.124\\nsamples = 30\\nvalue = [28, 2]'),\n",
       " Text(22.925262198530202, 145.6848, 'X[10] <= 695.5\\ngini = 0.067\\nsamples = 29\\nvalue = [28, 1]'),\n",
       " Text(22.80726418653061, 141.336, 'gini = 0.0\\nsamples = 24\\nvalue = [24, 0]'),\n",
       " Text(23.043260210529795, 141.336, 'X[62] <= 0.5\\ngini = 0.32\\nsamples = 5\\nvalue = [4, 1]'),\n",
       " Text(22.925262198530202, 136.9872, 'gini = 0.0\\nsamples = 4\\nvalue = [4, 0]'),\n",
       " Text(23.161258222529387, 136.9872, 'gini = 0.0\\nsamples = 1\\nvalue = [0, 1]'),\n",
       " Text(23.161258222529387, 145.6848, 'gini = 0.0\\nsamples = 1\\nvalue = [0, 1]'),\n",
       " Text(23.27925623452898, 150.0336, 'gini = 0.0\\nsamples = 1\\nvalue = [0, 1]'),\n",
       " Text(23.633250270527757, 154.38240000000002, 'X[2] <= -7.0\\ngini = 0.444\\nsamples = 3\\nvalue = [1, 2]'),\n",
       " Text(23.515252258528164, 150.0336, 'gini = 0.0\\nsamples = 1\\nvalue = [1, 0]'),\n",
       " Text(23.75124828252735, 150.0336, 'gini = 0.0\\nsamples = 2\\nvalue = [0, 2]'),\n",
       " Text(33.528144110755306, 171.7776, 'X[8] <= 769.5\\ngini = 0.324\\nsamples = 698\\nvalue = [556, 142]'),\n",
       " Text(30.624402016636427, 167.4288, 'X[53] <= 0.5\\ngini = 0.314\\nsamples = 687\\nvalue = [553, 134]'),\n",
       " Text(26.33568130315905, 163.07999999999998, 'X[1] <= 54.5\\ngini = 0.148\\nsamples = 149\\nvalue = [137, 12]'),\n",
       " Text(26.217683291159457, 158.7312, 'X[3] <= 3238.0\\ngini = 0.138\\nsamples = 148\\nvalue = [137, 11]'),\n",
       " Text(25.60556860391157, 154.38240000000002, 'X[2] <= -95.0\\ngini = 0.11\\nsamples = 137\\nvalue = [129, 8]'),\n",
       " Text(25.236824816412845, 150.0336, 'X[11] <= 936.0\\ngini = 0.346\\nsamples = 9\\nvalue = [7, 2]'),\n",
       " Text(25.118826804413253, 145.6848, 'gini = 0.0\\nsamples = 2\\nvalue = [0, 2]'),\n",
       " Text(25.354822828412438, 145.6848, 'gini = 0.0\\nsamples = 7\\nvalue = [7, 0]'),\n",
       " Text(25.974312391410297, 150.0336, 'X[5] <= 37723.5\\ngini = 0.089\\nsamples = 128\\nvalue = [122, 6]'),\n",
       " Text(25.590818852411623, 145.6848, 'X[15] <= 0.5\\ngini = 0.076\\nsamples = 126\\nvalue = [121, 5]'),\n",
       " Text(25.177825810413047, 141.336, 'X[10] <= 1116.5\\ngini = 0.052\\nsamples = 112\\nvalue = [109, 3]'),\n",
       " Text(24.941829786413862, 136.9872, 'X[2] <= 389.5\\ngini = 0.037\\nsamples = 105\\nvalue = [103, 2]'),\n",
       " Text(24.82383177441427, 132.6384, 'gini = 0.0\\nsamples = 78\\nvalue = [78, 0]'),\n",
       " Text(25.059827798413455, 132.6384, 'X[7] <= 441.5\\ngini = 0.137\\nsamples = 27\\nvalue = [25, 2]'),\n",
       " Text(24.941829786413862, 128.2896, 'X[5] <= 423.0\\ngini = 0.26\\nsamples = 13\\nvalue = [11, 2]'),\n",
       " Text(24.82383177441427, 123.9408, 'gini = 0.0\\nsamples = 9\\nvalue = [9, 0]'),\n",
       " Text(25.059827798413455, 123.9408, 'X[0] <= 75000.0\\ngini = 0.5\\nsamples = 4\\nvalue = [2, 2]'),\n",
       " Text(24.941829786413862, 119.592, 'gini = 0.0\\nsamples = 1\\nvalue = [1, 0]'),\n",
       " Text(25.177825810413047, 119.592, 'X[1] <= 44.0\\ngini = 0.444\\nsamples = 3\\nvalue = [1, 2]'),\n",
       " Text(25.059827798413455, 115.2432, 'gini = 0.0\\nsamples = 2\\nvalue = [0, 2]'),\n",
       " Text(25.29582382241264, 115.2432, 'gini = 0.0\\nsamples = 1\\nvalue = [1, 0]'),\n",
       " Text(25.177825810413047, 128.2896, 'gini = 0.0\\nsamples = 14\\nvalue = [14, 0]'),\n",
       " Text(25.413821834412232, 136.9872, 'X[10] <= 1246.0\\ngini = 0.245\\nsamples = 7\\nvalue = [6, 1]'),\n",
       " Text(25.29582382241264, 132.6384, 'gini = 0.0\\nsamples = 1\\nvalue = [0, 1]'),\n",
       " Text(25.531819846411825, 132.6384, 'gini = 0.0\\nsamples = 6\\nvalue = [6, 0]'),\n",
       " Text(26.003811894410195, 141.336, 'X[11] <= 353.0\\ngini = 0.245\\nsamples = 14\\nvalue = [12, 2]'),\n",
       " Text(25.885813882410602, 136.9872, 'X[8] <= 303.5\\ngini = 0.5\\nsamples = 4\\nvalue = [2, 2]'),\n",
       " Text(25.76781587041101, 132.6384, 'X[4] <= 141.0\\ngini = 0.444\\nsamples = 3\\nvalue = [2, 1]'),\n",
       " Text(25.649817858411417, 128.2896, 'gini = 0.0\\nsamples = 1\\nvalue = [0, 1]'),\n",
       " Text(25.885813882410602, 128.2896, 'gini = 0.0\\nsamples = 2\\nvalue = [2, 0]'),\n",
       " Text(26.003811894410195, 132.6384, 'gini = 0.0\\nsamples = 1\\nvalue = [0, 1]'),\n",
       " Text(26.121809906409787, 136.9872, 'gini = 0.0\\nsamples = 10\\nvalue = [10, 0]'),\n",
       " Text(26.357805930408972, 145.6848, 'X[11] <= 132.0\\ngini = 0.5\\nsamples = 2\\nvalue = [1, 1]'),\n",
       " Text(26.23980791840938, 141.336, 'gini = 0.0\\nsamples = 1\\nvalue = [1, 0]'),\n",
       " Text(26.475803942408564, 141.336, 'gini = 0.0\\nsamples = 1\\nvalue = [0, 1]'),\n",
       " Text(26.829797978407342, 154.38240000000002, 'X[6] <= 362.0\\ngini = 0.397\\nsamples = 11\\nvalue = [8, 3]'),\n",
       " Text(26.71179996640775, 150.0336, 'X[7] <= 6762.0\\ngini = 0.48\\nsamples = 5\\nvalue = [2, 3]'),\n",
       " Text(26.593801954408157, 145.6848, 'gini = 0.0\\nsamples = 3\\nvalue = [0, 3]'),\n",
       " Text(26.829797978407342, 145.6848, 'gini = 0.0\\nsamples = 2\\nvalue = [2, 0]'),\n",
       " Text(26.947795990406934, 150.0336, 'gini = 0.0\\nsamples = 6\\nvalue = [6, 0]'),\n",
       " Text(26.45367931515864, 158.7312, 'gini = 0.0\\nsamples = 1\\nvalue = [0, 1]'),\n",
       " Text(34.913122730113805, 163.07999999999998, 'X[2] <= 691.0\\ngini = 0.351\\nsamples = 538\\nvalue = [416, 122]'),\n",
       " Text(33.86635130335179, 158.7312, 'X[7] <= 2058.0\\ngini = 0.344\\nsamples = 531\\nvalue = [414, 117]'),\n",
       " Text(32.12680248582655, 154.38240000000002, 'X[6] <= 1002.5\\ngini = 0.357\\nsamples = 498\\nvalue = [382, 116]'),\n",
       " Text(29.237694910774028, 150.0336, 'X[2] <= -10.5\\ngini = 0.377\\nsamples = 416\\nvalue = [311, 105]'),\n",
       " Text(27.065794002406527, 145.6848, 'X[2] <= -158.5\\ngini = 0.498\\nsamples = 17\\nvalue = [8, 9]'),\n",
       " Text(26.829797978407342, 141.336, 'X[0] <= 175000.0\\ngini = 0.42\\nsamples = 10\\nvalue = [7, 3]'),\n",
       " Text(26.71179996640775, 136.9872, 'gini = 0.0\\nsamples = 6\\nvalue = [6, 0]'),\n",
       " Text(26.947795990406934, 136.9872, 'X[3] <= 208.0\\ngini = 0.375\\nsamples = 4\\nvalue = [1, 3]'),\n",
       " Text(26.829797978407342, 132.6384, 'gini = 0.0\\nsamples = 3\\nvalue = [0, 3]'),\n",
       " Text(27.065794002406527, 132.6384, 'gini = 0.0\\nsamples = 1\\nvalue = [1, 0]'),\n",
       " Text(27.301790026405712, 141.336, 'X[1] <= 23.5\\ngini = 0.245\\nsamples = 7\\nvalue = [1, 6]'),\n",
       " Text(27.18379201440612, 136.9872, 'gini = 0.0\\nsamples = 1\\nvalue = [1, 0]'),\n",
       " Text(27.419788038405304, 136.9872, 'gini = 0.0\\nsamples = 6\\nvalue = [0, 6]'),\n",
       " Text(31.409595819141526, 145.6848, 'X[10] <= 1123.5\\ngini = 0.365\\nsamples = 399\\nvalue = [303, 96]'),\n",
       " Text(31.291597807141933, 141.336, 'X[0] <= 235000.0\\ngini = 0.361\\nsamples = 397\\nvalue = [303, 94]'),\n",
       " Text(28.983261697399907, 136.9872, 'X[4] <= 111.5\\ngini = 0.393\\nsamples = 287\\nvalue = [210, 77]'),\n",
       " Text(27.301790026405712, 132.6384, 'X[0] <= 190000.0\\ngini = 0.245\\nsamples = 77\\nvalue = [66, 11]'),\n",
       " Text(26.88879698440714, 128.2896, 'X[4] <= -929.0\\ngini = 0.155\\nsamples = 59\\nvalue = [54, 5]'),\n",
       " Text(26.770798972407547, 123.9408, 'gini = 0.0\\nsamples = 1\\nvalue = [0, 1]'),\n",
       " Text(27.006794996406732, 123.9408, 'X[9] <= 8364.0\\ngini = 0.128\\nsamples = 58\\nvalue = [54, 4]'),\n",
       " Text(26.88879698440714, 119.592, 'X[44] <= 0.5\\ngini = 0.1\\nsamples = 57\\nvalue = [54, 3]'),\n",
       " Text(26.770798972407547, 115.2432, 'X[1] <= 30.5\\ngini = 0.069\\nsamples = 56\\nvalue = [54, 2]'),\n",
       " Text(26.652800960407955, 110.8944, 'X[1] <= 29.0\\ngini = 0.198\\nsamples = 18\\nvalue = [16, 2]'),\n",
       " Text(26.534802948408363, 106.54560000000001, 'X[5] <= 716.0\\ngini = 0.111\\nsamples = 17\\nvalue = [16, 1]'),\n",
       " Text(26.41680493640877, 102.19680000000001, 'gini = 0.0\\nsamples = 11\\nvalue = [11, 0]'),\n",
       " Text(26.652800960407955, 102.19680000000001, 'X[9] <= 890.0\\ngini = 0.278\\nsamples = 6\\nvalue = [5, 1]'),\n",
       " Text(26.534802948408363, 97.848, 'X[20] <= 0.5\\ngini = 0.444\\nsamples = 3\\nvalue = [2, 1]'),\n",
       " Text(26.41680493640877, 93.4992, 'X[15] <= 0.5\\ngini = 0.5\\nsamples = 2\\nvalue = [1, 1]'),\n",
       " Text(26.298806924409178, 89.15039999999999, 'gini = 0.0\\nsamples = 1\\nvalue = [0, 1]'),\n",
       " Text(26.534802948408363, 89.15039999999999, 'gini = 0.0\\nsamples = 1\\nvalue = [1, 0]'),\n",
       " Text(26.652800960407955, 93.4992, 'gini = 0.0\\nsamples = 1\\nvalue = [1, 0]'),\n",
       " Text(26.770798972407547, 97.848, 'gini = 0.0\\nsamples = 3\\nvalue = [3, 0]'),\n",
       " Text(26.770798972407547, 106.54560000000001, 'gini = 0.0\\nsamples = 1\\nvalue = [0, 1]'),\n",
       " Text(26.88879698440714, 110.8944, 'gini = 0.0\\nsamples = 38\\nvalue = [38, 0]'),\n",
       " Text(27.006794996406732, 115.2432, 'gini = 0.0\\nsamples = 1\\nvalue = [0, 1]'),\n",
       " Text(27.124793008406325, 119.592, 'gini = 0.0\\nsamples = 1\\nvalue = [0, 1]'),\n",
       " Text(27.714783068404287, 128.2896, 'X[1] <= 40.5\\ngini = 0.444\\nsamples = 18\\nvalue = [12, 6]'),\n",
       " Text(27.478787044405102, 123.9408, 'X[1] <= 28.0\\ngini = 0.278\\nsamples = 12\\nvalue = [10, 2]'),\n",
       " Text(27.36078903240551, 119.592, 'gini = 0.0\\nsamples = 1\\nvalue = [0, 1]'),\n",
       " Text(27.596785056404695, 119.592, 'X[5] <= 1745.0\\ngini = 0.165\\nsamples = 11\\nvalue = [10, 1]'),\n",
       " Text(27.478787044405102, 115.2432, 'gini = 0.0\\nsamples = 9\\nvalue = [9, 0]'),\n",
       " Text(27.714783068404287, 115.2432, 'X[11] <= 3100.0\\ngini = 0.5\\nsamples = 2\\nvalue = [1, 1]'),\n",
       " Text(27.596785056404695, 110.8944, 'gini = 0.0\\nsamples = 1\\nvalue = [0, 1]'),\n",
       " Text(27.83278108040388, 110.8944, 'gini = 0.0\\nsamples = 1\\nvalue = [1, 0]'),\n",
       " Text(27.950779092403472, 123.9408, 'X[11] <= 508.0\\ngini = 0.444\\nsamples = 6\\nvalue = [2, 4]'),\n",
       " Text(27.83278108040388, 119.592, 'gini = 0.0\\nsamples = 4\\nvalue = [0, 4]'),\n",
       " Text(28.068777104403065, 119.592, 'gini = 0.0\\nsamples = 2\\nvalue = [2, 0]'),\n",
       " Text(30.6647333683941, 132.6384, 'X[10] <= 393.0\\ngini = 0.431\\nsamples = 210\\nvalue = [144, 66]'),\n",
       " Text(29.794498029897102, 128.2896, 'X[11] <= 536.0\\ngini = 0.467\\nsamples = 137\\nvalue = [86, 51]'),\n",
       " Text(29.411004490898428, 123.9408, 'X[8] <= 614.0\\ngini = 0.489\\nsamples = 106\\nvalue = [61, 45]'),\n",
       " Text(29.293006478898835, 119.592, 'X[4] <= 564.0\\ngini = 0.494\\nsamples = 101\\nvalue = [56, 45]'),\n",
       " Text(29.05701045489965, 115.2432, 'X[8] <= 455.5\\ngini = 0.488\\nsamples = 95\\nvalue = [55, 40]'),\n",
       " Text(28.939012442900058, 110.8944, 'X[1] <= 38.5\\ngini = 0.494\\nsamples = 90\\nvalue = [50, 40]'),\n",
       " Text(28.098276607402962, 106.54560000000001, 'X[4] <= 325.5\\ngini = 0.457\\nsamples = 51\\nvalue = [33, 18]'),\n",
       " Text(27.537786050404897, 102.19680000000001, 'X[1] <= 32.5\\ngini = 0.496\\nsamples = 22\\nvalue = [10, 12]'),\n",
       " Text(27.124793008406325, 97.848, 'X[5] <= 210.5\\ngini = 0.375\\nsamples = 12\\nvalue = [3, 9]'),\n",
       " Text(26.88879698440714, 93.4992, 'X[2] <= 140.0\\ngini = 0.444\\nsamples = 3\\nvalue = [2, 1]'),\n",
       " Text(26.770798972407547, 89.15039999999999, 'gini = 0.0\\nsamples = 1\\nvalue = [0, 1]'),\n",
       " Text(27.006794996406732, 89.15039999999999, 'gini = 0.0\\nsamples = 2\\nvalue = [2, 0]'),\n",
       " Text(27.36078903240551, 93.4992, 'X[1] <= 23.5\\ngini = 0.198\\nsamples = 9\\nvalue = [1, 8]'),\n",
       " Text(27.242791020405917, 89.15039999999999, 'X[11] <= 277.5\\ngini = 0.5\\nsamples = 2\\nvalue = [1, 1]'),\n",
       " Text(27.124793008406325, 84.80160000000001, 'gini = 0.0\\nsamples = 1\\nvalue = [0, 1]'),\n",
       " Text(27.36078903240551, 84.80160000000001, 'gini = 0.0\\nsamples = 1\\nvalue = [1, 0]'),\n",
       " Text(27.478787044405102, 89.15039999999999, 'gini = 0.0\\nsamples = 7\\nvalue = [0, 7]'),\n",
       " Text(27.950779092403472, 97.848, 'X[0] <= 205000.0\\ngini = 0.42\\nsamples = 10\\nvalue = [7, 3]'),\n",
       " Text(27.83278108040388, 93.4992, 'X[2] <= 265.5\\ngini = 0.219\\nsamples = 8\\nvalue = [7, 1]'),\n",
       " Text(27.714783068404287, 89.15039999999999, 'X[10] <= 220.0\\ngini = 0.444\\nsamples = 3\\nvalue = [2, 1]'),\n",
       " Text(27.596785056404695, 84.80160000000001, 'gini = 0.0\\nsamples = 2\\nvalue = [2, 0]'),\n",
       " Text(27.83278108040388, 84.80160000000001, 'gini = 0.0\\nsamples = 1\\nvalue = [0, 1]'),\n",
       " Text(27.950779092403472, 89.15039999999999, 'gini = 0.0\\nsamples = 5\\nvalue = [5, 0]'),\n",
       " Text(28.068777104403065, 93.4992, 'gini = 0.0\\nsamples = 2\\nvalue = [0, 2]'),\n",
       " Text(28.658767164401027, 102.19680000000001, 'X[18] <= 0.5\\ngini = 0.328\\nsamples = 29\\nvalue = [23, 6]'),\n",
       " Text(28.422771140401842, 97.848, 'X[71] <= 0.5\\ngini = 0.117\\nsamples = 16\\nvalue = [15, 1]'),\n",
       " Text(28.30477312840225, 93.4992, 'gini = 0.0\\nsamples = 15\\nvalue = [15, 0]'),\n",
       " Text(28.540769152401435, 93.4992, 'gini = 0.0\\nsamples = 1\\nvalue = [0, 1]'),\n",
       " Text(28.894763188400212, 97.848, 'X[64] <= 0.5\\ngini = 0.473\\nsamples = 13\\nvalue = [8, 5]'),\n",
       " Text(28.77676517640062, 93.4992, 'X[11] <= 364.5\\ngini = 0.397\\nsamples = 11\\nvalue = [8, 3]'),\n",
       " Text(28.540769152401435, 89.15039999999999, 'X[14] <= 0.5\\ngini = 0.219\\nsamples = 8\\nvalue = [7, 1]'),\n",
       " Text(28.422771140401842, 84.80160000000001, 'gini = 0.0\\nsamples = 4\\nvalue = [4, 0]'),\n",
       " Text(28.658767164401027, 84.80160000000001, 'X[11] <= 324.0\\ngini = 0.375\\nsamples = 4\\nvalue = [3, 1]'),\n",
       " Text(28.540769152401435, 80.4528, 'gini = 0.0\\nsamples = 2\\nvalue = [2, 0]'),\n",
       " Text(28.77676517640062, 80.4528, 'X[21] <= 0.5\\ngini = 0.5\\nsamples = 2\\nvalue = [1, 1]'),\n",
       " Text(28.658767164401027, 76.10400000000001, 'gini = 0.0\\nsamples = 1\\nvalue = [1, 0]'),\n",
       " Text(28.894763188400212, 76.10400000000001, 'gini = 0.0\\nsamples = 1\\nvalue = [0, 1]'),\n",
       " Text(29.012761200399805, 89.15039999999999, 'X[0] <= 105000.0\\ngini = 0.444\\nsamples = 3\\nvalue = [1, 2]'),\n",
       " Text(28.894763188400212, 84.80160000000001, 'gini = 0.0\\nsamples = 2\\nvalue = [0, 2]'),\n",
       " Text(29.130759212399397, 84.80160000000001, 'gini = 0.0\\nsamples = 1\\nvalue = [1, 0]'),\n",
       " Text(29.012761200399805, 93.4992, 'gini = 0.0\\nsamples = 2\\nvalue = [0, 2]'),\n",
       " Text(29.779748278397154, 106.54560000000001, 'X[9] <= 284.5\\ngini = 0.492\\nsamples = 39\\nvalue = [17, 22]'),\n",
       " Text(29.66175026639756, 102.19680000000001, 'gini = 0.0\\nsamples = 2\\nvalue = [2, 0]'),\n",
       " Text(29.897746290396746, 102.19680000000001, 'X[18] <= 0.5\\ngini = 0.482\\nsamples = 37\\nvalue = [15, 22]'),\n",
       " Text(29.484753248398174, 97.848, 'X[10] <= 158.0\\ngini = 0.388\\nsamples = 19\\nvalue = [5, 14]'),\n",
       " Text(29.366755236398582, 93.4992, 'gini = 0.0\\nsamples = 4\\nvalue = [0, 4]'),\n",
       " Text(29.602751260397767, 93.4992, 'X[13] <= 0.5\\ngini = 0.444\\nsamples = 15\\nvalue = [5, 10]'),\n",
       " Text(29.484753248398174, 89.15039999999999, 'X[0] <= 205000.0\\ngini = 0.408\\nsamples = 14\\nvalue = [4, 10]'),\n",
       " Text(29.366755236398582, 84.80160000000001, 'X[20] <= 0.5\\ngini = 0.444\\nsamples = 12\\nvalue = [4, 8]'),\n",
       " Text(29.24875722439899, 80.4528, 'gini = 0.0\\nsamples = 1\\nvalue = [1, 0]'),\n",
       " Text(29.484753248398174, 80.4528, 'X[0] <= 135000.0\\ngini = 0.397\\nsamples = 11\\nvalue = [3, 8]'),\n",
       " Text(29.24875722439899, 76.10400000000001, 'X[1] <= 45.5\\ngini = 0.245\\nsamples = 7\\nvalue = [1, 6]'),\n",
       " Text(29.130759212399397, 71.7552, 'X[1] <= 44.5\\ngini = 0.444\\nsamples = 3\\nvalue = [1, 2]'),\n",
       " Text(29.012761200399805, 67.40640000000002, 'gini = 0.0\\nsamples = 2\\nvalue = [0, 2]'),\n",
       " Text(29.24875722439899, 67.40640000000002, 'gini = 0.0\\nsamples = 1\\nvalue = [1, 0]'),\n",
       " Text(29.366755236398582, 71.7552, 'gini = 0.0\\nsamples = 4\\nvalue = [0, 4]'),\n",
       " Text(29.72074927239736, 76.10400000000001, 'X[15] <= 0.5\\ngini = 0.5\\nsamples = 4\\nvalue = [2, 2]'),\n",
       " Text(29.602751260397767, 71.7552, 'gini = 0.0\\nsamples = 2\\nvalue = [0, 2]'),\n",
       " Text(29.838747284396952, 71.7552, 'gini = 0.0\\nsamples = 2\\nvalue = [2, 0]'),\n",
       " Text(29.602751260397767, 84.80160000000001, 'gini = 0.0\\nsamples = 2\\nvalue = [0, 2]'),\n",
       " Text(29.72074927239736, 89.15039999999999, 'gini = 0.0\\nsamples = 1\\nvalue = [1, 0]'),\n",
       " ...]"
      ]
     },
     "execution_count": 110,
     "metadata": {},
     "output_type": "execute_result"
    },
    {
     "name": "stdout",
     "output_type": "stream",
     "text": [
      "Error in callback <function flush_figures at 0x000002B96E3F94C0> (for post_execute):\n"
     ]
    },
    {
     "ename": "KeyboardInterrupt",
     "evalue": "",
     "output_type": "error",
     "traceback": [
      "\u001b[1;31m---------------------------------------------------------------------------\u001b[0m",
      "\u001b[1;31mKeyboardInterrupt\u001b[0m                         Traceback (most recent call last)",
      "\u001b[1;32m~\\anaconda3\\lib\\site-packages\\ipykernel\\pylab\\backend_inline.py\u001b[0m in \u001b[0;36mflush_figures\u001b[1;34m()\u001b[0m\n\u001b[0;32m    119\u001b[0m         \u001b[1;31m# ignore the tracking, just draw and close all figures\u001b[0m\u001b[1;33m\u001b[0m\u001b[1;33m\u001b[0m\u001b[1;33m\u001b[0m\u001b[0m\n\u001b[0;32m    120\u001b[0m         \u001b[1;32mtry\u001b[0m\u001b[1;33m:\u001b[0m\u001b[1;33m\u001b[0m\u001b[1;33m\u001b[0m\u001b[0m\n\u001b[1;32m--> 121\u001b[1;33m             \u001b[1;32mreturn\u001b[0m \u001b[0mshow\u001b[0m\u001b[1;33m(\u001b[0m\u001b[1;32mTrue\u001b[0m\u001b[1;33m)\u001b[0m\u001b[1;33m\u001b[0m\u001b[1;33m\u001b[0m\u001b[0m\n\u001b[0m\u001b[0;32m    122\u001b[0m         \u001b[1;32mexcept\u001b[0m \u001b[0mException\u001b[0m \u001b[1;32mas\u001b[0m \u001b[0me\u001b[0m\u001b[1;33m:\u001b[0m\u001b[1;33m\u001b[0m\u001b[1;33m\u001b[0m\u001b[0m\n\u001b[0;32m    123\u001b[0m             \u001b[1;31m# safely show traceback if in IPython, else raise\u001b[0m\u001b[1;33m\u001b[0m\u001b[1;33m\u001b[0m\u001b[1;33m\u001b[0m\u001b[0m\n",
      "\u001b[1;32m~\\anaconda3\\lib\\site-packages\\ipykernel\\pylab\\backend_inline.py\u001b[0m in \u001b[0;36mshow\u001b[1;34m(close, block)\u001b[0m\n\u001b[0;32m     39\u001b[0m     \u001b[1;32mtry\u001b[0m\u001b[1;33m:\u001b[0m\u001b[1;33m\u001b[0m\u001b[1;33m\u001b[0m\u001b[0m\n\u001b[0;32m     40\u001b[0m         \u001b[1;32mfor\u001b[0m \u001b[0mfigure_manager\u001b[0m \u001b[1;32min\u001b[0m \u001b[0mGcf\u001b[0m\u001b[1;33m.\u001b[0m\u001b[0mget_all_fig_managers\u001b[0m\u001b[1;33m(\u001b[0m\u001b[1;33m)\u001b[0m\u001b[1;33m:\u001b[0m\u001b[1;33m\u001b[0m\u001b[1;33m\u001b[0m\u001b[0m\n\u001b[1;32m---> 41\u001b[1;33m             display(\n\u001b[0m\u001b[0;32m     42\u001b[0m                 \u001b[0mfigure_manager\u001b[0m\u001b[1;33m.\u001b[0m\u001b[0mcanvas\u001b[0m\u001b[1;33m.\u001b[0m\u001b[0mfigure\u001b[0m\u001b[1;33m,\u001b[0m\u001b[1;33m\u001b[0m\u001b[1;33m\u001b[0m\u001b[0m\n\u001b[0;32m     43\u001b[0m                 \u001b[0mmetadata\u001b[0m\u001b[1;33m=\u001b[0m\u001b[0m_fetch_figure_metadata\u001b[0m\u001b[1;33m(\u001b[0m\u001b[0mfigure_manager\u001b[0m\u001b[1;33m.\u001b[0m\u001b[0mcanvas\u001b[0m\u001b[1;33m.\u001b[0m\u001b[0mfigure\u001b[0m\u001b[1;33m)\u001b[0m\u001b[1;33m\u001b[0m\u001b[1;33m\u001b[0m\u001b[0m\n",
      "\u001b[1;32m~\\anaconda3\\lib\\site-packages\\IPython\\core\\display.py\u001b[0m in \u001b[0;36mdisplay\u001b[1;34m(include, exclude, metadata, transient, display_id, *objs, **kwargs)\u001b[0m\n\u001b[0;32m    311\u001b[0m             \u001b[0mpublish_display_data\u001b[0m\u001b[1;33m(\u001b[0m\u001b[0mdata\u001b[0m\u001b[1;33m=\u001b[0m\u001b[0mobj\u001b[0m\u001b[1;33m,\u001b[0m \u001b[0mmetadata\u001b[0m\u001b[1;33m=\u001b[0m\u001b[0mmetadata\u001b[0m\u001b[1;33m,\u001b[0m \u001b[1;33m**\u001b[0m\u001b[0mkwargs\u001b[0m\u001b[1;33m)\u001b[0m\u001b[1;33m\u001b[0m\u001b[1;33m\u001b[0m\u001b[0m\n\u001b[0;32m    312\u001b[0m         \u001b[1;32melse\u001b[0m\u001b[1;33m:\u001b[0m\u001b[1;33m\u001b[0m\u001b[1;33m\u001b[0m\u001b[0m\n\u001b[1;32m--> 313\u001b[1;33m             \u001b[0mformat_dict\u001b[0m\u001b[1;33m,\u001b[0m \u001b[0mmd_dict\u001b[0m \u001b[1;33m=\u001b[0m \u001b[0mformat\u001b[0m\u001b[1;33m(\u001b[0m\u001b[0mobj\u001b[0m\u001b[1;33m,\u001b[0m \u001b[0minclude\u001b[0m\u001b[1;33m=\u001b[0m\u001b[0minclude\u001b[0m\u001b[1;33m,\u001b[0m \u001b[0mexclude\u001b[0m\u001b[1;33m=\u001b[0m\u001b[0mexclude\u001b[0m\u001b[1;33m)\u001b[0m\u001b[1;33m\u001b[0m\u001b[1;33m\u001b[0m\u001b[0m\n\u001b[0m\u001b[0;32m    314\u001b[0m             \u001b[1;32mif\u001b[0m \u001b[1;32mnot\u001b[0m \u001b[0mformat_dict\u001b[0m\u001b[1;33m:\u001b[0m\u001b[1;33m\u001b[0m\u001b[1;33m\u001b[0m\u001b[0m\n\u001b[0;32m    315\u001b[0m                 \u001b[1;31m# nothing to display (e.g. _ipython_display_ took over)\u001b[0m\u001b[1;33m\u001b[0m\u001b[1;33m\u001b[0m\u001b[1;33m\u001b[0m\u001b[0m\n",
      "\u001b[1;32m~\\anaconda3\\lib\\site-packages\\IPython\\core\\formatters.py\u001b[0m in \u001b[0;36mformat\u001b[1;34m(self, obj, include, exclude)\u001b[0m\n\u001b[0;32m    178\u001b[0m             \u001b[0mmd\u001b[0m \u001b[1;33m=\u001b[0m \u001b[1;32mNone\u001b[0m\u001b[1;33m\u001b[0m\u001b[1;33m\u001b[0m\u001b[0m\n\u001b[0;32m    179\u001b[0m             \u001b[1;32mtry\u001b[0m\u001b[1;33m:\u001b[0m\u001b[1;33m\u001b[0m\u001b[1;33m\u001b[0m\u001b[0m\n\u001b[1;32m--> 180\u001b[1;33m                 \u001b[0mdata\u001b[0m \u001b[1;33m=\u001b[0m \u001b[0mformatter\u001b[0m\u001b[1;33m(\u001b[0m\u001b[0mobj\u001b[0m\u001b[1;33m)\u001b[0m\u001b[1;33m\u001b[0m\u001b[1;33m\u001b[0m\u001b[0m\n\u001b[0m\u001b[0;32m    181\u001b[0m             \u001b[1;32mexcept\u001b[0m\u001b[1;33m:\u001b[0m\u001b[1;33m\u001b[0m\u001b[1;33m\u001b[0m\u001b[0m\n\u001b[0;32m    182\u001b[0m                 \u001b[1;31m# FIXME: log the exception\u001b[0m\u001b[1;33m\u001b[0m\u001b[1;33m\u001b[0m\u001b[1;33m\u001b[0m\u001b[0m\n",
      "\u001b[1;32m<decorator-gen-9>\u001b[0m in \u001b[0;36m__call__\u001b[1;34m(self, obj)\u001b[0m\n",
      "\u001b[1;32m~\\anaconda3\\lib\\site-packages\\IPython\\core\\formatters.py\u001b[0m in \u001b[0;36mcatch_format_error\u001b[1;34m(method, self, *args, **kwargs)\u001b[0m\n\u001b[0;32m    222\u001b[0m     \u001b[1;34m\"\"\"show traceback on failed format call\"\"\"\u001b[0m\u001b[1;33m\u001b[0m\u001b[1;33m\u001b[0m\u001b[0m\n\u001b[0;32m    223\u001b[0m     \u001b[1;32mtry\u001b[0m\u001b[1;33m:\u001b[0m\u001b[1;33m\u001b[0m\u001b[1;33m\u001b[0m\u001b[0m\n\u001b[1;32m--> 224\u001b[1;33m         \u001b[0mr\u001b[0m \u001b[1;33m=\u001b[0m \u001b[0mmethod\u001b[0m\u001b[1;33m(\u001b[0m\u001b[0mself\u001b[0m\u001b[1;33m,\u001b[0m \u001b[1;33m*\u001b[0m\u001b[0margs\u001b[0m\u001b[1;33m,\u001b[0m \u001b[1;33m**\u001b[0m\u001b[0mkwargs\u001b[0m\u001b[1;33m)\u001b[0m\u001b[1;33m\u001b[0m\u001b[1;33m\u001b[0m\u001b[0m\n\u001b[0m\u001b[0;32m    225\u001b[0m     \u001b[1;32mexcept\u001b[0m \u001b[0mNotImplementedError\u001b[0m\u001b[1;33m:\u001b[0m\u001b[1;33m\u001b[0m\u001b[1;33m\u001b[0m\u001b[0m\n\u001b[0;32m    226\u001b[0m         \u001b[1;31m# don't warn on NotImplementedErrors\u001b[0m\u001b[1;33m\u001b[0m\u001b[1;33m\u001b[0m\u001b[1;33m\u001b[0m\u001b[0m\n",
      "\u001b[1;32m~\\anaconda3\\lib\\site-packages\\IPython\\core\\formatters.py\u001b[0m in \u001b[0;36m__call__\u001b[1;34m(self, obj)\u001b[0m\n\u001b[0;32m    339\u001b[0m                 \u001b[1;32mpass\u001b[0m\u001b[1;33m\u001b[0m\u001b[1;33m\u001b[0m\u001b[0m\n\u001b[0;32m    340\u001b[0m             \u001b[1;32melse\u001b[0m\u001b[1;33m:\u001b[0m\u001b[1;33m\u001b[0m\u001b[1;33m\u001b[0m\u001b[0m\n\u001b[1;32m--> 341\u001b[1;33m                 \u001b[1;32mreturn\u001b[0m \u001b[0mprinter\u001b[0m\u001b[1;33m(\u001b[0m\u001b[0mobj\u001b[0m\u001b[1;33m)\u001b[0m\u001b[1;33m\u001b[0m\u001b[1;33m\u001b[0m\u001b[0m\n\u001b[0m\u001b[0;32m    342\u001b[0m             \u001b[1;31m# Finally look for special method names\u001b[0m\u001b[1;33m\u001b[0m\u001b[1;33m\u001b[0m\u001b[1;33m\u001b[0m\u001b[0m\n\u001b[0;32m    343\u001b[0m             \u001b[0mmethod\u001b[0m \u001b[1;33m=\u001b[0m \u001b[0mget_real_method\u001b[0m\u001b[1;33m(\u001b[0m\u001b[0mobj\u001b[0m\u001b[1;33m,\u001b[0m \u001b[0mself\u001b[0m\u001b[1;33m.\u001b[0m\u001b[0mprint_method\u001b[0m\u001b[1;33m)\u001b[0m\u001b[1;33m\u001b[0m\u001b[1;33m\u001b[0m\u001b[0m\n",
      "\u001b[1;32m~\\anaconda3\\lib\\site-packages\\IPython\\core\\pylabtools.py\u001b[0m in \u001b[0;36m<lambda>\u001b[1;34m(fig)\u001b[0m\n\u001b[0;32m    246\u001b[0m \u001b[1;33m\u001b[0m\u001b[0m\n\u001b[0;32m    247\u001b[0m     \u001b[1;32mif\u001b[0m \u001b[1;34m'png'\u001b[0m \u001b[1;32min\u001b[0m \u001b[0mformats\u001b[0m\u001b[1;33m:\u001b[0m\u001b[1;33m\u001b[0m\u001b[1;33m\u001b[0m\u001b[0m\n\u001b[1;32m--> 248\u001b[1;33m         \u001b[0mpng_formatter\u001b[0m\u001b[1;33m.\u001b[0m\u001b[0mfor_type\u001b[0m\u001b[1;33m(\u001b[0m\u001b[0mFigure\u001b[0m\u001b[1;33m,\u001b[0m \u001b[1;32mlambda\u001b[0m \u001b[0mfig\u001b[0m\u001b[1;33m:\u001b[0m \u001b[0mprint_figure\u001b[0m\u001b[1;33m(\u001b[0m\u001b[0mfig\u001b[0m\u001b[1;33m,\u001b[0m \u001b[1;34m'png'\u001b[0m\u001b[1;33m,\u001b[0m \u001b[1;33m**\u001b[0m\u001b[0mkwargs\u001b[0m\u001b[1;33m)\u001b[0m\u001b[1;33m)\u001b[0m\u001b[1;33m\u001b[0m\u001b[1;33m\u001b[0m\u001b[0m\n\u001b[0m\u001b[0;32m    249\u001b[0m     \u001b[1;32mif\u001b[0m \u001b[1;34m'retina'\u001b[0m \u001b[1;32min\u001b[0m \u001b[0mformats\u001b[0m \u001b[1;32mor\u001b[0m \u001b[1;34m'png2x'\u001b[0m \u001b[1;32min\u001b[0m \u001b[0mformats\u001b[0m\u001b[1;33m:\u001b[0m\u001b[1;33m\u001b[0m\u001b[1;33m\u001b[0m\u001b[0m\n\u001b[0;32m    250\u001b[0m         \u001b[0mpng_formatter\u001b[0m\u001b[1;33m.\u001b[0m\u001b[0mfor_type\u001b[0m\u001b[1;33m(\u001b[0m\u001b[0mFigure\u001b[0m\u001b[1;33m,\u001b[0m \u001b[1;32mlambda\u001b[0m \u001b[0mfig\u001b[0m\u001b[1;33m:\u001b[0m \u001b[0mretina_figure\u001b[0m\u001b[1;33m(\u001b[0m\u001b[0mfig\u001b[0m\u001b[1;33m,\u001b[0m \u001b[1;33m**\u001b[0m\u001b[0mkwargs\u001b[0m\u001b[1;33m)\u001b[0m\u001b[1;33m)\u001b[0m\u001b[1;33m\u001b[0m\u001b[1;33m\u001b[0m\u001b[0m\n",
      "\u001b[1;32m~\\anaconda3\\lib\\site-packages\\IPython\\core\\pylabtools.py\u001b[0m in \u001b[0;36mprint_figure\u001b[1;34m(fig, fmt, bbox_inches, **kwargs)\u001b[0m\n\u001b[0;32m    130\u001b[0m         \u001b[0mFigureCanvasBase\u001b[0m\u001b[1;33m(\u001b[0m\u001b[0mfig\u001b[0m\u001b[1;33m)\u001b[0m\u001b[1;33m\u001b[0m\u001b[1;33m\u001b[0m\u001b[0m\n\u001b[0;32m    131\u001b[0m \u001b[1;33m\u001b[0m\u001b[0m\n\u001b[1;32m--> 132\u001b[1;33m     \u001b[0mfig\u001b[0m\u001b[1;33m.\u001b[0m\u001b[0mcanvas\u001b[0m\u001b[1;33m.\u001b[0m\u001b[0mprint_figure\u001b[0m\u001b[1;33m(\u001b[0m\u001b[0mbytes_io\u001b[0m\u001b[1;33m,\u001b[0m \u001b[1;33m**\u001b[0m\u001b[0mkw\u001b[0m\u001b[1;33m)\u001b[0m\u001b[1;33m\u001b[0m\u001b[1;33m\u001b[0m\u001b[0m\n\u001b[0m\u001b[0;32m    133\u001b[0m     \u001b[0mdata\u001b[0m \u001b[1;33m=\u001b[0m \u001b[0mbytes_io\u001b[0m\u001b[1;33m.\u001b[0m\u001b[0mgetvalue\u001b[0m\u001b[1;33m(\u001b[0m\u001b[1;33m)\u001b[0m\u001b[1;33m\u001b[0m\u001b[1;33m\u001b[0m\u001b[0m\n\u001b[0;32m    134\u001b[0m     \u001b[1;32mif\u001b[0m \u001b[0mfmt\u001b[0m \u001b[1;33m==\u001b[0m \u001b[1;34m'svg'\u001b[0m\u001b[1;33m:\u001b[0m\u001b[1;33m\u001b[0m\u001b[1;33m\u001b[0m\u001b[0m\n",
      "\u001b[1;32m~\\anaconda3\\lib\\site-packages\\matplotlib\\backend_bases.py\u001b[0m in \u001b[0;36mprint_figure\u001b[1;34m(self, filename, dpi, facecolor, edgecolor, orientation, format, bbox_inches, **kwargs)\u001b[0m\n\u001b[0;32m   2117\u001b[0m \u001b[1;33m\u001b[0m\u001b[0m\n\u001b[0;32m   2118\u001b[0m             \u001b[1;32mtry\u001b[0m\u001b[1;33m:\u001b[0m\u001b[1;33m\u001b[0m\u001b[1;33m\u001b[0m\u001b[0m\n\u001b[1;32m-> 2119\u001b[1;33m                 result = print_method(\n\u001b[0m\u001b[0;32m   2120\u001b[0m                     \u001b[0mfilename\u001b[0m\u001b[1;33m,\u001b[0m\u001b[1;33m\u001b[0m\u001b[1;33m\u001b[0m\u001b[0m\n\u001b[0;32m   2121\u001b[0m                     \u001b[0mdpi\u001b[0m\u001b[1;33m=\u001b[0m\u001b[0mdpi\u001b[0m\u001b[1;33m,\u001b[0m\u001b[1;33m\u001b[0m\u001b[1;33m\u001b[0m\u001b[0m\n",
      "\u001b[1;32m~\\anaconda3\\lib\\site-packages\\matplotlib\\backends\\backend_agg.py\u001b[0m in \u001b[0;36mprint_png\u001b[1;34m(self, filename_or_obj, metadata, pil_kwargs, *args, **kwargs)\u001b[0m\n\u001b[0;32m    512\u001b[0m         }\n\u001b[0;32m    513\u001b[0m \u001b[1;33m\u001b[0m\u001b[0m\n\u001b[1;32m--> 514\u001b[1;33m         \u001b[0mFigureCanvasAgg\u001b[0m\u001b[1;33m.\u001b[0m\u001b[0mdraw\u001b[0m\u001b[1;33m(\u001b[0m\u001b[0mself\u001b[0m\u001b[1;33m)\u001b[0m\u001b[1;33m\u001b[0m\u001b[1;33m\u001b[0m\u001b[0m\n\u001b[0m\u001b[0;32m    515\u001b[0m         \u001b[1;32mif\u001b[0m \u001b[0mpil_kwargs\u001b[0m \u001b[1;32mis\u001b[0m \u001b[1;32mnot\u001b[0m \u001b[1;32mNone\u001b[0m\u001b[1;33m:\u001b[0m\u001b[1;33m\u001b[0m\u001b[1;33m\u001b[0m\u001b[0m\n\u001b[0;32m    516\u001b[0m             \u001b[1;32mfrom\u001b[0m \u001b[0mPIL\u001b[0m \u001b[1;32mimport\u001b[0m \u001b[0mImage\u001b[0m\u001b[1;33m\u001b[0m\u001b[1;33m\u001b[0m\u001b[0m\n",
      "\u001b[1;32m~\\anaconda3\\lib\\site-packages\\matplotlib\\backends\\backend_agg.py\u001b[0m in \u001b[0;36mdraw\u001b[1;34m(self)\u001b[0m\n\u001b[0;32m    391\u001b[0m              (self.toolbar._wait_cursor_for_draw_cm() if self.toolbar\n\u001b[0;32m    392\u001b[0m               else nullcontext()):\n\u001b[1;32m--> 393\u001b[1;33m             \u001b[0mself\u001b[0m\u001b[1;33m.\u001b[0m\u001b[0mfigure\u001b[0m\u001b[1;33m.\u001b[0m\u001b[0mdraw\u001b[0m\u001b[1;33m(\u001b[0m\u001b[0mself\u001b[0m\u001b[1;33m.\u001b[0m\u001b[0mrenderer\u001b[0m\u001b[1;33m)\u001b[0m\u001b[1;33m\u001b[0m\u001b[1;33m\u001b[0m\u001b[0m\n\u001b[0m\u001b[0;32m    394\u001b[0m             \u001b[1;31m# A GUI class may be need to update a window using this draw, so\u001b[0m\u001b[1;33m\u001b[0m\u001b[1;33m\u001b[0m\u001b[1;33m\u001b[0m\u001b[0m\n\u001b[0;32m    395\u001b[0m             \u001b[1;31m# don't forget to call the superclass.\u001b[0m\u001b[1;33m\u001b[0m\u001b[1;33m\u001b[0m\u001b[1;33m\u001b[0m\u001b[0m\n",
      "\u001b[1;32m~\\anaconda3\\lib\\site-packages\\matplotlib\\artist.py\u001b[0m in \u001b[0;36mdraw_wrapper\u001b[1;34m(artist, renderer, *args, **kwargs)\u001b[0m\n\u001b[0;32m     36\u001b[0m                 \u001b[0mrenderer\u001b[0m\u001b[1;33m.\u001b[0m\u001b[0mstart_filter\u001b[0m\u001b[1;33m(\u001b[0m\u001b[1;33m)\u001b[0m\u001b[1;33m\u001b[0m\u001b[1;33m\u001b[0m\u001b[0m\n\u001b[0;32m     37\u001b[0m \u001b[1;33m\u001b[0m\u001b[0m\n\u001b[1;32m---> 38\u001b[1;33m             \u001b[1;32mreturn\u001b[0m \u001b[0mdraw\u001b[0m\u001b[1;33m(\u001b[0m\u001b[0martist\u001b[0m\u001b[1;33m,\u001b[0m \u001b[0mrenderer\u001b[0m\u001b[1;33m,\u001b[0m \u001b[1;33m*\u001b[0m\u001b[0margs\u001b[0m\u001b[1;33m,\u001b[0m \u001b[1;33m**\u001b[0m\u001b[0mkwargs\u001b[0m\u001b[1;33m)\u001b[0m\u001b[1;33m\u001b[0m\u001b[1;33m\u001b[0m\u001b[0m\n\u001b[0m\u001b[0;32m     39\u001b[0m         \u001b[1;32mfinally\u001b[0m\u001b[1;33m:\u001b[0m\u001b[1;33m\u001b[0m\u001b[1;33m\u001b[0m\u001b[0m\n\u001b[0;32m     40\u001b[0m             \u001b[1;32mif\u001b[0m \u001b[0martist\u001b[0m\u001b[1;33m.\u001b[0m\u001b[0mget_agg_filter\u001b[0m\u001b[1;33m(\u001b[0m\u001b[1;33m)\u001b[0m \u001b[1;32mis\u001b[0m \u001b[1;32mnot\u001b[0m \u001b[1;32mNone\u001b[0m\u001b[1;33m:\u001b[0m\u001b[1;33m\u001b[0m\u001b[1;33m\u001b[0m\u001b[0m\n",
      "\u001b[1;32m~\\anaconda3\\lib\\site-packages\\matplotlib\\figure.py\u001b[0m in \u001b[0;36mdraw\u001b[1;34m(self, renderer)\u001b[0m\n\u001b[0;32m   1733\u001b[0m \u001b[1;33m\u001b[0m\u001b[0m\n\u001b[0;32m   1734\u001b[0m             \u001b[0mself\u001b[0m\u001b[1;33m.\u001b[0m\u001b[0mpatch\u001b[0m\u001b[1;33m.\u001b[0m\u001b[0mdraw\u001b[0m\u001b[1;33m(\u001b[0m\u001b[0mrenderer\u001b[0m\u001b[1;33m)\u001b[0m\u001b[1;33m\u001b[0m\u001b[1;33m\u001b[0m\u001b[0m\n\u001b[1;32m-> 1735\u001b[1;33m             mimage._draw_list_compositing_images(\n\u001b[0m\u001b[0;32m   1736\u001b[0m                 renderer, self, artists, self.suppressComposite)\n\u001b[0;32m   1737\u001b[0m \u001b[1;33m\u001b[0m\u001b[0m\n",
      "\u001b[1;32m~\\anaconda3\\lib\\site-packages\\matplotlib\\image.py\u001b[0m in \u001b[0;36m_draw_list_compositing_images\u001b[1;34m(renderer, parent, artists, suppress_composite)\u001b[0m\n\u001b[0;32m    135\u001b[0m     \u001b[1;32mif\u001b[0m \u001b[0mnot_composite\u001b[0m \u001b[1;32mor\u001b[0m \u001b[1;32mnot\u001b[0m \u001b[0mhas_images\u001b[0m\u001b[1;33m:\u001b[0m\u001b[1;33m\u001b[0m\u001b[1;33m\u001b[0m\u001b[0m\n\u001b[0;32m    136\u001b[0m         \u001b[1;32mfor\u001b[0m \u001b[0ma\u001b[0m \u001b[1;32min\u001b[0m \u001b[0martists\u001b[0m\u001b[1;33m:\u001b[0m\u001b[1;33m\u001b[0m\u001b[1;33m\u001b[0m\u001b[0m\n\u001b[1;32m--> 137\u001b[1;33m             \u001b[0ma\u001b[0m\u001b[1;33m.\u001b[0m\u001b[0mdraw\u001b[0m\u001b[1;33m(\u001b[0m\u001b[0mrenderer\u001b[0m\u001b[1;33m)\u001b[0m\u001b[1;33m\u001b[0m\u001b[1;33m\u001b[0m\u001b[0m\n\u001b[0m\u001b[0;32m    138\u001b[0m     \u001b[1;32melse\u001b[0m\u001b[1;33m:\u001b[0m\u001b[1;33m\u001b[0m\u001b[1;33m\u001b[0m\u001b[0m\n\u001b[0;32m    139\u001b[0m         \u001b[1;31m# Composite any adjacent images together\u001b[0m\u001b[1;33m\u001b[0m\u001b[1;33m\u001b[0m\u001b[1;33m\u001b[0m\u001b[0m\n",
      "\u001b[1;32m~\\anaconda3\\lib\\site-packages\\matplotlib\\artist.py\u001b[0m in \u001b[0;36mdraw_wrapper\u001b[1;34m(artist, renderer, *args, **kwargs)\u001b[0m\n\u001b[0;32m     36\u001b[0m                 \u001b[0mrenderer\u001b[0m\u001b[1;33m.\u001b[0m\u001b[0mstart_filter\u001b[0m\u001b[1;33m(\u001b[0m\u001b[1;33m)\u001b[0m\u001b[1;33m\u001b[0m\u001b[1;33m\u001b[0m\u001b[0m\n\u001b[0;32m     37\u001b[0m \u001b[1;33m\u001b[0m\u001b[0m\n\u001b[1;32m---> 38\u001b[1;33m             \u001b[1;32mreturn\u001b[0m \u001b[0mdraw\u001b[0m\u001b[1;33m(\u001b[0m\u001b[0martist\u001b[0m\u001b[1;33m,\u001b[0m \u001b[0mrenderer\u001b[0m\u001b[1;33m,\u001b[0m \u001b[1;33m*\u001b[0m\u001b[0margs\u001b[0m\u001b[1;33m,\u001b[0m \u001b[1;33m**\u001b[0m\u001b[0mkwargs\u001b[0m\u001b[1;33m)\u001b[0m\u001b[1;33m\u001b[0m\u001b[1;33m\u001b[0m\u001b[0m\n\u001b[0m\u001b[0;32m     39\u001b[0m         \u001b[1;32mfinally\u001b[0m\u001b[1;33m:\u001b[0m\u001b[1;33m\u001b[0m\u001b[1;33m\u001b[0m\u001b[0m\n\u001b[0;32m     40\u001b[0m             \u001b[1;32mif\u001b[0m \u001b[0martist\u001b[0m\u001b[1;33m.\u001b[0m\u001b[0mget_agg_filter\u001b[0m\u001b[1;33m(\u001b[0m\u001b[1;33m)\u001b[0m \u001b[1;32mis\u001b[0m \u001b[1;32mnot\u001b[0m \u001b[1;32mNone\u001b[0m\u001b[1;33m:\u001b[0m\u001b[1;33m\u001b[0m\u001b[1;33m\u001b[0m\u001b[0m\n",
      "\u001b[1;32m~\\anaconda3\\lib\\site-packages\\matplotlib\\axes\\_base.py\u001b[0m in \u001b[0;36mdraw\u001b[1;34m(self, renderer, inframe)\u001b[0m\n\u001b[0;32m   2628\u001b[0m             \u001b[0mrenderer\u001b[0m\u001b[1;33m.\u001b[0m\u001b[0mstop_rasterizing\u001b[0m\u001b[1;33m(\u001b[0m\u001b[1;33m)\u001b[0m\u001b[1;33m\u001b[0m\u001b[1;33m\u001b[0m\u001b[0m\n\u001b[0;32m   2629\u001b[0m \u001b[1;33m\u001b[0m\u001b[0m\n\u001b[1;32m-> 2630\u001b[1;33m         \u001b[0mmimage\u001b[0m\u001b[1;33m.\u001b[0m\u001b[0m_draw_list_compositing_images\u001b[0m\u001b[1;33m(\u001b[0m\u001b[0mrenderer\u001b[0m\u001b[1;33m,\u001b[0m \u001b[0mself\u001b[0m\u001b[1;33m,\u001b[0m \u001b[0martists\u001b[0m\u001b[1;33m)\u001b[0m\u001b[1;33m\u001b[0m\u001b[1;33m\u001b[0m\u001b[0m\n\u001b[0m\u001b[0;32m   2631\u001b[0m \u001b[1;33m\u001b[0m\u001b[0m\n\u001b[0;32m   2632\u001b[0m         \u001b[0mrenderer\u001b[0m\u001b[1;33m.\u001b[0m\u001b[0mclose_group\u001b[0m\u001b[1;33m(\u001b[0m\u001b[1;34m'axes'\u001b[0m\u001b[1;33m)\u001b[0m\u001b[1;33m\u001b[0m\u001b[1;33m\u001b[0m\u001b[0m\n",
      "\u001b[1;32m~\\anaconda3\\lib\\site-packages\\matplotlib\\image.py\u001b[0m in \u001b[0;36m_draw_list_compositing_images\u001b[1;34m(renderer, parent, artists, suppress_composite)\u001b[0m\n\u001b[0;32m    135\u001b[0m     \u001b[1;32mif\u001b[0m \u001b[0mnot_composite\u001b[0m \u001b[1;32mor\u001b[0m \u001b[1;32mnot\u001b[0m \u001b[0mhas_images\u001b[0m\u001b[1;33m:\u001b[0m\u001b[1;33m\u001b[0m\u001b[1;33m\u001b[0m\u001b[0m\n\u001b[0;32m    136\u001b[0m         \u001b[1;32mfor\u001b[0m \u001b[0ma\u001b[0m \u001b[1;32min\u001b[0m \u001b[0martists\u001b[0m\u001b[1;33m:\u001b[0m\u001b[1;33m\u001b[0m\u001b[1;33m\u001b[0m\u001b[0m\n\u001b[1;32m--> 137\u001b[1;33m             \u001b[0ma\u001b[0m\u001b[1;33m.\u001b[0m\u001b[0mdraw\u001b[0m\u001b[1;33m(\u001b[0m\u001b[0mrenderer\u001b[0m\u001b[1;33m)\u001b[0m\u001b[1;33m\u001b[0m\u001b[1;33m\u001b[0m\u001b[0m\n\u001b[0m\u001b[0;32m    138\u001b[0m     \u001b[1;32melse\u001b[0m\u001b[1;33m:\u001b[0m\u001b[1;33m\u001b[0m\u001b[1;33m\u001b[0m\u001b[0m\n\u001b[0;32m    139\u001b[0m         \u001b[1;31m# Composite any adjacent images together\u001b[0m\u001b[1;33m\u001b[0m\u001b[1;33m\u001b[0m\u001b[1;33m\u001b[0m\u001b[0m\n",
      "\u001b[1;32m~\\anaconda3\\lib\\site-packages\\matplotlib\\artist.py\u001b[0m in \u001b[0;36mdraw_wrapper\u001b[1;34m(artist, renderer, *args, **kwargs)\u001b[0m\n\u001b[0;32m     36\u001b[0m                 \u001b[0mrenderer\u001b[0m\u001b[1;33m.\u001b[0m\u001b[0mstart_filter\u001b[0m\u001b[1;33m(\u001b[0m\u001b[1;33m)\u001b[0m\u001b[1;33m\u001b[0m\u001b[1;33m\u001b[0m\u001b[0m\n\u001b[0;32m     37\u001b[0m \u001b[1;33m\u001b[0m\u001b[0m\n\u001b[1;32m---> 38\u001b[1;33m             \u001b[1;32mreturn\u001b[0m \u001b[0mdraw\u001b[0m\u001b[1;33m(\u001b[0m\u001b[0martist\u001b[0m\u001b[1;33m,\u001b[0m \u001b[0mrenderer\u001b[0m\u001b[1;33m,\u001b[0m \u001b[1;33m*\u001b[0m\u001b[0margs\u001b[0m\u001b[1;33m,\u001b[0m \u001b[1;33m**\u001b[0m\u001b[0mkwargs\u001b[0m\u001b[1;33m)\u001b[0m\u001b[1;33m\u001b[0m\u001b[1;33m\u001b[0m\u001b[0m\n\u001b[0m\u001b[0;32m     39\u001b[0m         \u001b[1;32mfinally\u001b[0m\u001b[1;33m:\u001b[0m\u001b[1;33m\u001b[0m\u001b[1;33m\u001b[0m\u001b[0m\n\u001b[0;32m     40\u001b[0m             \u001b[1;32mif\u001b[0m \u001b[0martist\u001b[0m\u001b[1;33m.\u001b[0m\u001b[0mget_agg_filter\u001b[0m\u001b[1;33m(\u001b[0m\u001b[1;33m)\u001b[0m \u001b[1;32mis\u001b[0m \u001b[1;32mnot\u001b[0m \u001b[1;32mNone\u001b[0m\u001b[1;33m:\u001b[0m\u001b[1;33m\u001b[0m\u001b[1;33m\u001b[0m\u001b[0m\n",
      "\u001b[1;32m~\\anaconda3\\lib\\site-packages\\matplotlib\\text.py\u001b[0m in \u001b[0;36mdraw\u001b[1;34m(self, renderer)\u001b[0m\n\u001b[0;32m   2365\u001b[0m             \u001b[1;32mif\u001b[0m \u001b[0mself\u001b[0m\u001b[1;33m.\u001b[0m\u001b[0marrow_patch\u001b[0m\u001b[1;33m.\u001b[0m\u001b[0mfigure\u001b[0m \u001b[1;32mis\u001b[0m \u001b[1;32mNone\u001b[0m \u001b[1;32mand\u001b[0m \u001b[0mself\u001b[0m\u001b[1;33m.\u001b[0m\u001b[0mfigure\u001b[0m \u001b[1;32mis\u001b[0m \u001b[1;32mnot\u001b[0m \u001b[1;32mNone\u001b[0m\u001b[1;33m:\u001b[0m\u001b[1;33m\u001b[0m\u001b[1;33m\u001b[0m\u001b[0m\n\u001b[0;32m   2366\u001b[0m                 \u001b[0mself\u001b[0m\u001b[1;33m.\u001b[0m\u001b[0marrow_patch\u001b[0m\u001b[1;33m.\u001b[0m\u001b[0mfigure\u001b[0m \u001b[1;33m=\u001b[0m \u001b[0mself\u001b[0m\u001b[1;33m.\u001b[0m\u001b[0mfigure\u001b[0m\u001b[1;33m\u001b[0m\u001b[1;33m\u001b[0m\u001b[0m\n\u001b[1;32m-> 2367\u001b[1;33m             \u001b[0mself\u001b[0m\u001b[1;33m.\u001b[0m\u001b[0marrow_patch\u001b[0m\u001b[1;33m.\u001b[0m\u001b[0mdraw\u001b[0m\u001b[1;33m(\u001b[0m\u001b[0mrenderer\u001b[0m\u001b[1;33m)\u001b[0m\u001b[1;33m\u001b[0m\u001b[1;33m\u001b[0m\u001b[0m\n\u001b[0m\u001b[0;32m   2368\u001b[0m \u001b[1;33m\u001b[0m\u001b[0m\n\u001b[0;32m   2369\u001b[0m         \u001b[1;31m# Draw text, including FancyBboxPatch, after FancyArrowPatch.\u001b[0m\u001b[1;33m\u001b[0m\u001b[1;33m\u001b[0m\u001b[1;33m\u001b[0m\u001b[0m\n",
      "\u001b[1;32m~\\anaconda3\\lib\\site-packages\\matplotlib\\patches.py\u001b[0m in \u001b[0;36mdraw\u001b[1;34m(self, renderer)\u001b[0m\n\u001b[0;32m   4261\u001b[0m             \u001b[1;31m# could be room for improvement.\u001b[0m\u001b[1;33m\u001b[0m\u001b[1;33m\u001b[0m\u001b[1;33m\u001b[0m\u001b[0m\n\u001b[0;32m   4262\u001b[0m             \u001b[0mself\u001b[0m\u001b[1;33m.\u001b[0m\u001b[0mset_dpi_cor\u001b[0m\u001b[1;33m(\u001b[0m\u001b[0mrenderer\u001b[0m\u001b[1;33m.\u001b[0m\u001b[0mpoints_to_pixels\u001b[0m\u001b[1;33m(\u001b[0m\u001b[1;36m1.\u001b[0m\u001b[1;33m)\u001b[0m\u001b[1;33m)\u001b[0m\u001b[1;33m\u001b[0m\u001b[1;33m\u001b[0m\u001b[0m\n\u001b[1;32m-> 4263\u001b[1;33m             \u001b[0mpath\u001b[0m\u001b[1;33m,\u001b[0m \u001b[0mfillable\u001b[0m \u001b[1;33m=\u001b[0m \u001b[0mself\u001b[0m\u001b[1;33m.\u001b[0m\u001b[0mget_path_in_displaycoord\u001b[0m\u001b[1;33m(\u001b[0m\u001b[1;33m)\u001b[0m\u001b[1;33m\u001b[0m\u001b[1;33m\u001b[0m\u001b[0m\n\u001b[0m\u001b[0;32m   4264\u001b[0m \u001b[1;33m\u001b[0m\u001b[0m\n\u001b[0;32m   4265\u001b[0m             \u001b[1;32mif\u001b[0m \u001b[1;32mnot\u001b[0m \u001b[0mnp\u001b[0m\u001b[1;33m.\u001b[0m\u001b[0miterable\u001b[0m\u001b[1;33m(\u001b[0m\u001b[0mfillable\u001b[0m\u001b[1;33m)\u001b[0m\u001b[1;33m:\u001b[0m\u001b[1;33m\u001b[0m\u001b[1;33m\u001b[0m\u001b[0m\n",
      "\u001b[1;32m~\\anaconda3\\lib\\site-packages\\matplotlib\\patches.py\u001b[0m in \u001b[0;36mget_path_in_displaycoord\u001b[1;34m(self)\u001b[0m\n\u001b[0;32m   4232\u001b[0m             \u001b[0mposB\u001b[0m \u001b[1;33m=\u001b[0m \u001b[0mself\u001b[0m\u001b[1;33m.\u001b[0m\u001b[0m_convert_xy_units\u001b[0m\u001b[1;33m(\u001b[0m\u001b[0mself\u001b[0m\u001b[1;33m.\u001b[0m\u001b[0m_posA_posB\u001b[0m\u001b[1;33m[\u001b[0m\u001b[1;36m1\u001b[0m\u001b[1;33m]\u001b[0m\u001b[1;33m)\u001b[0m\u001b[1;33m\u001b[0m\u001b[1;33m\u001b[0m\u001b[0m\n\u001b[0;32m   4233\u001b[0m             \u001b[1;33m(\u001b[0m\u001b[0mposA\u001b[0m\u001b[1;33m,\u001b[0m \u001b[0mposB\u001b[0m\u001b[1;33m)\u001b[0m \u001b[1;33m=\u001b[0m \u001b[0mself\u001b[0m\u001b[1;33m.\u001b[0m\u001b[0mget_transform\u001b[0m\u001b[1;33m(\u001b[0m\u001b[1;33m)\u001b[0m\u001b[1;33m.\u001b[0m\u001b[0mtransform\u001b[0m\u001b[1;33m(\u001b[0m\u001b[1;33m(\u001b[0m\u001b[0mposA\u001b[0m\u001b[1;33m,\u001b[0m \u001b[0mposB\u001b[0m\u001b[1;33m)\u001b[0m\u001b[1;33m)\u001b[0m\u001b[1;33m\u001b[0m\u001b[1;33m\u001b[0m\u001b[0m\n\u001b[1;32m-> 4234\u001b[1;33m             _path = self.get_connectionstyle()(posA, posB,\n\u001b[0m\u001b[0;32m   4235\u001b[0m                                                \u001b[0mpatchA\u001b[0m\u001b[1;33m=\u001b[0m\u001b[0mself\u001b[0m\u001b[1;33m.\u001b[0m\u001b[0mpatchA\u001b[0m\u001b[1;33m,\u001b[0m\u001b[1;33m\u001b[0m\u001b[1;33m\u001b[0m\u001b[0m\n\u001b[0;32m   4236\u001b[0m                                                \u001b[0mpatchB\u001b[0m\u001b[1;33m=\u001b[0m\u001b[0mself\u001b[0m\u001b[1;33m.\u001b[0m\u001b[0mpatchB\u001b[0m\u001b[1;33m,\u001b[0m\u001b[1;33m\u001b[0m\u001b[1;33m\u001b[0m\u001b[0m\n",
      "\u001b[1;32m~\\anaconda3\\lib\\site-packages\\matplotlib\\patches.py\u001b[0m in \u001b[0;36m__call__\u001b[1;34m(self, posA, posB, shrinkA, shrinkB, patchA, patchB)\u001b[0m\n\u001b[0;32m   2774\u001b[0m \u001b[1;33m\u001b[0m\u001b[0m\n\u001b[0;32m   2775\u001b[0m             \u001b[0mclipped_path\u001b[0m \u001b[1;33m=\u001b[0m \u001b[0mself\u001b[0m\u001b[1;33m.\u001b[0m\u001b[0m_clip\u001b[0m\u001b[1;33m(\u001b[0m\u001b[0mpath\u001b[0m\u001b[1;33m,\u001b[0m \u001b[0mpatchA\u001b[0m\u001b[1;33m,\u001b[0m \u001b[0mpatchB\u001b[0m\u001b[1;33m)\u001b[0m\u001b[1;33m\u001b[0m\u001b[1;33m\u001b[0m\u001b[0m\n\u001b[1;32m-> 2776\u001b[1;33m             \u001b[0mshrunk_path\u001b[0m \u001b[1;33m=\u001b[0m \u001b[0mself\u001b[0m\u001b[1;33m.\u001b[0m\u001b[0m_shrink\u001b[0m\u001b[1;33m(\u001b[0m\u001b[0mclipped_path\u001b[0m\u001b[1;33m,\u001b[0m \u001b[0mshrinkA\u001b[0m\u001b[1;33m,\u001b[0m \u001b[0mshrinkB\u001b[0m\u001b[1;33m)\u001b[0m\u001b[1;33m\u001b[0m\u001b[1;33m\u001b[0m\u001b[0m\n\u001b[0m\u001b[0;32m   2777\u001b[0m \u001b[1;33m\u001b[0m\u001b[0m\n\u001b[0;32m   2778\u001b[0m             \u001b[1;32mreturn\u001b[0m \u001b[0mshrunk_path\u001b[0m\u001b[1;33m\u001b[0m\u001b[1;33m\u001b[0m\u001b[0m\n",
      "\u001b[1;32m~\\anaconda3\\lib\\site-packages\\matplotlib\\patches.py\u001b[0m in \u001b[0;36m_shrink\u001b[1;34m(self, path, shrinkA, shrinkB)\u001b[0m\n\u001b[0;32m   2753\u001b[0m                 \u001b[0minsideA\u001b[0m \u001b[1;33m=\u001b[0m \u001b[0minside_circle\u001b[0m\u001b[1;33m(\u001b[0m\u001b[1;33m*\u001b[0m\u001b[0mpath\u001b[0m\u001b[1;33m.\u001b[0m\u001b[0mvertices\u001b[0m\u001b[1;33m[\u001b[0m\u001b[1;36m0\u001b[0m\u001b[1;33m]\u001b[0m\u001b[1;33m,\u001b[0m \u001b[0mshrinkA\u001b[0m\u001b[1;33m)\u001b[0m\u001b[1;33m\u001b[0m\u001b[1;33m\u001b[0m\u001b[0m\n\u001b[0;32m   2754\u001b[0m                 \u001b[1;32mtry\u001b[0m\u001b[1;33m:\u001b[0m\u001b[1;33m\u001b[0m\u001b[1;33m\u001b[0m\u001b[0m\n\u001b[1;32m-> 2755\u001b[1;33m                     \u001b[0mleft\u001b[0m\u001b[1;33m,\u001b[0m \u001b[0mpath\u001b[0m \u001b[1;33m=\u001b[0m \u001b[0msplit_path_inout\u001b[0m\u001b[1;33m(\u001b[0m\u001b[0mpath\u001b[0m\u001b[1;33m,\u001b[0m \u001b[0minsideA\u001b[0m\u001b[1;33m)\u001b[0m\u001b[1;33m\u001b[0m\u001b[1;33m\u001b[0m\u001b[0m\n\u001b[0m\u001b[0;32m   2756\u001b[0m                 \u001b[1;32mexcept\u001b[0m \u001b[0mValueError\u001b[0m\u001b[1;33m:\u001b[0m\u001b[1;33m\u001b[0m\u001b[1;33m\u001b[0m\u001b[0m\n\u001b[0;32m   2757\u001b[0m                     \u001b[1;32mpass\u001b[0m\u001b[1;33m\u001b[0m\u001b[1;33m\u001b[0m\u001b[0m\n",
      "\u001b[1;32m~\\anaconda3\\lib\\site-packages\\matplotlib\\cbook\\deprecation.py\u001b[0m in \u001b[0;36mwrapper\u001b[1;34m(*args, **kwargs)\u001b[0m\n\u001b[0;32m    294\u001b[0m                 f\"for the old name will be dropped %(removal)s.\")\n\u001b[0;32m    295\u001b[0m             \u001b[0mkwargs\u001b[0m\u001b[1;33m[\u001b[0m\u001b[0mnew\u001b[0m\u001b[1;33m]\u001b[0m \u001b[1;33m=\u001b[0m \u001b[0mkwargs\u001b[0m\u001b[1;33m.\u001b[0m\u001b[0mpop\u001b[0m\u001b[1;33m(\u001b[0m\u001b[0mold\u001b[0m\u001b[1;33m)\u001b[0m\u001b[1;33m\u001b[0m\u001b[1;33m\u001b[0m\u001b[0m\n\u001b[1;32m--> 296\u001b[1;33m         \u001b[1;32mreturn\u001b[0m \u001b[0mfunc\u001b[0m\u001b[1;33m(\u001b[0m\u001b[1;33m*\u001b[0m\u001b[0margs\u001b[0m\u001b[1;33m,\u001b[0m \u001b[1;33m**\u001b[0m\u001b[0mkwargs\u001b[0m\u001b[1;33m)\u001b[0m\u001b[1;33m\u001b[0m\u001b[1;33m\u001b[0m\u001b[0m\n\u001b[0m\u001b[0;32m    297\u001b[0m \u001b[1;33m\u001b[0m\u001b[0m\n\u001b[0;32m    298\u001b[0m     \u001b[1;31m# wrapper() must keep the same documented signature as func(): if we\u001b[0m\u001b[1;33m\u001b[0m\u001b[1;33m\u001b[0m\u001b[1;33m\u001b[0m\u001b[0m\n",
      "\u001b[1;32m~\\anaconda3\\lib\\site-packages\\matplotlib\\bezier.py\u001b[0m in \u001b[0;36msplit_path_inout\u001b[1;34m(path, inside, tolerance, reorder_inout)\u001b[0m\n\u001b[0;32m    293\u001b[0m \u001b[1;33m\u001b[0m\u001b[0m\n\u001b[0;32m    294\u001b[0m     \u001b[0mbp\u001b[0m \u001b[1;33m=\u001b[0m \u001b[0mbezier_path\u001b[0m\u001b[1;33m.\u001b[0m\u001b[0mreshape\u001b[0m\u001b[1;33m(\u001b[0m\u001b[1;33m(\u001b[0m\u001b[1;33m-\u001b[0m\u001b[1;36m1\u001b[0m\u001b[1;33m,\u001b[0m \u001b[1;36m2\u001b[0m\u001b[1;33m)\u001b[0m\u001b[1;33m)\u001b[0m\u001b[1;33m\u001b[0m\u001b[1;33m\u001b[0m\u001b[0m\n\u001b[1;32m--> 295\u001b[1;33m     left, right = split_bezier_intersecting_with_closedpath(\n\u001b[0m\u001b[0;32m    296\u001b[0m         bp, inside, tolerance)\n\u001b[0;32m    297\u001b[0m     \u001b[1;32mif\u001b[0m \u001b[0mlen\u001b[0m\u001b[1;33m(\u001b[0m\u001b[0mleft\u001b[0m\u001b[1;33m)\u001b[0m \u001b[1;33m==\u001b[0m \u001b[1;36m2\u001b[0m\u001b[1;33m:\u001b[0m\u001b[1;33m\u001b[0m\u001b[1;33m\u001b[0m\u001b[0m\n",
      "\u001b[1;32m~\\anaconda3\\lib\\site-packages\\matplotlib\\cbook\\deprecation.py\u001b[0m in \u001b[0;36mwrapper\u001b[1;34m(*args, **kwargs)\u001b[0m\n\u001b[0;32m    294\u001b[0m                 f\"for the old name will be dropped %(removal)s.\")\n\u001b[0;32m    295\u001b[0m             \u001b[0mkwargs\u001b[0m\u001b[1;33m[\u001b[0m\u001b[0mnew\u001b[0m\u001b[1;33m]\u001b[0m \u001b[1;33m=\u001b[0m \u001b[0mkwargs\u001b[0m\u001b[1;33m.\u001b[0m\u001b[0mpop\u001b[0m\u001b[1;33m(\u001b[0m\u001b[0mold\u001b[0m\u001b[1;33m)\u001b[0m\u001b[1;33m\u001b[0m\u001b[1;33m\u001b[0m\u001b[0m\n\u001b[1;32m--> 296\u001b[1;33m         \u001b[1;32mreturn\u001b[0m \u001b[0mfunc\u001b[0m\u001b[1;33m(\u001b[0m\u001b[1;33m*\u001b[0m\u001b[0margs\u001b[0m\u001b[1;33m,\u001b[0m \u001b[1;33m**\u001b[0m\u001b[0mkwargs\u001b[0m\u001b[1;33m)\u001b[0m\u001b[1;33m\u001b[0m\u001b[1;33m\u001b[0m\u001b[0m\n\u001b[0m\u001b[0;32m    297\u001b[0m \u001b[1;33m\u001b[0m\u001b[0m\n\u001b[0;32m    298\u001b[0m     \u001b[1;31m# wrapper() must keep the same documented signature as func(): if we\u001b[0m\u001b[1;33m\u001b[0m\u001b[1;33m\u001b[0m\u001b[1;33m\u001b[0m\u001b[0m\n",
      "\u001b[1;32m~\\anaconda3\\lib\\site-packages\\matplotlib\\bezier.py\u001b[0m in \u001b[0;36msplit_bezier_intersecting_with_closedpath\u001b[1;34m(bezier, inside_closedpath, tolerance)\u001b[0m\n\u001b[0;32m    226\u001b[0m     \u001b[0mbezier_point_at_t\u001b[0m \u001b[1;33m=\u001b[0m \u001b[0mbz\u001b[0m\u001b[1;33m.\u001b[0m\u001b[0mpoint_at_t\u001b[0m\u001b[1;33m\u001b[0m\u001b[1;33m\u001b[0m\u001b[0m\n\u001b[0;32m    227\u001b[0m \u001b[1;33m\u001b[0m\u001b[0m\n\u001b[1;32m--> 228\u001b[1;33m     t0, t1 = find_bezier_t_intersecting_with_closedpath(\n\u001b[0m\u001b[0;32m    229\u001b[0m         bezier_point_at_t, inside_closedpath, tolerance=tolerance)\n\u001b[0;32m    230\u001b[0m \u001b[1;33m\u001b[0m\u001b[0m\n",
      "\u001b[1;32m~\\anaconda3\\lib\\site-packages\\matplotlib\\cbook\\deprecation.py\u001b[0m in \u001b[0;36mwrapper\u001b[1;34m(*args, **kwargs)\u001b[0m\n\u001b[0;32m    294\u001b[0m                 f\"for the old name will be dropped %(removal)s.\")\n\u001b[0;32m    295\u001b[0m             \u001b[0mkwargs\u001b[0m\u001b[1;33m[\u001b[0m\u001b[0mnew\u001b[0m\u001b[1;33m]\u001b[0m \u001b[1;33m=\u001b[0m \u001b[0mkwargs\u001b[0m\u001b[1;33m.\u001b[0m\u001b[0mpop\u001b[0m\u001b[1;33m(\u001b[0m\u001b[0mold\u001b[0m\u001b[1;33m)\u001b[0m\u001b[1;33m\u001b[0m\u001b[1;33m\u001b[0m\u001b[0m\n\u001b[1;32m--> 296\u001b[1;33m         \u001b[1;32mreturn\u001b[0m \u001b[0mfunc\u001b[0m\u001b[1;33m(\u001b[0m\u001b[1;33m*\u001b[0m\u001b[0margs\u001b[0m\u001b[1;33m,\u001b[0m \u001b[1;33m**\u001b[0m\u001b[0mkwargs\u001b[0m\u001b[1;33m)\u001b[0m\u001b[1;33m\u001b[0m\u001b[1;33m\u001b[0m\u001b[0m\n\u001b[0m\u001b[0;32m    297\u001b[0m \u001b[1;33m\u001b[0m\u001b[0m\n\u001b[0;32m    298\u001b[0m     \u001b[1;31m# wrapper() must keep the same documented signature as func(): if we\u001b[0m\u001b[1;33m\u001b[0m\u001b[1;33m\u001b[0m\u001b[1;33m\u001b[0m\u001b[0m\n",
      "\u001b[1;32m~\\anaconda3\\lib\\site-packages\\matplotlib\\bezier.py\u001b[0m in \u001b[0;36mfind_bezier_t_intersecting_with_closedpath\u001b[1;34m(bezier_point_at_t, inside_closedpath, t0, t1, tolerance)\u001b[0m\n\u001b[0;32m    153\u001b[0m         \u001b[1;31m# calculate the middle point\u001b[0m\u001b[1;33m\u001b[0m\u001b[1;33m\u001b[0m\u001b[1;33m\u001b[0m\u001b[0m\n\u001b[0;32m    154\u001b[0m         \u001b[0mmiddle_t\u001b[0m \u001b[1;33m=\u001b[0m \u001b[1;36m0.5\u001b[0m \u001b[1;33m*\u001b[0m \u001b[1;33m(\u001b[0m\u001b[0mt0\u001b[0m \u001b[1;33m+\u001b[0m \u001b[0mt1\u001b[0m\u001b[1;33m)\u001b[0m\u001b[1;33m\u001b[0m\u001b[1;33m\u001b[0m\u001b[0m\n\u001b[1;32m--> 155\u001b[1;33m         \u001b[0mmiddle\u001b[0m \u001b[1;33m=\u001b[0m \u001b[0mbezier_point_at_t\u001b[0m\u001b[1;33m(\u001b[0m\u001b[0mmiddle_t\u001b[0m\u001b[1;33m)\u001b[0m\u001b[1;33m\u001b[0m\u001b[1;33m\u001b[0m\u001b[0m\n\u001b[0m\u001b[0;32m    156\u001b[0m         \u001b[0mmiddle_inside\u001b[0m \u001b[1;33m=\u001b[0m \u001b[0minside_closedpath\u001b[0m\u001b[1;33m(\u001b[0m\u001b[0mmiddle\u001b[0m\u001b[1;33m)\u001b[0m\u001b[1;33m\u001b[0m\u001b[1;33m\u001b[0m\u001b[0m\n\u001b[0;32m    157\u001b[0m \u001b[1;33m\u001b[0m\u001b[0m\n",
      "\u001b[1;32m~\\anaconda3\\lib\\site-packages\\matplotlib\\bezier.py\u001b[0m in \u001b[0;36mpoint_at_t\u001b[1;34m(self, t)\u001b[0m\n\u001b[0;32m    194\u001b[0m     \u001b[1;32mdef\u001b[0m \u001b[0mpoint_at_t\u001b[0m\u001b[1;33m(\u001b[0m\u001b[0mself\u001b[0m\u001b[1;33m,\u001b[0m \u001b[0mt\u001b[0m\u001b[1;33m)\u001b[0m\u001b[1;33m:\u001b[0m\u001b[1;33m\u001b[0m\u001b[1;33m\u001b[0m\u001b[0m\n\u001b[0;32m    195\u001b[0m         \u001b[1;34m\"\"\"Return the point (x, y) at parameter *t*.\"\"\"\u001b[0m\u001b[1;33m\u001b[0m\u001b[1;33m\u001b[0m\u001b[0m\n\u001b[1;32m--> 196\u001b[1;33m         \u001b[0mtt\u001b[0m \u001b[1;33m=\u001b[0m \u001b[1;33m(\u001b[0m\u001b[1;33m(\u001b[0m\u001b[1;36m1\u001b[0m \u001b[1;33m-\u001b[0m \u001b[0mt\u001b[0m\u001b[1;33m)\u001b[0m \u001b[1;33m**\u001b[0m \u001b[0mself\u001b[0m\u001b[1;33m.\u001b[0m\u001b[0m_orders\u001b[0m\u001b[1;33m)\u001b[0m\u001b[1;33m[\u001b[0m\u001b[1;33m:\u001b[0m\u001b[1;33m:\u001b[0m\u001b[1;33m-\u001b[0m\u001b[1;36m1\u001b[0m\u001b[1;33m]\u001b[0m \u001b[1;33m*\u001b[0m \u001b[0mt\u001b[0m \u001b[1;33m**\u001b[0m \u001b[0mself\u001b[0m\u001b[1;33m.\u001b[0m\u001b[0m_orders\u001b[0m\u001b[1;33m\u001b[0m\u001b[1;33m\u001b[0m\u001b[0m\n\u001b[0m\u001b[0;32m    197\u001b[0m         \u001b[0m_x\u001b[0m \u001b[1;33m=\u001b[0m \u001b[0mnp\u001b[0m\u001b[1;33m.\u001b[0m\u001b[0mdot\u001b[0m\u001b[1;33m(\u001b[0m\u001b[0mtt\u001b[0m\u001b[1;33m,\u001b[0m \u001b[0mself\u001b[0m\u001b[1;33m.\u001b[0m\u001b[0m_px\u001b[0m\u001b[1;33m)\u001b[0m\u001b[1;33m\u001b[0m\u001b[1;33m\u001b[0m\u001b[0m\n\u001b[0;32m    198\u001b[0m         \u001b[0m_y\u001b[0m \u001b[1;33m=\u001b[0m \u001b[0mnp\u001b[0m\u001b[1;33m.\u001b[0m\u001b[0mdot\u001b[0m\u001b[1;33m(\u001b[0m\u001b[0mtt\u001b[0m\u001b[1;33m,\u001b[0m \u001b[0mself\u001b[0m\u001b[1;33m.\u001b[0m\u001b[0m_py\u001b[0m\u001b[1;33m)\u001b[0m\u001b[1;33m\u001b[0m\u001b[1;33m\u001b[0m\u001b[0m\n",
      "\u001b[1;31mKeyboardInterrupt\u001b[0m: "
     ]
    }
   ],
   "source": [
    "plot_tree(clf)"
   ]
  },
  {
   "cell_type": "code",
   "execution_count": 91,
   "metadata": {},
   "outputs": [],
   "source": [
    "from sklearn.ensemble import RandomForestClassifier"
   ]
  },
  {
   "cell_type": "code",
   "execution_count": null,
   "metadata": {},
   "outputs": [],
   "source": []
  },
  {
   "cell_type": "code",
   "execution_count": 93,
   "metadata": {},
   "outputs": [
    {
     "data": {
      "text/plain": [
       "RandomForestClassifier()"
      ]
     },
     "execution_count": 93,
     "metadata": {},
     "output_type": "execute_result"
    }
   ],
   "source": [
    "f_rf = RandomForestClassifier()\n",
    "f_rf.fit(X_train, y_train)"
   ]
  },
  {
   "cell_type": "code",
   "execution_count": 94,
   "metadata": {},
   "outputs": [
    {
     "name": "stdout",
     "output_type": "stream",
     "text": [
      "                              Model  Accuracy  Precision    Recall  F1 Score\n",
      "0               Logistic Regression  0.776833   0.000000  0.000000  0.000000\n",
      "1  Logistic Regression - with SMOTE  0.562833   0.301607  0.728902  0.426667\n",
      "2                     Decision Tree  0.723500   0.385714  0.403286  0.394304\n",
      "3               Random Forest(Gini)  0.818667   0.668005  0.372666  0.478428\n"
     ]
    }
   ],
   "source": [
    "\n",
    "\n",
    "# Predicting Test Set\n",
    "y_pred_rf = f_rf.predict(X_test)\n",
    "acc = accuracy_score(y_test, y_pred_rf)\n",
    "prec = precision_score(y_test, y_pred_rf)\n",
    "rec = recall_score(y_test, y_pred_rf)\n",
    "f1 = f1_score(y_test, y_pred_rf)\n",
    "\n",
    "model_results = pd.DataFrame([['Random Forest(Gini)', acc, prec, rec, f1]],\n",
    "               columns = ['Model', 'Accuracy', 'Precision', 'Recall', 'F1 Score'])\n",
    "\n",
    "results = results.append(model_results, ignore_index = True)\n",
    "print(results)"
   ]
  },
  {
   "cell_type": "code",
   "execution_count": 95,
   "metadata": {},
   "outputs": [
    {
     "name": "stdout",
     "output_type": "stream",
     "text": [
      "                              Model  Accuracy  Precision    Recall  F1 Score\n",
      "0               Logistic Regression  0.776833   0.000000  0.000000  0.000000\n",
      "1  Logistic Regression - with SMOTE  0.562833   0.301607  0.728902  0.426667\n",
      "2                     Decision Tree  0.723500   0.385714  0.403286  0.394304\n",
      "3               Random Forest(Gini)  0.818667   0.668005  0.372666  0.478428\n",
      "4            Random Forest(Entropy)  0.815667   0.652687  0.371919  0.473834\n"
     ]
    }
   ],
   "source": [
    "from sklearn.ensemble import RandomForestClassifier\n",
    "clf_rf = RandomForestClassifier(criterion='entropy')\n",
    "clf_rf.fit(X_train, y_train)\n",
    "\n",
    "# Predicting Test Set\n",
    "y_pred_rf = clf_rf.predict(X_test)\n",
    "acc = accuracy_score(y_test, y_pred_rf)\n",
    "prec = precision_score(y_test, y_pred_rf)\n",
    "rec = recall_score(y_test, y_pred_rf)\n",
    "f1 = f1_score(y_test, y_pred_rf)\n",
    "\n",
    "model_results = pd.DataFrame([['Random Forest(Entropy)', acc, prec, rec, f1]],\n",
    "               columns = ['Model', 'Accuracy', 'Precision', 'Recall', 'F1 Score'])\n",
    "\n",
    "results = results.append(model_results, ignore_index = True)\n",
    "print(results)"
   ]
  },
  {
   "cell_type": "code",
   "execution_count": 96,
   "metadata": {},
   "outputs": [],
   "source": [
    "from sklearn.neighbors import KNeighborsClassifier"
   ]
  },
  {
   "cell_type": "code",
   "execution_count": 97,
   "metadata": {},
   "outputs": [
    {
     "data": {
      "text/plain": [
       "KNeighborsClassifier(n_neighbors=4)"
      ]
     },
     "execution_count": 97,
     "metadata": {},
     "output_type": "execute_result"
    }
   ],
   "source": [
    "model_knn4 = KNeighborsClassifier(n_neighbors=4)\n",
    "model_knn4.fit(X_train,y_train)"
   ]
  },
  {
   "cell_type": "code",
   "execution_count": 98,
   "metadata": {},
   "outputs": [],
   "source": [
    "# Predicting Test Set N=4\n",
    "pred_knn4= model_knn4.predict(X_test)\n",
    "acc = accuracy_score(y_test, pred_knn4)\n",
    "prec = precision_score(y_test, pred_knn4)\n",
    "rec = recall_score(y_test, pred_knn4)\n",
    "f1 = f1_score(y_test, pred_knn4)\n",
    "\n",
    "model_results = pd.DataFrame([['KNN-4 neigbours', acc, prec, rec, f1]],\n",
    "               columns = ['Model', 'Accuracy', 'Precision', 'Recall', 'F1 Score'])\n",
    "\n",
    "results = results.append(model_results, ignore_index = True)"
   ]
  },
  {
   "cell_type": "code",
   "execution_count": 100,
   "metadata": {},
   "outputs": [
    {
     "name": "stdout",
     "output_type": "stream",
     "text": [
      "                              Model  Accuracy  Precision    Recall  F1 Score\n",
      "0               Logistic Regression  0.776833   0.000000  0.000000  0.000000\n",
      "1  Logistic Regression - with SMOTE  0.562833   0.301607  0.728902  0.426667\n",
      "2                     Decision Tree  0.723500   0.385714  0.403286  0.394304\n",
      "3               Random Forest(Gini)  0.818667   0.668005  0.372666  0.478428\n",
      "4            Random Forest(Entropy)  0.815667   0.652687  0.371919  0.473834\n",
      "5                   KNN-4 neigbours  0.766000   0.409972  0.110530  0.174118\n"
     ]
    }
   ],
   "source": [
    "print(results)"
   ]
  },
  {
   "cell_type": "code",
   "execution_count": 101,
   "metadata": {},
   "outputs": [
    {
     "data": {
      "image/png": "[encoded data removed]",
      "text/plain": [
       "<Figure size 576x360 with 1 Axes>"
      ]
     },
     "metadata": {
      "needs_background": "light"
     },
     "output_type": "display_data"
    }
   ],
   "source": [
    "plt.figure(figsize=(8,5))\n",
    "max_acc_index=results.Accuracy[results.Accuracy==results.Accuracy.max()].index[0]\n",
    "plt.barh(results.Model,results.Accuracy,color='c')\n",
    "plt.barh(results.Model[max_acc_index],results.Accuracy[max_acc_index],color='m')\n",
    "plt.show()"
   ]
  },
  {
   "cell_type": "code",
   "execution_count": 102,
   "metadata": {},
   "outputs": [
    {
     "data": {
      "image/png": "[encoded data removed]",
      "text/plain": [
       "<Figure size 576x360 with 1 Axes>"
      ]
     },
     "metadata": {
      "needs_background": "light"
     },
     "output_type": "display_data"
    }
   ],
   "source": [
    "plt.figure(figsize=(8,5))\n",
    "max_pre_index=results.Precision[results.Precision==results.Precision.max()].index[0]\n",
    "plt.barh(results.Model,results.Precision,color='c')\n",
    "plt.barh(results.Model[max_pre_index],results.Precision[max_pre_index],color='m')\n",
    "plt.show()"
   ]
  },
  {
   "cell_type": "code",
   "execution_count": 105,
   "metadata": {},
   "outputs": [
    {
     "data": {
      "image/png": "[encoded data removed]",
      "text/plain": [
       "<Figure size 576x360 with 1 Axes>"
      ]
     },
     "metadata": {
      "needs_background": "light"
     },
     "output_type": "display_data"
    }
   ],
   "source": [
    "plt.figure(figsize=(8,5))\n",
    "max_f1_index=results['F1 Score'][results['F1 Score']==results['F1 Score'].max()].index[0]\n",
    "plt.barh(results.Model,results['F1 Score'],color='c')\n",
    "plt.barh(results.Model[max_f1_index],results.Accuracy[max_f1_index],color='m')\n",
    "plt.show()"
   ]
  },
  {
   "cell_type": "code",
   "execution_count": null,
   "metadata": {},
   "outputs": [],
   "source": []
  }
 ],
 "metadata": {
  "kernelspec": {
   "display_name": "Python 3",
   "language": "python",
   "name": "python3"
  },
  "language_info": {
   "codemirror_mode": {
    "name": "ipython",
    "version": 3
   },
   "file_extension": ".py",
   "mimetype": "text/x-python",
   "name": "python",
   "nbconvert_exporter": "python",
   "pygments_lexer": "ipython3",
   "version": "3.8.3"
  }
 },
 "nbformat": 4,
 "nbformat_minor": 4
}
